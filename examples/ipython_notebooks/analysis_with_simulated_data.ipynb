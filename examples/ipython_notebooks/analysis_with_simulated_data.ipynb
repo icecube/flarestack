{
 "cells": [
  {
   "cell_type": "code",
   "execution_count": 1,
   "metadata": {},
   "outputs": [],
   "source": [
    "%matplotlib inline\n",
    "import matplotlib.pyplot as plt\n",
    "import numpy as np\n",
    "from flarestack import analyse, ResultsHandler\n",
    "from flarestack.data.simulate.potemkin import potemkin_dataset, IdealBackgroundFluxModel\n",
    "from flarestack.utils.prepare_catalogue import ps_catalogue_name\n",
    "from flarestack.data.public import icecube_ps_3_year\n",
    "from flarestack.shared import flux_to_k\n",
    "import logging\n",
    "logging.getLogger().setLevel(\"INFO\")"
   ]
  },
  {
   "cell_type": "code",
   "execution_count": 2,
   "metadata": {},
   "outputs": [
    {
     "name": "stderr",
     "output_type": "stream",
     "text": [
      "INFO:root:Found existing simulation at /Users/thomasahrens/Desktop/IceCube/flarestack/scratch/flarestack__data/input/sim_datasets/SimCube_default/IC86-2012/10274270429.662216//50000.0_50500.0.npy\n"
     ]
    }
   ],
   "source": [
    "# We create an imaginary dataset season, between 50000 MJD and 55000 MJD, with 100% uptime\n",
    "\n",
    "bkg_time_pdf_dict = {\n",
    "    \"time_pdf_name\": \"fixed_ref_box\",\n",
    "    \"fixed_ref_time_mjd\": 50000,\n",
    "    \"pre_window\": 0.,\n",
    "    \"post_window\": 500.,\n",
    "    \"livetime\": True\n",
    "}\n",
    "\n",
    "# We take the rough normalisation of the atmospheric flux, ~10^8 GeV cm^-2 s^-1 sr^-1 at ~200 TeV\n",
    "\n",
    "f_200tev = (10. ** -8.)\n",
    "flux_norm_1_gev = f_200tev * ((2.e5) ** 1.7)\n",
    "\n",
    "bkg_flux_model = IdealBackgroundFluxModel(\n",
    "    flux_norm_1_gev,\n",
    "    bkg_time_pdf_dict=bkg_time_pdf_dict,\n",
    ")\n",
    "\n",
    "# We create a simulated dataset, containg only background, using the published effective areas for IceCube with 86 strings 2012\n",
    "\n",
    "potemkin_dataset.set_sim_params(\n",
    "    name=\"IC86-2012\",\n",
    "    bkg_flux_model=bkg_flux_model,\n",
    "#     resimulate=True\n",
    ")"
   ]
  },
  {
   "cell_type": "code",
   "execution_count": 3,
   "metadata": {},
   "outputs": [],
   "source": [
    "# Setup analysis, injecting an E^-2 source\n",
    "\n",
    "inj_dict = {\n",
    "    \"injection_sig_time_pdf\": {\n",
    "        \"time_pdf_name\": \"steady\"\n",
    "    },\n",
    "    \"injection_energy_pdf\": {\n",
    "        \"energy_pdf_name\": \"power_law\",\n",
    "        \"gamma\": 3.7\n",
    "    }\n",
    "}\n",
    "\n",
    "# Perform a \"standard\" analysis (fitting spectral index and ns)\n",
    "\n",
    "llh_dict = {\n",
    "    \"llh_name\": \"spatial\",\n",
    "    \"llh_sig_time_pdf\": {\n",
    "        \"time_pdf_name\": \"steady\"\n",
    "    },\n",
    "    \"llh_bkg_time_pdf\":  {\n",
    "        \"time_pdf_name\": \"steady\"\n",
    "    },\n",
    "#     \"llh_energy_pdf\": {\n",
    "#         \"energy_pdf_name\": \"power_law\"\n",
    "#     }\n",
    "}\n",
    "\n",
    "# Analysis with \"source catalogue\" consisting of a single source at sindec=0.5\n",
    "\n",
    "mh_dict = {\n",
    "            \"name\": \"examples/analysis_with_sim\",\n",
    "            \"mh_name\": \"fixed_weights\",\n",
    "#             \"dataset\": potemkin_dataset.get_seasons(\"IC86-2012\"),\n",
    "            \"dataset\": icecube_ps_3_year.get_seasons(\"IC86-2012\"),\n",
    "#             \"catalogue\": ps_catalogue_name(0.5),\n",
    "            \"catalogue\": \"/Users/thomasahrens/Desktop/IceCube/sn-search/test_catalogue.npy\",\n",
    "            \"inj_dict\": inj_dict,\n",
    "            \"llh_dict\": llh_dict,\n",
    "            \"n_steps\": 5,\n",
    "            \"n_trials\": 10,\n",
    "            \"scale\": 800000.\n",
    "        }"
   ]
  },
  {
   "cell_type": "code",
   "execution_count": 4,
   "metadata": {},
   "outputs": [
    {
     "name": "stdout",
     "output_type": "stream",
     "text": [
      "<flarestack.data.simulate.potemkin.PotemkinSeason object at 0x14be217b0>\n"
     ]
    }
   ],
   "source": [
    "print(potemkin_dataset.get_single_season(\"IC86-2012\"))"
   ]
  },
  {
   "cell_type": "code",
   "execution_count": 5,
   "metadata": {},
   "outputs": [
    {
     "name": "stderr",
     "output_type": "stream",
     "text": [
      "WARNING:flarestack.cluster.submitter:No submitter implemented for host server None! Using LocalSubmitter but you wont't be able to use cluster operations!\n",
      "INFO:flarestack.core.minimisation:Using 'spatial' LLH class\n",
      "INFO:flarestack.core.injector:Initialising Injector for IC86-2012\n",
      "INFO:flarestack.core.minimisation:Using 'spatial' LLH class\n",
      "INFO:flarestack.core.multiprocess_wrapper:Added 140 trials to queue. Now processing.\n",
      "INFO:flarestack.core.multiprocess_wrapper:140 tasks remaining.\n",
      "INFO:flarestack.core.minimisation:Using 'spatial' LLH class\n",
      "/Users/thomasahrens/Desktop/IceCube/flarestack/flarestack/core/llh.py:436: VisibleDeprecationWarning: Creating an ndarray from ragged nested sequences (which is a list-or-tuple of lists-or-tuples-or ndarrays with different lengths or shapes) is deprecated. If you meant to do this, you must specify 'dtype=object' when creating the ndarray.\n",
      "  SoB_spacetime = np.array(SoB_spacetime)\n",
      "/Users/thomasahrens/Desktop/IceCube/flarestack/flarestack/core/llh.py:436: VisibleDeprecationWarning: Creating an ndarray from ragged nested sequences (which is a list-or-tuple of lists-or-tuples-or ndarrays with different lengths or shapes) is deprecated. If you meant to do this, you must specify 'dtype=object' when creating the ndarray.\n",
      "  SoB_spacetime = np.array(SoB_spacetime)\n",
      "INFO:flarestack.core.multiprocess_wrapper:34 tasks remaining.\n",
      "INFO:flarestack.core.multiprocess_wrapper:11 tasks remaining.\n",
      "INFO:flarestack.core.multiprocess_wrapper:Finished processing 140 tasks.\n",
      "INFO:flarestack.core.results:Saving bias plot to /Users/thomasahrens/Desktop/IceCube/flarestack/scratch/flarestack__data/output/plots/examples/analysis_with_sim/bias_n_s.pdf\n",
      "INFO:flarestack.core.results:Fraction of overfluctuations is 0.50 above 40.56 (N_trials=300) (Scale=0)\n",
      "INFO:flarestack.core.results:Fraction of overfluctuations is 0.60 above 40.56 (N_trials=30) (Scale=2E+05)\n",
      "INFO:flarestack.core.results:Fraction of overfluctuations is 0.63 above 40.56 (N_trials=30) (Scale=4E+05)\n",
      "INFO:flarestack.core.results:Fraction of overfluctuations is 0.47 above 40.56 (N_trials=30) (Scale=6E+05)\n",
      "INFO:flarestack.core.results:Fraction of overfluctuations is 0.53 above 40.56 (N_trials=30) (Scale=8E+05)\n",
      "WARNING:flarestack.core.results:The sensitivity is beyond the range of the tested scales.The number is probably not good.\n",
      "INFO:flarestack.core.results:EXTRAPOLATED Sensitivity is 0.00644\n",
      "INFO:flarestack.core.results:Fraction of overfluctuations is 0.00 above 101.98 (N_trials=300) (Scale=0)\n",
      "INFO:flarestack.core.results:Fraction of overfluctuations is 0.87 above 25 (N_trials=300) (Scale=0)\n",
      "INFO:flarestack.core.results:Fraction of overfluctuations is 0.00 above 101.98 (N_trials=30) (Scale=2E+05)\n",
      "INFO:flarestack.core.results:Fraction of overfluctuations is 0.87 above 25 (N_trials=30) (Scale=2E+05)\n",
      "INFO:flarestack.core.results:Fraction of overfluctuations is 0.00 above 101.98 (N_trials=30) (Scale=4E+05)\n",
      "INFO:flarestack.core.results:Fraction of overfluctuations is 0.97 above 25 (N_trials=30) (Scale=4E+05)\n",
      "INFO:flarestack.core.results:Fraction of overfluctuations is 0.00 above 101.98 (N_trials=30) (Scale=6E+05)\n",
      "INFO:flarestack.core.results:Fraction of overfluctuations is 0.93 above 25 (N_trials=30) (Scale=6E+05)\n",
      "INFO:flarestack.core.results:Fraction of overfluctuations is 0.00 above 101.98 (N_trials=30) (Scale=8E+05)\n",
      "INFO:flarestack.core.results:Fraction of overfluctuations is 0.90 above 25 (N_trials=30) (Scale=8E+05)\n",
      "INFO:flarestack.core.results:EXTRAPOLATED Discovery Potential is 1.28e+03\n",
      "INFO:flarestack.core.results:Discovery Potential (TS=25) is -5.7e-05\n"
     ]
    }
   ],
   "source": [
    "analyse(mh_dict, n_cpu=2, cluster=False)\n",
    "\n",
    "rh = ResultsHandler(mh_dict)"
   ]
  },
  {
   "cell_type": "code",
   "execution_count": null,
   "metadata": {},
   "outputs": [],
   "source": []
  }
 ],
 "metadata": {
  "kernelspec": {
   "display_name": "Python 3 (ipykernel)",
   "language": "python",
   "name": "python3"
  },
  "language_info": {
   "codemirror_mode": {
    "name": "ipython",
    "version": 3
   },
   "file_extension": ".py",
   "mimetype": "text/x-python",
   "name": "python",
   "nbconvert_exporter": "python",
   "pygments_lexer": "ipython3",
   "version": "3.10.4"
  }
 },
 "nbformat": 4,
 "nbformat_minor": 2
}
