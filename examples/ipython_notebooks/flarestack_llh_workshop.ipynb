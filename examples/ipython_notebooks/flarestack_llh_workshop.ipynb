{
 "cells": [
  {
   "cell_type": "markdown",
   "metadata": {},
   "source": [
    "# `flarestack` Test Minimization Notebook"
   ]
  },
  {
   "cell_type": "markdown",
   "metadata": {},
   "source": [
    "## 1. Directory Setup"
   ]
  },
  {
   "cell_type": "code",
   "execution_count": null,
   "metadata": {},
   "outputs": [],
   "source": [
    "import logging\n",
    "logging.basicConfig(level='INFO')"
   ]
  },
  {
   "cell_type": "code",
   "execution_count": null,
   "metadata": {},
   "outputs": [],
   "source": [
    "import os\n",
    "os.environ['FLARESTACK_SCRATCH_DIR']"
   ]
  },
  {
   "cell_type": "code",
   "execution_count": null,
   "metadata": {},
   "outputs": [],
   "source": [
    "from flarestack.shared import host_server\n",
    "from flarestack.data.icecube.ic_season import icecube_dataset_dir\n",
    "print(f'Running at {host_server}, data directory is {icecube_dataset_dir}')"
   ]
  },
  {
   "cell_type": "code",
   "execution_count": null,
   "metadata": {},
   "outputs": [],
   "source": [
    "from flarestack.shared import fs_scratch_dir\n",
    "print(f'Scratch directory is {fs_scratch_dir}')"
   ]
  },
  {
   "cell_type": "markdown",
   "metadata": {},
   "source": [
    "## 2. Flarestack Classes\n",
    "\n",
    "Classes used in $\\texttt{flarestack}$'s core functionality (e.g. `flarestack.core.energy_pdf.EnergyPDF`, `flarestack.core.minimisation.MinimisationHandler`, etc) have a class attribute `<class>.subclasses`.  \n",
    "This is a dictionary with the structure `{<subclass name>: <subclass>}`.  "
   ]
  },
  {
   "cell_type": "code",
   "execution_count": null,
   "metadata": {},
   "outputs": [],
   "source": [
    "from flarestack.core.minimisation import MinimisationHandler\n",
    "MinimisationHandler.subclasses"
   ]
  },
  {
   "cell_type": "markdown",
   "metadata": {},
   "source": [
    "For analyses we only have to pass a dictionary of the subclass names and corresponding parameters.  \n",
    "To execute use `flarestack.cluster.submitter.Submitter`. This always works locally. For using the cluster, again, if you are running at DESY or WIPAC, you do not have to worry. We got you covered."
   ]
  },
  {
   "cell_type": "code",
   "execution_count": null,
   "metadata": {},
   "outputs": [],
   "source": [
    "from flarestack.cluster.submitter import Submitter\n",
    "Submitter.submitter_dict"
   ]
  },
  {
   "cell_type": "markdown",
   "metadata": {},
   "source": [
    "## 3. Example: Point Source Sensitivity\n",
    "\n",
    "Let's try to calculate the 10-year point source sensitivity for our test catalogue.  \n",
    "The input directory (with the analysis dictionaries), the output directory (plots, p-values, etc) and the cache directory (saved trials, etc) will be created accordingly.   \n",
    "First we have to specify a name for the analysis."
   ]
  },
  {
   "cell_type": "code",
   "execution_count": null,
   "metadata": {},
   "outputs": [],
   "source": [
    "from flarestack.shared import plot_output_dir, name_pickle_output_dir\n",
    "from glob import glob"
   ]
  },
  {
   "cell_type": "code",
   "execution_count": null,
   "metadata": {},
   "outputs": [],
   "source": [
    "min_types = ('fixed', 'fit', 'mcmc', 'hmc')\n",
    "\n",
    "def name_func(n_sources, gamma, min_type, scale, etc=None):\n",
    "    \"\"\"Creates name for output analysis files.\n",
    "    \n",
    "    :param n_sources: Number of sources in catalog\n",
    "    :type n_sources: int\n",
    "    \n",
    "    :param gamma: Spectral index\n",
    "    :type n_sources: float\n",
    "    \n",
    "    :param min_type: Minimization method (see MinimisationHandler.subclasses)\n",
    "    :type n_sources: str\n",
    "    \n",
    "    :param etc: Additional simulation/run info\n",
    "    :type n_sources: str\n",
    "    \n",
    "    :return path: Path used as name\n",
    "    :rtype path: str\n",
    "    \"\"\"\n",
    "    run_no = 1\n",
    "    \n",
    "    if min_type not in min_types:\n",
    "        raise ValueError(f'Provide valid minimizer: {min_types}')\n",
    "        \n",
    "    path = f'analyses/{n_sources}source_gamma{gamma}_{min_type}_{scale}'\n",
    "    \n",
    "    if etc is not None:\n",
    "        path += f'_{etc:s}'\n",
    "        \n",
    "    path += f'_run{run_no}'\n",
    "    \n",
    "    path_exist = os.path.exists(plot_output_dir(path)) or os.path.exists(name_pickle_output_dir(path))\n",
    "    \n",
    "    if path_exist:\n",
    "        # Automatically covers cases where run_no == (n_sources or gamma)\n",
    "        glob_path = path.split(f'_run{run_no}')[0]\n",
    "        # Get all runs with same path\n",
    "        previous_runs = glob(f'{name_pickle_output_dir(glob_path)}*')\n",
    "        print(path, previous_runs)\n",
    "        print(glob_path)\n",
    "        # Get run numbers for previous runs, convert strings to ints\n",
    "        run_nums = [int(i.split('_run')[1]) for i in previous_runs]\n",
    "        # Sort run numbers\n",
    "        run_nums.sort()\n",
    "        # Get last run number, increase index by 1\n",
    "        run_no = run_nums[-1] + 1\n",
    "        path = f'{glob_path}_run{run_no}'\n",
    "    else:\n",
    "        # Path DNE, unchanged path (run 1)\n",
    "        pass\n",
    "    \n",
    "    return path"
   ]
  },
  {
   "cell_type": "code",
   "execution_count": null,
   "metadata": {},
   "outputs": [],
   "source": [
    "name = name_func(n_sources=5, gamma=2.0, min_type='fit', scale='sumscale',\n",
    "                 etc='trials100_2012northertrack')\n",
    "name"
   ]
  },
  {
   "cell_type": "markdown",
   "metadata": {},
   "source": [
    "Our plot output directories will be:"
   ]
  },
  {
   "cell_type": "code",
   "execution_count": null,
   "metadata": {},
   "outputs": [],
   "source": [
    "from flarestack.shared import plot_output_dir, name_pickle_output_dir\n",
    "plot_output_dir(name), name_pickle_output_dir(name)"
   ]
  },
  {
   "cell_type": "markdown",
   "metadata": {},
   "source": [
    "Public 3-year point source data."
   ]
  },
  {
   "cell_type": "code",
   "execution_count": null,
   "metadata": {},
   "outputs": [],
   "source": [
    "# from flarestack.data.icecube import ps_v003_p02\n",
    "from flarestack.data.public import icecube_ps_3_year\n",
    "\n",
    "icecube_ps_3_year.items()"
   ]
  },
  {
   "cell_type": "markdown",
   "metadata": {},
   "source": [
    "IceCube northern tracks data."
   ]
  },
  {
   "cell_type": "code",
   "execution_count": null,
   "metadata": {},
   "outputs": [],
   "source": [
    "from flarestack.data.icecube.northern_tracks import nt_v002_p05\n",
    "\n",
    "nt_v002_p05.nt_v002_p05.items()"
   ]
  },
  {
   "cell_type": "code",
   "execution_count": null,
   "metadata": {},
   "outputs": [],
   "source": [
    "# from flarestack.data.icecube.ic_season import IceCubeDataset, icecube_dataset_dir\n",
    "# from flarestack.data.icecube.northern_tracks import NTSeason, get_diffuse_binning\n",
    "\n",
    "# nt_data_dir = icecube_dataset_dir + \"northern_tracks/version-002-p05/\"\n",
    "\n",
    "# nt_v002_p05 = IceCubeDataset()\n",
    "\n",
    "# sample_name = \"northern_tracks_v002_p05\"\n",
    "\n",
    "# def generate_diffuse_season(name):\n",
    "#     season = NTSeason(\n",
    "#         season_name=name,\n",
    "#         sample_name=sample_name,\n",
    "#         exp_path=nt_data_dir + \"dataset_8yr_fit_{0}_exp_compressed.npy\".format(name),\n",
    "#         mc_path=nt_data_dir + \"dataset_8yr_fit_{0}_MC_compressed.npy\".format(name),\n",
    "#         grl_path=nt_data_dir\n",
    "#         + \"GRL/dataset_8yr_fit_{0}_exp_compressed.npy\".format(name),\n",
    "#         sin_dec_bins=get_diffuse_binning(name)[0],\n",
    "#         log_e_bins=get_diffuse_binning(name)[1],\n",
    "#     )\n",
    "#     nt_v002_p05.add_season(season)\n",
    "    \n",
    "# seasons = [\"IC59\", \"IC79\", \"IC86_2011\", \"IC86_2012_16\"]\n",
    "\n",
    "# for season in seasons:\n",
    "#     generate_diffuse_season(season)\n",
    "    \n",
    "# nt_v002_p05.seasons"
   ]
  },
  {
   "cell_type": "markdown",
   "metadata": {},
   "source": [
    "We want to inject a steady neutrino signal with a power law spectrum with $\\gamma=2.5$. For other Energy or Time PDFs check `flarestack.core.energy_pdf` and `flarestack.core.time_pdf`.   \\\n",
    "This is as straight forward as:"
   ]
  },
  {
   "cell_type": "code",
   "execution_count": null,
   "metadata": {},
   "outputs": [],
   "source": [
    "injection_energy = {\n",
    "    \"energy_pdf_name\": \"power_law\",\n",
    "    \"gamma\": 2.0\n",
    "}\n",
    "\n",
    "injection_time = {\n",
    "    \"time_pdf_name\": \"steady\"\n",
    "}\n",
    "\n",
    "inj_kwargs = {\n",
    "    \"injection_energy_pdf\": injection_energy,\n",
    "    \"injection_sig_time_pdf\": injection_time\n",
    "}"
   ]
  },
  {
   "cell_type": "markdown",
   "metadata": {},
   "source": [
    "We are looking for a steady signal with a power law spectrum. \n",
    "We assume the background to be constant in time.  \n",
    "We want to use the \"standard\" point source likelihood. More likelihood implementations in `flarestack.core.llh`"
   ]
  },
  {
   "cell_type": "code",
   "execution_count": null,
   "metadata": {},
   "outputs": [],
   "source": [
    "llh_time = {\n",
    "    \"time_pdf_name\": \"steady\"\n",
    "}\n",
    "\n",
    "llh_energy = {\n",
    "    \"energy_pdf_name\": \"power_law\",\n",
    "}\n",
    "\n",
    "llh_time_bkg = {\n",
    "    \"time_pdf_name\": \"steady\"\n",
    "}\n",
    "\n",
    "llh_kwargs = {\n",
    "    \"llh_name\": \"standard\",\n",
    "    \"llh_energy_pdf\": llh_energy,\n",
    "    \"llh_sig_time_pdf\": llh_time,\n",
    "    \"llh_bkg_time_pdf\": llh_time_bkg\n",
    "}"
   ]
  },
  {
   "cell_type": "markdown",
   "metadata": {},
   "source": [
    "We need a source catalogue. This catalogue will be a numpy array stored as a `.npy` file and we only pass the filename.   \n",
    "For point sources the is a uitility function to generate dummy sources."
   ]
  },
  {
   "cell_type": "code",
   "execution_count": null,
   "metadata": {},
   "outputs": [],
   "source": [
    "# from flarestack.utils.prepare_catalogue import ps_catalogue_name\n",
    "import numpy as np\n",
    "\n",
    "sindec = 0.5\n",
    "catalogue_path = \"/Users/thomasahrens/Desktop/IceCube/sn-search/catalog/test_catalogue_5.npy\"\n",
    "print(f'your catalogue is located at {catalogue_path}')\n",
    "catalogue = np.load(catalogue_path)\n",
    "catalogue"
   ]
  },
  {
   "cell_type": "markdown",
   "metadata": {},
   "source": [
    "Now we make a guess for our sensitivity.   \n",
    "Note: $\\texttt{flarestack}$ is using its own scale factor $k$."
   ]
  },
  {
   "cell_type": "code",
   "execution_count": null,
   "metadata": {},
   "outputs": [],
   "source": [
    "from flarestack.shared import flux_to_k, k_to_flux\n",
    "flux_to_k(1), flux_to_k(1e-9)"
   ]
  },
  {
   "cell_type": "markdown",
   "metadata": {},
   "source": [
    "Here we know where the sensitivity should be. Because the analysis has been done before."
   ]
  },
  {
   "cell_type": "code",
   "execution_count": null,
   "metadata": {},
   "outputs": [],
   "source": [
    "logging.basicConfig(level='ERROR')\n",
    "from flarestack.icecube_utils.reference_sensitivity import reference_sensitivity\n",
    "scale = flux_to_k(reference_sensitivity(np.sin(catalogue['dec_rad']))) * 3\n",
    "scale"
   ]
  },
  {
   "cell_type": "markdown",
   "metadata": {},
   "source": [
    "Now we just have to put all the info into one dictionary to pass to the `MinimisationHandler`"
   ]
  },
  {
   "cell_type": "code",
   "execution_count": null,
   "metadata": {},
   "outputs": [],
   "source": [
    "mh_dict = {\n",
    "    \"name\": name,                                           # unique name for the analysis\n",
    "    \"mh_name\": \"fit_weights\",                               # name of the MinimisationHandler subcalss\n",
    "    \"dataset\": icecube_ps_3_year.get_seasons(),             # the neutrino dataset\n",
    "    \"catalogue\": catalogue_path,                            # path to the .npy catalogue file\n",
    "    \"inj_dict\": inj_kwargs,                                 # info for the Injector\n",
    "    \"llh_dict\": llh_kwargs,                                 # info for the LLH\n",
    "    \"scale\": np.sum(scale),                                 # a guess for the sensitivity scale\n",
    "    \"n_trials\": 100,                                        # number of trials to run (background trials will be run ten times this number!)\n",
    "    \"n_steps\": 10,                                          # number of steps when injecting signal\n",
    "    \"allow_extrapolated_sensitivity\": True                  # allow extrapolation in the sensitivity calculation (here we do because we only run very few trials)\n",
    "}"
   ]
  },
  {
   "cell_type": "markdown",
   "metadata": {},
   "source": [
    "To execute the analysis we defined above we create a submitter instance"
   ]
  },
  {
   "cell_type": "code",
   "execution_count": null,
   "metadata": {},
   "outputs": [],
   "source": [
    "submitter = Submitter.get_submitter(\n",
    "    mh_dict=mh_dict,                         # the analysis info\n",
    "    use_cluster=False,                       # run it on the cluster if True\n",
    "    n_cpu=7,                                # number of LOCAL CPUs to use, NOTE: the number of cluster CPUs has to be specified in the cluster_kwargs!\n",
    "    do_sensitivity_scale_estimation=False,   # make a guess of the sensitivity scale, for options check flarestack.cluster.submitter\n",
    "    remove_old_results=True,                 # if you are running the analysis again and something changed, maybe you want to remove old trials?\n",
    "#   **cluster_kwargs                         # keyword arguments used when running the cluster, This depends on the cluster obviously\n",
    ")\n",
    "\n",
    "print(submitter)"
   ]
  },
  {
   "cell_type": "markdown",
   "metadata": {},
   "source": [
    "Energise ......"
   ]
  },
  {
   "cell_type": "code",
   "execution_count": null,
   "metadata": {
    "scrolled": false
   },
   "outputs": [],
   "source": [
    "# %prun -T prun.txt submitter.analyse()\n",
    "submitter.analyse()"
   ]
  },
  {
   "cell_type": "markdown",
   "metadata": {},
   "source": [
    "To get the results we use the `ResultsHandler()`. This will also create some plots like the sensitivity fit, bias plots, etc. in the plot directory. If `OverfluctuationError`, set `do_sens=False` and `do_disc=False` in `ResultsHandler()` object.\n",
    "\n",
    "```do_sens=False, do_disc=False```"
   ]
  },
  {
   "cell_type": "code",
   "execution_count": null,
   "metadata": {},
   "outputs": [],
   "source": [
    "from flarestack.core.results import ResultsHandler\n",
    "results_handler = ResultsHandler(submitter.mh_dict)\n",
    "# results_handler.__dict__"
   ]
  },
  {
   "cell_type": "code",
   "execution_count": null,
   "metadata": {},
   "outputs": [],
   "source": [
    "# Move \"prun.txt\" profiler file to output dir\n",
    "# os.rename(\"prun.txt\", os.path.join(plot_output_dir(name), \"prun.txt\"))"
   ]
  },
  {
   "cell_type": "code",
   "execution_count": null,
   "metadata": {},
   "outputs": [],
   "source": [
    "print(fr'sensitivity flux: {results_handler.sensitivity:.2e} +{results_handler.sensitivity_err[1]}  -{results_handler.sensitivity_err[0]}')\n",
    "print(f'reference: {reference_sensitivity(sindec)[0]}')\n",
    "print(fr'sensitivity n_s: {results_handler.sensitivity * results_handler.flux_to_ns:.2e} +{results_handler.sensitivity_err[1] * results_handler.flux_to_ns}  -{results_handler.sensitivity_err[0] * results_handler.flux_to_ns}')"
   ]
  },
  {
   "cell_type": "markdown",
   "metadata": {},
   "source": [
    "### MCMC seed values"
   ]
  },
  {
   "cell_type": "code",
   "execution_count": null,
   "metadata": {},
   "outputs": [],
   "source": [
    "from glob import glob\n",
    "import pickle"
   ]
  },
  {
   "cell_type": "code",
   "execution_count": null,
   "metadata": {},
   "outputs": [],
   "source": [
    "def means_and_dev(name):\n",
    "    \"\"\"Calculates mean and standard deviation from `fit_weights` minimizer\n",
    "    to then be input into `fit_weights_mcmc` minimizer.\n",
    "    \n",
    "    :param name: Analysis run name\n",
    "    :type name: str\n",
    "    \n",
    "    :return mu: List of average parameter (n_s, gamma) values\n",
    "    :rtype mu: list\n",
    "    \n",
    "    :return std: List of parameter (n_s, gamma) standard deviations\n",
    "    :rtype std: list\n",
    "    \"\"\"\n",
    "    path_to_pickles = os.path.join(name_pickle_output_dir(name), 'merged')\n",
    "    pickles = glob(os.path.join(path_to_pickles, '*.pkl'))\n",
    "    key_arrays = {}\n",
    "    \n",
    "    for pkl in pickles:\n",
    "        pickle_path = pkl\n",
    "\n",
    "        with open(pickle_path, 'rb') as file:\n",
    "            pickle_data = pickle.load(file)\n",
    "\n",
    "        if not key_arrays:\n",
    "            key_arrays = {key:[] for key in pickle_data['Parameters'].keys()}\n",
    "\n",
    "        for key, data in pickle_data['Parameters'].items():\n",
    "                key_arrays[key].append(data)\n",
    "        \n",
    "    mu = []\n",
    "    std = []\n",
    "\n",
    "    for key, data in key_arrays.items():\n",
    "        key_arrays[key] = np.array(sum(key_arrays[key], []))\n",
    "        mu.append(float(f'{np.mean(key_arrays[key]):0.4f}'))\n",
    "        std.append(float(f'{np.std(key_arrays[key]):0.4f}'))\n",
    "\n",
    "    print(f\"mu = {mu}\")\n",
    "    print(f\"std = {std}\")"
   ]
  },
  {
   "cell_type": "code",
   "execution_count": null,
   "metadata": {},
   "outputs": [],
   "source": [
    "means_and_dev(name)"
   ]
  },
  {
   "cell_type": "markdown",
   "metadata": {},
   "source": [
    "## 4. MCMC Analysis Plots"
   ]
  },
  {
   "cell_type": "code",
   "execution_count": null,
   "metadata": {},
   "outputs": [],
   "source": [
    "import pickle\n",
    "import corner\n",
    "import matplotlib.pyplot as plt"
   ]
  },
  {
   "cell_type": "code",
   "execution_count": null,
   "metadata": {
    "tags": []
   },
   "outputs": [],
   "source": [
    "# Path to MCMC pickle directory\n",
    "mcmc_pickle_path = os.path.join(name_pickle_output_dir(name), 'chains.pkl')\n",
    "\n",
    "with open(mcmc_pickle_path, 'rb') as file:\n",
    "    mcmc_pickle = pickle.load(file)\n",
    "    \n",
    "mcmc_pickle.shape"
   ]
  },
  {
   "cell_type": "code",
   "execution_count": null,
   "metadata": {},
   "outputs": [],
   "source": [
    "def labels(name):\n",
    "    corner_labels = []\n",
    "    for source in range(len(catalogue)):\n",
    "        corner_label = catalogue[source]['source_name'].decode()\n",
    "        corner_labels.append('n_s: ' + label)\n",
    "    corner_labels.append('gamma')\n",
    "    \n",
    "    return corner_labels"
   ]
  },
  {
   "cell_type": "markdown",
   "metadata": {},
   "source": [
    "### Corner Plot"
   ]
  },
  {
   "cell_type": "code",
   "execution_count": null,
   "metadata": {},
   "outputs": [],
   "source": [
    "def corner_plot(name, burn_in=0, save_fig=False, **kwargs):\n",
    "    mcmc_pickle_path = os.path.join(name_pickle_output_dir(name), 'chains.pkl')\n",
    "\n",
    "    with open(mcmc_pickle_path, 'rb') as file:\n",
    "        mcmc_pickle = pickle.load(file)\n",
    "        \n",
    "    corner_labels = labels(name)\n",
    "\n",
    "    truths = np.append(scale / 3, injection_energy['gamma'])\n",
    "    \n",
    "    reshaped_steps = mcmc_pickle[burn_in:].reshape((-1,ndim))\n",
    "    \n",
    "    fig = corner.corner(reshaped_steps, bins=30,\n",
    "                        labels=corner_labels,\n",
    "                        quantiles=[0.16, 0.5, 0.84],\n",
    "                        truths=truths,\n",
    "                        use_math_text=True,\n",
    "                        show_titles=True, \n",
    "                        title_kwargs={\"fontsize\": 10},\n",
    "                        plot_datapoints=False, \n",
    "                        **kwargs)\n",
    "    \n",
    "    if save_fig:\n",
    "        plt.savefig(os.path.join(plot_output_dir(name), 'corner.png'))"
   ]
  },
  {
   "cell_type": "code",
   "execution_count": null,
   "metadata": {},
   "outputs": [],
   "source": [
    "# Corner plot with burn in\n",
    "corner_plot(name)"
   ]
  },
  {
   "cell_type": "code",
   "execution_count": null,
   "metadata": {},
   "outputs": [],
   "source": [
    "# Corner plot without brun in, save figure\n",
    "# corner_plot(name, burn_in=2000, save_fig=True)"
   ]
  },
  {
   "cell_type": "markdown",
   "metadata": {},
   "source": [
    "### Walker Steps"
   ]
  },
  {
   "cell_type": "code",
   "execution_count": null,
   "metadata": {},
   "outputs": [],
   "source": [
    "def walker_plot(name, n_steps, save_fig=False):\n",
    "    ndim = len(catalogue) + 1\n",
    "    fig, axes = plt.subplots(ndim, figsize=(15, 8), sharex=True)\n",
    "    # samples = sampler.get_chain()\n",
    "    walker_labels = labels(name)\n",
    "    for i in range(ndim):\n",
    "        ax = axes[i]\n",
    "        ax.plot(mcmc_pickle[:, :, i], \"k\", alpha=0.1)\n",
    "        ax.set_xlim(0, len(mcmc_pickle[:n_steps]))\n",
    "        ax.set_ylabel(walker_labels[i], rotation=0, ha='right')\n",
    "        ax.yaxis.set_label_coords(-0.05, 0.5)\n",
    "\n",
    "    axes[-1].set_xlabel(\"step number\")\n",
    "    fig.tight_layout\n",
    "    \n",
    "    if save_fig:\n",
    "        plt.savefig(os.path.join(plot_output_dir(name), 'walkers.png'))"
   ]
  },
  {
   "cell_type": "code",
   "execution_count": null,
   "metadata": {},
   "outputs": [],
   "source": [
    "# Plot walkers, save figure \n",
    "walker_plot(name, n_steps=len(mcmc_pickle), save_fig=True)"
   ]
  },
  {
   "cell_type": "code",
   "execution_count": null,
   "metadata": {},
   "outputs": [],
   "source": [
    "# Plot first 1000 steps\n",
    "walker_plot(name, n_steps=1000)"
   ]
  },
  {
   "cell_type": "markdown",
   "metadata": {},
   "source": [
    "### Autocorrelation Function"
   ]
  },
  {
   "cell_type": "code",
   "execution_count": null,
   "metadata": {},
   "outputs": [],
   "source": [
    "import emcee.autocorr as eac"
   ]
  },
  {
   "cell_type": "code",
   "execution_count": null,
   "metadata": {},
   "outputs": [],
   "source": [
    "eac.function_1d(mcmc_pickle[:,0,2])"
   ]
  },
  {
   "cell_type": "code",
   "execution_count": null,
   "metadata": {
    "scrolled": false
   },
   "outputs": [],
   "source": [
    "fig, axes = plt.subplots(ndim, figsize=(15, 8), sharex=True)\n",
    "# samples = sampler.get_chain()\n",
    "labels = corner_labels\n",
    "for i in range(ndim):\n",
    "    ax = axes[i]\n",
    "    ax.plot(eac.function_1d(mcmc_pickle[:,0,i]), \"k\", alpha=0.1)\n",
    "    ax.axvline(3 * eac.integrated_time(mcmc_pickle[:,0,:], quiet=True)[0], 0, 1)\n",
    "#     ax.set_xlim(0, len(mcmc_pickle[:500]))\n",
    "    ax.set_ylabel(labels[i], rotation=0, ha='right')\n",
    "    ax.yaxis.set_label_coords(-0.05, 0.5)\n",
    "\n",
    "axes[-1].set_xlabel(\"step number\");"
   ]
  },
  {
   "cell_type": "code",
   "execution_count": null,
   "metadata": {},
   "outputs": [],
   "source": [
    "for i in range(ndim):\n",
    "    q_16, q_50, q_84 = corner.quantile(no_burn[:,i], [0.16, 0.5, 0.84]) # your x is q_50\n",
    "    dx_down, dx_up = q_50-q_16, q_84-q_50\n",
    "    print(f'{i:>3d} {corner_labels[i]:>40s} : {q_50:>7.2f} [{dx_down:<4.2f}, {dx_up:<4.2f}]')"
   ]
  },
  {
   "cell_type": "code",
   "execution_count": null,
   "metadata": {},
   "outputs": [],
   "source": [
    "nsteps, nwalkers, nparams = mcmc_pickle.shape\n",
    "acf = np.zeros(shape=(nsteps, nparams))\n",
    "for i in range(nparams):\n",
    "    temp = np.zeros(shape=(nsteps, nwalkers))\n",
    "    for x in range(nwalkers):\n",
    "        temp[:,x] = eac.function_1d(mcmc_pickle[:,x,i])\n",
    "    acf[:,i] = temp.mean(axis=1)\n",
    "    \n",
    "acf"
   ]
  },
  {
   "cell_type": "code",
   "execution_count": null,
   "metadata": {},
   "outputs": [],
   "source": [
    "# First n steps\n",
    "n = 700\n",
    "fig, axes = plt.subplots(ndim, figsize=(15, 8), sharex=True)\n",
    "# samples = sampler.get_chain()\n",
    "labels = corner_labels\n",
    "act = eac.integrated_time(mcmc_pickle[:,:,:], quiet=True)\n",
    "for i in range(ndim):\n",
    "    ax = axes[i]\n",
    "    ax.plot(acf[:,i], \"k\", alpha=0.5)\n",
    "    ax.axvline(act[i], 0, 1)\n",
    "    ax.set_xlim(0, len(mcmc_pickle[:n]))\n",
    "    ax.set_ylabel(labels[i], rotation=0, ha='right')\n",
    "    ax.yaxis.set_label_coords(-0.05, 0.5)\n",
    "\n",
    "axes[-1].set_xlabel(\"step number\");"
   ]
  },
  {
   "cell_type": "code",
   "execution_count": null,
   "metadata": {},
   "outputs": [],
   "source": []
  }
 ],
 "metadata": {
  "kernelspec": {
   "display_name": "Python 3 (ipykernel)",
   "language": "python",
   "name": "python3"
  },
  "language_info": {
   "codemirror_mode": {
    "name": "ipython",
    "version": 3
   },
   "file_extension": ".py",
   "mimetype": "text/x-python",
   "name": "python",
   "nbconvert_exporter": "python",
   "pygments_lexer": "ipython3",
   "version": "3.10.4"
  }
 },
 "nbformat": 4,
 "nbformat_minor": 4
}
