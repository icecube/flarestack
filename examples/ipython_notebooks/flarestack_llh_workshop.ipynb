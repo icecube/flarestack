{
 "cells": [
  {
   "cell_type": "markdown",
   "metadata": {},
   "source": [
    "# Introduction to $\\texttt{flarestack}$\n",
    "### Links ###\n",
    "* Slides:  https://events.icecube.wisc.edu/event/140/contributions/7689/attachments/6114/7347/IceCube_tech_workshop_flarestack.pdf\n",
    "* GitHub: https://github.com/icecube/flarestack\n",
    "* More examples: https://mybinder.org/v2/gh/icecube/flarestack/master\n",
    "\n",
    "### Logging ###\n",
    "$\\texttt{flarestack}$ uses logging. So to get an idea of what is going on, let's turn it on!  \\\n",
    "(We will use the INFO level. If you run into a problem and really want to know what's going on use DEBUG)"
   ]
  },
  {
   "cell_type": "code",
   "execution_count": 1,
   "metadata": {},
   "outputs": [],
   "source": [
    "import logging\n",
    "logging.basicConfig(level='INFO')"
   ]
  },
  {
   "cell_type": "markdown",
   "metadata": {},
   "source": [
    "## 1. Installation ##\n",
    "Execute\n",
    "```bash\n",
    "pip install --prefix=/path/to/lib flarestack\n",
    "```\n",
    "to install $\\texttt{flarestack}$ into `/path/to/lib` space ***prior to executing this notebook***.\n",
    "This will also install all necessary dependencies.  \n",
    "For the purpose of this workshop: `path/to/lib=/scratch/<your_username>/`\n",
    "\n",
    "### Set up external directories ###\n",
    "\n",
    "To specify your **dataset directory** do\n",
    "```bash\n",
    "export FLARESTACK_DATASET_DIR=/path/to/datasets\n",
    "```\n",
    "If you are running at DESY or WIPAC this is not necesarry.  \n",
    "The code products such as data, plots, caches, etc will be stored in a separate scratch directory.\n",
    "To specify run\n",
    "```bash\n",
    "export FLARESTACK_SCRATCH_DIR=/path/to/scratch\n",
    "```\n",
    "If not given, defaults to home directory. For now we can use `/scratch/<your_username>/flarestack_scratch`"
   ]
  },
  {
   "cell_type": "code",
   "execution_count": 2,
   "metadata": {},
   "outputs": [
    {
     "name": "stderr",
     "output_type": "stream",
     "text": [
      "INFO:flarestack.shared:Scratch Directory is: /afs/ifh.de/user/n/neckerja/scratch/fs_dev_branch/flarestack__data/\n",
      "INFO:flarestack.shared:Found Directory: /afs/ifh.de/user/n/neckerja/scratch/fs_dev_branch/flarestack__data/\n",
      "INFO:flarestack.shared:Found Directory: /afs/ifh.de/user/n/neckerja/scratch/fs_dev_branch/flarestack__data/input/\n",
      "INFO:flarestack.shared:Found Directory: /afs/ifh.de/user/n/neckerja/scratch/fs_dev_branch/flarestack__data/storage/\n",
      "INFO:flarestack.shared:Found Directory: /afs/ifh.de/user/n/neckerja/scratch/fs_dev_branch/flarestack__data/output/\n",
      "INFO:flarestack.shared:Found Directory: /afs/ifh.de/user/n/neckerja/scratch/fs_dev_branch/flarestack__data/cluster/\n",
      "INFO:flarestack.shared:Found Directory: /afs/ifh.de/user/n/neckerja/scratch/fs_dev_branch/flarestack__data/input/pull_corrections/\n",
      "INFO:flarestack.shared:Found Directory: /afs/ifh.de/user/n/neckerja/scratch/fs_dev_branch/flarestack__data/cluster/logs/\n",
      "INFO:flarestack.shared:Found Directory: /afs/ifh.de/user/n/neckerja/scratch/fs_dev_branch/flarestack__data/input/catalogues/\n",
      "INFO:flarestack.shared:Found Directory: /afs/ifh.de/user/n/neckerja/scratch/fs_dev_branch/flarestack__data/input/acceptance_functions/\n",
      "INFO:flarestack.shared:Found Directory: /afs/ifh.de/user/n/neckerja/scratch/fs_dev_branch/flarestack__data/input/energy_pdf_splines/\n",
      "INFO:flarestack.shared:Found Directory: /afs/ifh.de/user/n/neckerja/scratch/fs_dev_branch/flarestack__data/storage/pickles/\n",
      "INFO:flarestack.shared:Found Directory: /afs/ifh.de/user/n/neckerja/scratch/fs_dev_branch/flarestack__data/output/plots/\n",
      "INFO:flarestack.shared:Found Directory: /afs/ifh.de/user/n/neckerja/scratch/fs_dev_branch/flarestack__data/input/SoB_splines/\n",
      "INFO:flarestack.shared:Found Directory: /afs/ifh.de/user/n/neckerja/scratch/fs_dev_branch/flarestack__data/input/analysis/\n",
      "INFO:flarestack.shared:Found Directory: /afs/ifh.de/user/n/neckerja/scratch/fs_dev_branch/flarestack__data/output/plots/illustrations/\n",
      "INFO:flarestack.shared:Found Directory: /afs/ifh.de/user/n/neckerja/scratch/fs_dev_branch/flarestack__data/input/catalogues/transients/\n",
      "INFO:flarestack.shared:Found Directory: /afs/ifh.de/user/n/neckerja/scratch/fs_dev_branch/flarestack__data/input/bkg_splines/\n",
      "INFO:flarestack.shared:Found Directory: /afs/ifh.de/user/n/neckerja/scratch/fs_dev_branch/flarestack__data/output/dataset_plots/\n",
      "INFO:flarestack.shared:Found Directory: /afs/ifh.de/user/n/neckerja/scratch/fs_dev_branch/flarestack__data/output/unblinding_results/\n",
      "INFO:flarestack.shared:Found Directory: /afs/ifh.de/user/n/neckerja/scratch/fs_dev_branch/flarestack__data/output/limits/\n",
      "INFO:flarestack.shared:Found Directory: /afs/ifh.de/user/n/neckerja/scratch/fs_dev_branch/flarestack__data/input/pull_corrections/pulls/\n",
      "INFO:flarestack.shared:Found Directory: /afs/ifh.de/user/n/neckerja/scratch/fs_dev_branch/flarestack__data/input/pull_corrections/floors/\n",
      "INFO:flarestack.shared:Found Directory: /afs/ifh.de/user/n/neckerja/scratch/fs_dev_branch/flarestack__data/storage/cache/\n",
      "INFO:flarestack.shared:Found Directory: /afs/ifh.de/user/n/neckerja/scratch/fs_dev_branch/flarestack__data/storage/cache/catalogue_cache/\n",
      "INFO:flarestack.shared:Found Directory: /afs/ifh.de/user/n/neckerja/scratch/fs_dev_branch/flarestack__data/input/public_datasets/\n",
      "INFO:flarestack.shared:Found Directory: /afs/ifh.de/user/n/neckerja/scratch/fs_dev_branch/flarestack__data/input/energy_proxy_weighting/\n",
      "INFO:flarestack.shared:Found Directory: /afs/ifh.de/user/n/neckerja/scratch/fs_dev_branch/flarestack__data/output/dataset_plots/effective_area_plots/\n",
      "INFO:flarestack.shared:Found Directory: /afs/ifh.de/user/n/neckerja/scratch/fs_dev_branch/flarestack__data/input/median_angular_resolution/\n",
      "INFO:flarestack.shared:Found Directory: /afs/ifh.de/user/n/neckerja/scratch/fs_dev_branch/flarestack__data/output/dataset_plots/angular_resolution_plots/\n",
      "INFO:flarestack.shared:Found Directory: /afs/ifh.de/user/n/neckerja/scratch/fs_dev_branch/flarestack__data/output/dataset_plots/energy_proxy_map/\n",
      "INFO:flarestack.shared:Found Directory: /afs/ifh.de/user/n/neckerja/scratch/fs_dev_branch/flarestack__data/input/sim_datasets/\n",
      "INFO:numexpr.utils:Note: NumExpr detected 64 cores but \"NUMEXPR_MAX_THREADS\" not set, so enforcing safe limit of 8.\n",
      "INFO:numexpr.utils:NumExpr defaulting to 8 threads.\n",
      "INFO:flarestack.data.icecube.ic_season:Loading datasets from /lustre/fs22/group/icecube/data_mirror/ (DESY)\n"
     ]
    },
    {
     "name": "stdout",
     "output_type": "stream",
     "text": [
      "Running at DESY, data directory is /lustre/fs22/group/icecube/data_mirror/\n"
     ]
    }
   ],
   "source": [
    "from flarestack.shared import host_server\n",
    "from flarestack.data.icecube.ic_season import icecube_dataset_dir\n",
    "print(f'Running at {host_server}, data directory is {icecube_dataset_dir}')"
   ]
  },
  {
   "cell_type": "code",
   "execution_count": 3,
   "metadata": {},
   "outputs": [
    {
     "name": "stdout",
     "output_type": "stream",
     "text": [
      "Scratch directory is /afs/ifh.de/user/n/neckerja/scratch/fs_dev_branch/flarestack__data/\n"
     ]
    }
   ],
   "source": [
    "from flarestack.shared import fs_scratch_dir\n",
    "print(f'Scratch directory is {fs_scratch_dir}')"
   ]
  },
  {
   "cell_type": "markdown",
   "metadata": {},
   "source": [
    "## 2. Using Flarestack Classes\n",
    "\n",
    "Classes used in $\\texttt{flarestack}$'s core functionality (e.g. `flarestack.core.energy_pdf.EnergyPDF`, `flarestack.core.minimisation.MinimisationHandler`, etc) have a class attribute `<class>.subclasses`.  \n",
    "This is a dictionary with the structure `{<subclass name>: <subclass>}`.  "
   ]
  },
  {
   "cell_type": "code",
   "execution_count": 4,
   "metadata": {},
   "outputs": [
    {
     "data": {
      "text/plain": [
       "{'fixed_weights': flarestack.core.minimisation.FixedWeightMinimisationHandler,\n",
       " 'large_catalogue': flarestack.core.minimisation.LargeCatalogueMinimisationHandler,\n",
       " 'fit_weights': flarestack.core.minimisation.FitWeightMinimisationHandler,\n",
       " 'flare': flarestack.core.minimisation.FlareMinimisationHandler}"
      ]
     },
     "execution_count": 4,
     "metadata": {},
     "output_type": "execute_result"
    }
   ],
   "source": [
    "from flarestack.core.minimisation import MinimisationHandler\n",
    "MinimisationHandler.subclasses"
   ]
  },
  {
   "cell_type": "markdown",
   "metadata": {},
   "source": [
    "For analyses we only have to pass a dictionary of the subclass names and corresponding parameters.  \n",
    "To execute use `flarestack.cluster.submitter.Submitter`. This always works locally. For using the cluster, again, if you are running at DESY or WIPAC, you do not have to worry. We got you covered."
   ]
  },
  {
   "cell_type": "code",
   "execution_count": 5,
   "metadata": {},
   "outputs": [
    {
     "data": {
      "text/plain": [
       "{'local': flarestack.cluster.submitter.LocalSubmitter,\n",
       " 'DESY': flarestack.cluster.submitter.DESYSubmitter,\n",
       " 'WIPAC': flarestack.cluster.submitter.WIPACSubmitter}"
      ]
     },
     "execution_count": 5,
     "metadata": {},
     "output_type": "execute_result"
    }
   ],
   "source": [
    "from flarestack.cluster.submitter import Submitter\n",
    "Submitter.submitter_dict"
   ]
  },
  {
   "cell_type": "markdown",
   "metadata": {},
   "source": [
    "## 3. Example: Point Source Sensitivity ##\n",
    "\n",
    "Let's try to calculate the 10-year point source sensitivity for one declination.  \n",
    "First we have to specify a name for the analysis."
   ]
  },
  {
   "cell_type": "code",
   "execution_count": 6,
   "metadata": {},
   "outputs": [],
   "source": [
    "name = \"analyses/10yr_ps_sens_one_declination\""
   ]
  },
  {
   "cell_type": "markdown",
   "metadata": {},
   "source": [
    "The input directory (with the analysis dictionaries), the output directory (plots, p-values, etc) and the cache directory (saved trials, etc) will be created accordingly.   \n",
    "For example our plot output directory will be:"
   ]
  },
  {
   "cell_type": "code",
   "execution_count": 7,
   "metadata": {},
   "outputs": [
    {
     "data": {
      "text/plain": [
       "'/afs/ifh.de/user/n/neckerja/scratch/fs_dev_branch/flarestack__data/output/plots/analyses/10yr_ps_sens_one_declination'"
      ]
     },
     "execution_count": 7,
     "metadata": {},
     "output_type": "execute_result"
    }
   ],
   "source": [
    "from flarestack.shared import plot_output_dir\n",
    "plot_output_dir(name)"
   ]
  },
  {
   "cell_type": "markdown",
   "metadata": {},
   "source": [
    "Many dataset implementations are available in `flarestack.data`. We will use the PS Tracks v3.2"
   ]
  },
  {
   "cell_type": "code",
   "execution_count": 8,
   "metadata": {},
   "outputs": [],
   "source": [
    "from flarestack.data.icecube import ps_v003_p02"
   ]
  },
  {
   "cell_type": "markdown",
   "metadata": {},
   "source": [
    "We want to inject a steady neutrino signal with a power law spectrum with $\\gamma=2.5$. For other Energy or Time PDFs check `flarestack.core.energy_pdf` and `flarestack.core.time_pdf`.   \\\n",
    "This is as straight forward as:"
   ]
  },
  {
   "cell_type": "code",
   "execution_count": 9,
   "metadata": {},
   "outputs": [],
   "source": [
    "injection_energy = {\n",
    "    \"energy_pdf_name\": \"power_law\",\n",
    "    \"gamma\": 2.5\n",
    "}\n",
    "\n",
    "injection_time = {\n",
    "    \"time_pdf_name\": \"steady\"\n",
    "}\n",
    "\n",
    "inj_kwargs = {\n",
    "    \"injection_energy_pdf\": injection_energy,\n",
    "    \"injection_sig_time_pdf\": injection_time\n",
    "}"
   ]
  },
  {
   "cell_type": "markdown",
   "metadata": {},
   "source": [
    "We are looking for a steady signal with a power law spectrum. \n",
    "We assume the background to be constant in time.  \n",
    "We want to use the \"standard\" point source likelihood. More likelihood implementations in `flarestack.core.llh`"
   ]
  },
  {
   "cell_type": "code",
   "execution_count": 10,
   "metadata": {},
   "outputs": [],
   "source": [
    "llh_time = {\n",
    "    \"time_pdf_name\": \"steady\"\n",
    "}\n",
    "\n",
    "llh_energy = {\n",
    "    \"energy_pdf_name\": \"power_law\",\n",
    "}\n",
    "\n",
    "llh_time_bkg = {\n",
    "    \"time_pdf_name\": \"steady\"\n",
    "}\n",
    "\n",
    "llh_kwargs = {\n",
    "    \"llh_name\": \"standard\",\n",
    "    \"llh_energy_pdf\": llh_energy,\n",
    "    \"llh_sig_time_pdf\": llh_time,\n",
    "    \"llh_bkg_time_pdf\": llh_time_bkg\n",
    "}"
   ]
  },
  {
   "cell_type": "markdown",
   "metadata": {},
   "source": [
    "We need a source catalogue. This catalogue will be a numpy array stored as a `.npy` file and we only pass the filename.   \n",
    "For point sources the is a uitility function to generate dummy sources."
   ]
  },
  {
   "cell_type": "code",
   "execution_count": 11,
   "metadata": {},
   "outputs": [
    {
     "name": "stdout",
     "output_type": "stream",
     "text": [
      "your catalogue is located at /afs/ifh.de/user/n/neckerja/scratch/fs_dev_branch/flarestack__data/input/catalogues/single_source/sindec_0.50.npy\n"
     ]
    },
    {
     "data": {
      "text/plain": [
       "array([(3.14159265, 0.52359878, 1., 1., 55800.4164699, 55750.4164699, 55900.4164699, 1., b'PS_dec=0.5')],\n",
       "      dtype=[('ra_rad', '<f8'), ('dec_rad', '<f8'), ('base_weight', '<f8'), ('injection_weight_modifier', '<f8'), ('ref_time_mjd', '<f8'), ('start_time_mjd', '<f8'), ('end_time_mjd', '<f8'), ('distance_mpc', '<f8'), ('source_name', 'S30')])"
      ]
     },
     "execution_count": 11,
     "metadata": {},
     "output_type": "execute_result"
    }
   ],
   "source": [
    "from flarestack.utils.prepare_catalogue import ps_catalogue_name\n",
    "import numpy as np\n",
    "\n",
    "sindec = 0.5\n",
    "catalogue_path = ps_catalogue_name(sindec)\n",
    "print(f'your catalogue is located at {catalogue_path}')\n",
    "np.load(catalogue_path)"
   ]
  },
  {
   "cell_type": "markdown",
   "metadata": {},
   "source": [
    "Now we make a guess for our sensitivity.   \n",
    "Note: $\\texttt{flarestack}$ is using its own scale factor $k$"
   ]
  },
  {
   "cell_type": "code",
   "execution_count": 12,
   "metadata": {},
   "outputs": [
    {
     "data": {
      "text/plain": [
       "999999999.9999999"
      ]
     },
     "execution_count": 12,
     "metadata": {},
     "output_type": "execute_result"
    }
   ],
   "source": [
    "from flarestack.shared import flux_to_k\n",
    "flux_to_k(1)"
   ]
  },
  {
   "cell_type": "markdown",
   "metadata": {},
   "source": [
    "Here we know where the sensitivity should be. Because the analysis has been done before."
   ]
  },
  {
   "cell_type": "code",
   "execution_count": 13,
   "metadata": {},
   "outputs": [],
   "source": [
    "from flarestack.icecube_utils.reference_sensitivity import reference_sensitivity\n",
    "scale = flux_to_k(reference_sensitivity(sindec)) * 3"
   ]
  },
  {
   "cell_type": "markdown",
   "metadata": {},
   "source": [
    "Now we just have to put all the info into one dictionary to pass to the `MinimisationHanddler`"
   ]
  },
  {
   "cell_type": "code",
   "execution_count": 14,
   "metadata": {},
   "outputs": [],
   "source": [
    "mh_dict = {\n",
    "    \"name\": name,                               # unique name for the analysis\n",
    "    \"mh_name\": \"fixed_weights\",                 # name of the MinimisationHandler subcalss\n",
    "    \"dataset\": ps_v003_p02,                     # the neutrino dataset\n",
    "    \"catalogue\": catalogue_path,                # path to the .npy catalogue file\n",
    "    \"inj_dict\": inj_kwargs,                     # info for the Injector\n",
    "    \"llh_dict\": llh_kwargs,                     # info for the LLH\n",
    "    \"scale\": scale,                             # a guess for the sensitivity scale\n",
    "    \"n_trials\": 10,                             # number of trials to run (background trials will be run ten times this number!)\n",
    "    \"n_steps\": 10,                              # number of steps when injecting signal\n",
    "    \"allow_extrapolated_sensitivity\": True      # allow extrapolation in the sensitivity calculation (here we do because we only run very few trials)\n",
    "}"
   ]
  },
  {
   "cell_type": "markdown",
   "metadata": {},
   "source": [
    "To execute the analysis we defined above we create a submitter instance"
   ]
  },
  {
   "cell_type": "code",
   "execution_count": 15,
   "metadata": {},
   "outputs": [
    {
     "name": "stdout",
     "output_type": "stream",
     "text": [
      "\n",
      "----- Submitter for analyses/10yr_ps_sens_one_declination -----\n",
      "not using cluster \n",
      "using 1 CPUs locally\n",
      "job-id: None \n",
      "no scale estimation \n",
      "\n"
     ]
    }
   ],
   "source": [
    "submitter = Submitter.get_submitter(\n",
    "    mh_dict=mh_dict,                         # the analysis info\n",
    "    use_cluster=False,                       # run it on the cluster if True\n",
    "    n_cpu=1,                                 # number of LOCAL CPUs to use, NOTE: the number of cluster CPUs has to be specified in the cluster_kwargs!\n",
    "    do_sensitivity_scale_estimation=False,   # make a guess of the sensitivity scale, for options check flarestack.cluster.submitter\n",
    "    remove_old_results=True,                 # if you are running the analysis again and something changed, maybe you want to remove old trials?\n",
    "#   **cluster_kwargs                         # keyword arguments used when running the cluster, This depends on the cluster obviously\n",
    ")\n",
    "\n",
    "print(submitter)"
   ]
  },
  {
   "cell_type": "markdown",
   "metadata": {},
   "source": [
    "Energise ......"
   ]
  },
  {
   "cell_type": "code",
   "execution_count": 16,
   "metadata": {},
   "outputs": [
    {
     "name": "stderr",
     "output_type": "stream",
     "text": [
      "INFO:flarestack.core.minimisation:Using 'standard' LLH class\n",
      "INFO:flarestack.core.injector:Initialising Injector for IC40\n",
      "WARNING:flarestack.icecube_utils.dataset_loader:No field called 'good_i3' found in GoodRunList. Cannot check if all runs in GoodRunList are actually good.\n",
      "INFO:flarestack.core.injector:Initialising Injector for IC59\n",
      "WARNING:flarestack.icecube_utils.dataset_loader:No field called 'good_i3' found in GoodRunList. Cannot check if all runs in GoodRunList are actually good.\n",
      "INFO:flarestack.core.injector:Initialising Injector for IC79\n",
      "WARNING:flarestack.icecube_utils.dataset_loader:No field called 'good_i3' found in GoodRunList. Cannot check if all runs in GoodRunList are actually good.\n",
      "INFO:flarestack.core.injector:Initialising Injector for IC86_2011\n",
      "WARNING:flarestack.icecube_utils.dataset_loader:No field called 'good_i3' found in GoodRunList. Cannot check if all runs in GoodRunList are actually good.\n",
      "INFO:flarestack.core.injector:Initialising Injector for IC86_2012_17\n",
      "WARNING:flarestack.icecube_utils.dataset_loader:No field called 'good_i3' found in GoodRunList. Cannot check if all runs in GoodRunList are actually good.\n",
      "ERROR:flarestack.data.icecube.ic_season:The IceCube GoodRunList was not produced correctly.\n",
      "ERROR:flarestack.data.icecube.ic_season:Some runs in the GoodRunList start immediately after the preceding run ends.\n",
      "ERROR:flarestack.data.icecube.ic_season:There should be gaps between every run due to detector downtime, but some are missing here.\n",
      "ERROR:flarestack.data.icecube.ic_season:The first missing gap is between runs 120700 and 120701.\n",
      "ERROR:flarestack.data.icecube.ic_season:Any livetime estimates using this GoodRunList will not be accurate.\n",
      "ERROR:flarestack.data.icecube.ic_season:This is a known problem affecting older IceCube GoodRunLists.\n",
      "ERROR:flarestack.data.icecube.ic_season:You should use a newer, corrected GoodRunList.\n",
      "ERROR:flarestack.data.icecube.ic_season:Flarestack will attempt to stitch these runs together.\n",
      "ERROR:flarestack.data.icecube.ic_season:However, livetime estimates may be off by several percentage points, or even more for very short timescales.\n",
      "ERROR:flarestack.data.icecube.ic_season:You have been warned!\n",
      "ERROR:flarestack.data.icecube.ic_season:The IceCube GoodRunList was not produced correctly.\n",
      "ERROR:flarestack.data.icecube.ic_season:Some runs in the GoodRunList start before the preceding run has ended.\n",
      "ERROR:flarestack.data.icecube.ic_season:Under no circumstances should runs overlap.\n",
      "ERROR:flarestack.data.icecube.ic_season:The first overlap is between runs 126953 and 126954.\n",
      "ERROR:flarestack.data.icecube.ic_season:Any livetime estimates using this GoodRunList will not be accurate.\n",
      "ERROR:flarestack.data.icecube.ic_season:This is a known problem affecting older IceCube GoodRunLists.\n",
      "ERROR:flarestack.data.icecube.ic_season:You should use a newer, corrected GoodRunList.\n",
      "ERROR:flarestack.data.icecube.ic_season:Flarestack will attempt to stitch these runs together.\n",
      "ERROR:flarestack.data.icecube.ic_season:However, livetime estimates may be off by several percentage points, or even more for very short timescales.\n",
      "ERROR:flarestack.data.icecube.ic_season:You have been warned!\n",
      "INFO:flarestack.core.multiprocess_wrapper:Added 190 trials to queue. Now processing.\n",
      "INFO:flarestack.core.multiprocess_wrapper:190 tasks remaining.\n",
      "INFO:flarestack.core.minimisation:Using 'standard' LLH class\n",
      "INFO:flarestack.core.multiprocess_wrapper:146 tasks remaining.\n",
      "INFO:flarestack.core.multiprocess_wrapper:93 tasks remaining.\n",
      "INFO:flarestack.core.multiprocess_wrapper:43 tasks remaining.\n",
      "INFO:flarestack.core.multiprocess_wrapper:Finished processing 190 tasks.\n"
     ]
    }
   ],
   "source": [
    "submitter.analyse()"
   ]
  },
  {
   "cell_type": "markdown",
   "metadata": {},
   "source": [
    "To get the results we use the `ResultsHandler`. This will also create some plots like the sensitivity fit, bias plots, etc. in the plot directory."
   ]
  },
  {
   "cell_type": "code",
   "execution_count": 17,
   "metadata": {},
   "outputs": [
    {
     "name": "stderr",
     "output_type": "stream",
     "text": [
      "INFO:flarestack.core.results:Saving bias plot to /afs/ifh.de/user/n/neckerja/scratch/fs_dev_branch/flarestack__data/output/plots/analyses/10yr_ps_sens_one_declination/bias_n_s.pdf\n",
      "INFO:flarestack.core.results:Saving bias plot to /afs/ifh.de/user/n/neckerja/scratch/fs_dev_branch/flarestack__data/output/plots/analyses/10yr_ps_sens_one_declination/bias_gamma.pdf\n",
      "INFO:flarestack.core.results:Fraction of overfluctuations is 0.50 above 0.04 (N_trials=100) (Scale=0)\n",
      "INFO:flarestack.core.results:Fraction of overfluctuations is 0.20 above 0.04 (N_trials=10) (Scale=0.1924)\n",
      "INFO:flarestack.core.results:Fraction of overfluctuations is 0.60 above 0.04 (N_trials=10) (Scale=0.3847)\n",
      "INFO:flarestack.core.results:Fraction of overfluctuations is 0.40 above 0.04 (N_trials=10) (Scale=0.5771)\n",
      "INFO:flarestack.core.results:Fraction of overfluctuations is 0.80 above 0.04 (N_trials=10) (Scale=0.7695)\n",
      "INFO:flarestack.core.results:Fraction of overfluctuations is 0.70 above 0.04 (N_trials=10) (Scale=0.9618)\n",
      "INFO:flarestack.core.results:Fraction of overfluctuations is 0.50 above 0.04 (N_trials=10) (Scale=1.154)\n",
      "INFO:flarestack.core.results:Fraction of overfluctuations is 0.60 above 0.04 (N_trials=10) (Scale=1.347)\n",
      "INFO:flarestack.core.results:Fraction of overfluctuations is 0.30 above 0.04 (N_trials=10) (Scale=1.539)\n",
      "INFO:flarestack.core.results:Fraction of overfluctuations is 0.50 above 0.04 (N_trials=10) (Scale=1.731)\n",
      "WARNING:flarestack.core.results:The sensitivity is beyond the range of the tested scales.The number is probably not good.\n",
      "INFO:flarestack.core.results:EXTRAPOLATED Sensitivity is 4.22e-09\n",
      "INFO:flarestack.core.results:Fraction of overfluctuations is 0.00 above 26.63 (N_trials=100) (Scale=0)\n",
      "INFO:flarestack.core.results:Fraction of overfluctuations is 0.00 above 25 (N_trials=100) (Scale=0)\n",
      "INFO:flarestack.core.results:Fraction of overfluctuations is 0.00 above 26.63 (N_trials=10) (Scale=0.1924)\n",
      "INFO:flarestack.core.results:Fraction of overfluctuations is 0.00 above 25 (N_trials=10) (Scale=0.1924)\n",
      "INFO:flarestack.core.results:Fraction of overfluctuations is 0.00 above 26.63 (N_trials=10) (Scale=0.3847)\n",
      "INFO:flarestack.core.results:Fraction of overfluctuations is 0.00 above 25 (N_trials=10) (Scale=0.3847)\n",
      "INFO:flarestack.core.results:Fraction of overfluctuations is 0.00 above 26.63 (N_trials=10) (Scale=0.5771)\n",
      "INFO:flarestack.core.results:Fraction of overfluctuations is 0.00 above 25 (N_trials=10) (Scale=0.5771)\n",
      "INFO:flarestack.core.results:Fraction of overfluctuations is 0.00 above 26.63 (N_trials=10) (Scale=0.7695)\n",
      "INFO:flarestack.core.results:Fraction of overfluctuations is 0.00 above 25 (N_trials=10) (Scale=0.7695)\n",
      "INFO:flarestack.core.results:Fraction of overfluctuations is 0.00 above 26.63 (N_trials=10) (Scale=0.9618)\n",
      "INFO:flarestack.core.results:Fraction of overfluctuations is 0.00 above 25 (N_trials=10) (Scale=0.9618)\n",
      "INFO:flarestack.core.results:Fraction of overfluctuations is 0.00 above 26.63 (N_trials=10) (Scale=1.154)\n",
      "INFO:flarestack.core.results:Fraction of overfluctuations is 0.00 above 25 (N_trials=10) (Scale=1.154)\n",
      "INFO:flarestack.core.results:Fraction of overfluctuations is 0.00 above 26.63 (N_trials=10) (Scale=1.347)\n",
      "INFO:flarestack.core.results:Fraction of overfluctuations is 0.00 above 25 (N_trials=10) (Scale=1.347)\n",
      "INFO:flarestack.core.results:Fraction of overfluctuations is 0.00 above 26.63 (N_trials=10) (Scale=1.539)\n",
      "INFO:flarestack.core.results:Fraction of overfluctuations is 0.00 above 25 (N_trials=10) (Scale=1.539)\n",
      "INFO:flarestack.core.results:Fraction of overfluctuations is 0.00 above 26.63 (N_trials=10) (Scale=1.731)\n",
      "INFO:flarestack.core.results:Fraction of overfluctuations is 0.00 above 25 (N_trials=10) (Scale=1.731)\n",
      "WARNING:flarestack.core.results:RuntimeError for discovery potential: \n",
      " Optimal parameters not found: Number of calls to function has reached maxfev = 800.\n"
     ]
    }
   ],
   "source": [
    "from flarestack.core.results import ResultsHandler\n",
    "results_handler = ResultsHandler(submitter.mh_dict)"
   ]
  },
  {
   "cell_type": "code",
   "execution_count": 18,
   "metadata": {},
   "outputs": [
    {
     "name": "stdout",
     "output_type": "stream",
     "text": [
      "sensitivity flux: 4.22e-09 +3.73093684037954e-09  -1.348702961817186e-09\n",
      "reference: 5.770894709671131e-10\n",
      "sensitivity n_s: 5.39e-01 +0.4759829693036423  -0.1720639260162485\n"
     ]
    }
   ],
   "source": [
    "print(fr'sensitivity flux: {results_handler.sensitivity:.2e} +{results_handler.sensitivity_err[1]}  -{results_handler.sensitivity_err[0]}')\n",
    "print(f'reference: {reference_sensitivity(sindec)[0]}')\n",
    "print(fr'sensitivity n_s: {results_handler.sensitivity * results_handler.flux_to_ns:.2e} +{results_handler.sensitivity_err[1] * results_handler.flux_to_ns}  -{results_handler.sensitivity_err[0] * results_handler.flux_to_ns}')"
   ]
  },
  {
   "cell_type": "markdown",
   "metadata": {},
   "source": [
    "## 4. Example: Upper Limits\n",
    "\n",
    "There are some really useful functions in `flarestack.cosmo`!  \n",
    "\n",
    "Take the implementations of the IceCube diffuse flux measurements for example:"
   ]
  },
  {
   "cell_type": "code",
   "execution_count": 19,
   "metadata": {},
   "outputs": [
    {
     "data": {
      "text/plain": [
       "dict_keys(['joint_15', 'northern_tracks_16', 'northern_tracks_17', 'northern_tracks_19'])"
      ]
     },
     "execution_count": 19,
     "metadata": {},
     "output_type": "execute_result"
    }
   ],
   "source": [
    "from flarestack.cosmo.icecube_diffuse_flux import contours, get_diffuse_flux_contour\n",
    "contours.keys()"
   ]
  },
  {
   "cell_type": "code",
   "execution_count": 20,
   "metadata": {},
   "outputs": [
    {
     "name": "stderr",
     "output_type": "stream",
     "text": [
      "INFO:flarestack.cosmo.icecube_diffuse_flux:Loaded contour 'joint_15' from https://arxiv.org/abs/1507.03991\n",
      "INFO:flarestack.cosmo.icecube_diffuse_flux:Loaded contour 'northern_tracks_16' from https://arxiv.org/abs/1607.08006\n",
      "INFO:flarestack.cosmo.icecube_diffuse_flux:Loaded contour 'northern_tracks_17' from https://doi.org/10.22323/1.301.1005\n",
      "INFO:flarestack.cosmo.icecube_diffuse_flux:Loaded contour 'northern_tracks_19' from https://arxiv.org/abs/1908.09551\n"
     ]
    },
    {
     "data": {
      "image/png": "[encoded data removed]",
      "text/plain": [
       "<Figure size 432x288 with 1 Axes>"
      ]
     },
     "metadata": {
      "needs_background": "light"
     },
     "output_type": "display_data"
    }
   ],
   "source": [
    "import matplotlib.pyplot as plt\n",
    "\n",
    "plt.figure()\n",
    "ax = plt.subplot(111)\n",
    "\n",
    "for fit in contours.keys():\n",
    "\n",
    "    best_fit, upper_butterfly, lower_butterfly, e_range = get_diffuse_flux_contour(fit)\n",
    "    plt.plot(e_range, best_fit(e_range) * e_range**2, label=fit)\n",
    "    plt.fill_between(e_range, upper_butterfly(e_range)* e_range**2, lower_butterfly(e_range)* e_range**2, alpha=0.3)\n",
    "\n",
    "plt.yscale(\"log\")\n",
    "plt.xscale(\"log\")\n",
    "plt.xlabel(r\"$E_{\\nu}$\")\n",
    "plt.ylabel(r\"$E_{\\nu}^{2} \\frac{dN}{dE}$\")\n",
    "ax.legend(loc='upper center', bbox_to_anchor=(0.5, 1.4), ncol=2, fancybox=True, shadow=True, fontsize=12)\n",
    "plt.tight_layout()\n",
    "plt.show()\n",
    "plt.close()"
   ]
  },
  {
   "cell_type": "markdown",
   "metadata": {},
   "source": [
    "If you are interested in transients you also are at the right place!  \n",
    "With your favourte transients population's rate, the flux normaisation at 1 GeV and the corresponding spectral index you can easily get the rate in a redshift shell, the neutrino flux per source at a certain redshift, the neutrino flux per redshift and the cumulatice neutrino flux."
   ]
  },
  {
   "cell_type": "code",
   "execution_count": 21,
   "metadata": {},
   "outputs": [
    {
     "name": "stderr",
     "output_type": "stream",
     "text": [
      "INFO:flarestack.cosmo.rates:Loading source class 'frb'\n",
      "INFO:root:No evolution specified. Assuming default evolution.\n",
      "INFO:root:Loaded evolution 'madau_14' (http://arxiv.org/abs/1403.0007v3)\n",
      "INFO:root:No rate specified. Assuming default rate.\n",
      "INFO:root:Loaded rate 'bochenek_20' (https://arxiv.org/abs/2005.10828)\n"
     ]
    },
    {
     "data": {
      "image/png": "[encoded data removed]",
      "text/plain": [
       "<Figure size 360x864 with 4 Axes>"
      ]
     },
     "metadata": {
      "needs_background": "light"
     },
     "output_type": "display_data"
    }
   ],
   "source": [
    "from flarestack.cosmo.neutrino_cosmology import define_cosmology_functions\n",
    "from flarestack.cosmo.rates import get_rate\n",
    "from astropy import units as u\n",
    "\n",
    "frb_rate = get_rate('FRB')\n",
    "frb_dummy_flux = 2e+46 / u.GeV\n",
    "frb_example_gamma = 2\n",
    "\n",
    "rate_per_z, nu_flux_per_z, nu_flux_per_source, cumulative_nu_flux = define_cosmology_functions(frb_rate, frb_dummy_flux, frb_example_gamma)\n",
    "\n",
    "redshift = np.linspace(0.1, 4, 1000)\n",
    "\n",
    "fig, axs = plt.subplots(4, sharex='all', figsize=[5, 12])\n",
    "axs[0].plot(redshift, rate_per_z(redshift).to('yr-1').value)\n",
    "axs[0].set_ylabel('rate [yr$^{-1}$]')\n",
    "\n",
    "axs[1].plot(redshift, nu_flux_per_z(redshift).to('GeV-1 cm-2 s-1 sr-1').value)\n",
    "axs[1].set_ylabel(r'$\\nu$ flux per redshift [GeV$^{-1}$ cm$^{-2}$]')\n",
    "\n",
    "axs[2].plot(redshift, nu_flux_per_source(redshift).to('GeV-1 cm-2').value)\n",
    "axs[2].set_ylabel(r'$\\nu$ flux per source [GeV$^{-1}$ cm$^{-2}$]')\n",
    "\n",
    "axs[3].plot(redshift[1:-1], [i.to('1 / (cm2 GeV s sr)').value for i in cumulative_nu_flux(redshift)])\n",
    "axs[3].set_ylabel(r'cumulative $\\nu$ flux [GeV$^{-1}$ cm$^{-2}$]')\n",
    "plt.show()\n",
    "plt.close()"
   ]
  },
  {
   "cell_type": "markdown",
   "metadata": {},
   "source": [
    "NOTE: The result of `cumulative_nu_flux()` is already your result for the contribution of the popultion to the diffuse flux!  \n",
    "\n",
    "All the above is packed into one convenience function:"
   ]
  },
  {
   "cell_type": "code",
   "execution_count": 22,
   "metadata": {},
   "outputs": [],
   "source": [
    "from flarestack.cosmo.neutrino_cosmology import calculate_transient_cosmology"
   ]
  },
  {
   "cell_type": "markdown",
   "metadata": {},
   "source": [
    "Let's use this to get some actual super interesting, timely results and revisit the FRB  asscociated with the galactic Magnetar SGR 1935+2154 (https://arxiv.org/abs/2005.10828).  \n",
    "IceCube performed a search for neutrinos and found upper limits:\n",
    "```\n",
    "IceCube Limit is E^2 dN/dE = 5.2 × 10−2 GeV cm^-2 @ 1 GeV \n",
    "```\n",
    "(http://www.astronomerstelegram.org/?read=13689)  \\\n",
    "The Magnetar is 16 kpc away (conservative). Let's assume a spectrum with $\\gamma=2$"
   ]
  },
  {
   "cell_type": "code",
   "execution_count": 23,
   "metadata": {},
   "outputs": [
    {
     "name": "stderr",
     "output_type": "stream",
     "text": [
      "INFO:flarestack.core.energy_pdf:Minimum Energy is 1e+03 GeV.\n",
      "INFO:flarestack.core.energy_pdf:Maximum Energy is 1e+06 GeV.\n"
     ]
    }
   ],
   "source": [
    "from flarestack.core.energy_pdf import EnergyPDF\n",
    "\n",
    "dist = 16 * u.kpc\n",
    "atel_flux_norm_lim = 5.2 * 10**-2. * (u. GeV / u.cm**2) / u.GeV**2.\n",
    "\n",
    "e_pdf_dict = {\n",
    "    \"energy_pdf_name\": \"power_law\",\n",
    "    \"gamma\": 2.0,\n",
    "    \"e_min_gev\": 10.**3,\n",
    "    \"e_max_gev\": 10.**6,\n",
    "    \"nu_flux_at_1_gev\": atel_flux_norm_lim * 4 * np.pi * dist**2.\n",
    "}\n",
    "\n",
    "epdf = EnergyPDF.create(e_pdf_dict)"
   ]
  },
  {
   "cell_type": "markdown",
   "metadata": {},
   "source": [
    "With these information it is now super straight forward to get the upper limits from a population of FRB's, that share SGR 1935+2154's properties, assuming they are all standard candels:"
   ]
  },
  {
   "cell_type": "code",
   "execution_count": 24,
   "metadata": {},
   "outputs": [
    {
     "name": "stderr",
     "output_type": "stream",
     "text": [
      "INFO:flarestack.cosmo.icecube_diffuse_flux:Loaded contour 'joint_15' from https://arxiv.org/abs/1507.03991\n",
      "INFO:flarestack.cosmo.neutrino_cosmology:Using the joint_15 best fit values of the diffuse flux.\n",
      "INFO:flarestack.cosmo.neutrino_cosmology:Diffuse Flux at 1 GeV: 7.0624201077093805e-06 1 / (cm2 GeV s sr)\n",
      "INFO:flarestack.cosmo.neutrino_cosmology:Diffuse Spectral Index is 2.5\n",
      "INFO:flarestack.cosmo.neutrino_cosmology:Neutrino Flux at 1 GeV is 1.6e+45 1 / GeV\n",
      "INFO:flarestack.cosmo.neutrino_cosmology:Local rate is 0.072 1 / (Mpc3 yr)\n",
      "INFO:flarestack.cosmo.neutrino_cosmology:Cumulative sources at z=8.0: 2.9e+11\n",
      "INFO:flarestack.cosmo.neutrino_cosmology:Cumulative flux at z=8.0 (1 GeV): 2.4e-10 1 / (cm2 GeV s sr)\n",
      "INFO:flarestack.cosmo.neutrino_cosmology:Cumulative annual flux at z=8.0 (1 GeV): 0.0075 1 / (cm2 GeV sr)\n",
      "INFO:flarestack.cosmo.neutrino_cosmology:Fraction of diffuse flux at 1GeV: 3.4e-05\n",
      "INFO:flarestack.cosmo.neutrino_cosmology:Cumulative neutrino flux 2.4e-10 1 / (cm2 GeV s sr)\n",
      "INFO:flarestack.cosmo.neutrino_cosmology:Fraction of flux from nearby (z<0.1) sources: 0.057\n",
      "INFO:flarestack.cosmo.neutrino_cosmology:Fraction of flux from nearby (z<0.3) sources: 0.17\n"
     ]
    }
   ],
   "source": [
    "fit = \"joint_15\"\n",
    "integrated_nu_flux_1_gev = calculate_transient_cosmology(e_pdf_dict, frb_rate, \"frb_limit\", zmax=8.0, diffuse_fit=fit)"
   ]
  },
  {
   "cell_type": "markdown",
   "metadata": {},
   "source": [
    "Let's plot our very interesting findings so we can publish in a prestegious journal!"
   ]
  },
  {
   "cell_type": "code",
   "execution_count": 25,
   "metadata": {},
   "outputs": [
    {
     "name": "stderr",
     "output_type": "stream",
     "text": [
      "INFO:flarestack.cosmo.icecube_diffuse_flux:Loaded contour 'joint_15' from https://arxiv.org/abs/1507.03991\n"
     ]
    },
    {
     "data": {
      "image/png": "[encoded data removed]",
      "text/plain": [
       "<Figure size 432x288 with 1 Axes>"
      ]
     },
     "metadata": {
      "needs_background": "light"
     },
     "output_type": "display_data"
    }
   ],
   "source": [
    "best_fit, upper_butterfly, lower_butterfly, e_range = get_diffuse_flux_contour(fit=fit)\n",
    "\n",
    "\n",
    "plt.figure()\n",
    "plt.plot(e_range, best_fit(e_range) * e_range**2, label=\"IceCube Diffuse Flux\")\n",
    "plt.fill_between(e_range, upper_butterfly(e_range)* e_range**2, lower_butterfly(e_range)* e_range**2, alpha=0.3)\n",
    "x = [epdf.e_min, np.exp(0.5*(np.log(epdf.e_min) + np.log(epdf.e_max))), epdf.e_max]\n",
    "y = np.array([integrated_nu_flux_1_gev.value for _ in range(3)]) \n",
    "plt.errorbar(x, y, yerr=0.25*y, uplims=True, label='limit')\n",
    "plt.yscale(\"log\")\n",
    "plt.xscale(\"log\")\n",
    "plt.xlabel(r\"$E_{\\nu} [GeV] $\")\n",
    "plt.ylabel(r\"$E_{\\nu}^{2} \\frac{dN}{dE}$ [GeV cm$^{-2}$ s$^{-1}$ sr$^{-1}$]\")\n",
    "plt.legend()\n",
    "plt.show()\n",
    "plt.close()"
   ]
  },
  {
   "cell_type": "code",
   "execution_count": null,
   "metadata": {},
   "outputs": [],
   "source": []
  }
 ],
 "metadata": {
  "kernelspec": {
   "display_name": "Python 3",
   "language": "python",
   "name": "python3"
  },
  "language_info": {
   "codemirror_mode": {
    "name": "ipython",
    "version": 3
   },
   "file_extension": ".py",
   "mimetype": "text/x-python",
   "name": "python",
   "nbconvert_exporter": "python",
   "pygments_lexer": "ipython3",
   "version": "3.8.3"
  }
 },
 "nbformat": 4,
 "nbformat_minor": 4
}
