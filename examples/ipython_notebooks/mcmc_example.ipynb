{
 "cells": [
  {
   "cell_type": "markdown",
   "metadata": {},
   "source": [
    "# `flarestack` Test Minimization Notebook"
   ]
  },
  {
   "cell_type": "markdown",
   "metadata": {},
   "source": [
    "## 1. Directory Setup"
   ]
  },
  {
   "cell_type": "code",
   "execution_count": 1,
   "metadata": {},
   "outputs": [],
   "source": [
    "import logging\n",
    "logging.basicConfig(level='INFO')"
   ]
  },
  {
   "cell_type": "code",
   "execution_count": 2,
   "metadata": {},
   "outputs": [
    {
     "data": {
      "text/plain": [
       "'/home/sgris/Code/IceCube/scratch/flarestack_scratch'"
      ]
     },
     "execution_count": 2,
     "metadata": {},
     "output_type": "execute_result"
    }
   ],
   "source": [
    "import os\n",
    "os.environ['FLARESTACK_SCRATCH_DIR']"
   ]
  },
  {
   "cell_type": "code",
   "execution_count": 3,
   "metadata": {},
   "outputs": [
    {
     "name": "stderr",
     "output_type": "stream",
     "text": [
      "INFO:flarestack.shared:Scratch Directory is: /home/sgris/Code/IceCube/scratch/flarestack_scratch/flarestack__data/\n",
      "INFO:flarestack.shared:Found Directory: /home/sgris/Code/IceCube/scratch/flarestack_scratch/flarestack__data/\n",
      "INFO:flarestack.shared:Found Directory: /home/sgris/Code/IceCube/scratch/flarestack_scratch/flarestack__data/input/\n",
      "INFO:flarestack.shared:Found Directory: /home/sgris/Code/IceCube/scratch/flarestack_scratch/flarestack__data/storage/\n",
      "INFO:flarestack.shared:Found Directory: /home/sgris/Code/IceCube/scratch/flarestack_scratch/flarestack__data/output/\n",
      "INFO:flarestack.shared:Found Directory: /home/sgris/Code/IceCube/scratch/flarestack_scratch/flarestack__data/cluster/\n",
      "INFO:flarestack.shared:Found Directory: /home/sgris/Code/IceCube/scratch/flarestack_scratch/flarestack__data/input/pull_corrections/\n",
      "INFO:flarestack.shared:Found Directory: /home/sgris/Code/IceCube/scratch/flarestack_scratch/flarestack__data/cluster/logs/\n",
      "INFO:flarestack.shared:Found Directory: /home/sgris/Code/IceCube/scratch/flarestack_scratch/flarestack__data/input/catalogues/\n",
      "INFO:flarestack.shared:Found Directory: /home/sgris/Code/IceCube/scratch/flarestack_scratch/flarestack__data/input/acceptance_functions/\n",
      "INFO:flarestack.shared:Found Directory: /home/sgris/Code/IceCube/scratch/flarestack_scratch/flarestack__data/input/energy_pdf_splines/\n",
      "INFO:flarestack.shared:Found Directory: /home/sgris/Code/IceCube/scratch/flarestack_scratch/flarestack__data/storage/pickles/\n",
      "INFO:flarestack.shared:Found Directory: /home/sgris/Code/IceCube/scratch/flarestack_scratch/flarestack__data/output/plots/\n",
      "INFO:flarestack.shared:Found Directory: /home/sgris/Code/IceCube/scratch/flarestack_scratch/flarestack__data/input/SoB_splines/\n",
      "INFO:flarestack.shared:Found Directory: /home/sgris/Code/IceCube/scratch/flarestack_scratch/flarestack__data/input/analysis/\n",
      "INFO:flarestack.shared:Found Directory: /home/sgris/Code/IceCube/scratch/flarestack_scratch/flarestack__data/output/plots/illustrations/\n",
      "INFO:flarestack.shared:Found Directory: /home/sgris/Code/IceCube/scratch/flarestack_scratch/flarestack__data/input/catalogues/transients/\n",
      "INFO:flarestack.shared:Found Directory: /home/sgris/Code/IceCube/scratch/flarestack_scratch/flarestack__data/input/bkg_splines/\n",
      "INFO:flarestack.shared:Found Directory: /home/sgris/Code/IceCube/scratch/flarestack_scratch/flarestack__data/output/dataset_plots/\n",
      "INFO:flarestack.shared:Found Directory: /home/sgris/Code/IceCube/scratch/flarestack_scratch/flarestack__data/output/unblinding_results/\n",
      "INFO:flarestack.shared:Found Directory: /home/sgris/Code/IceCube/scratch/flarestack_scratch/flarestack__data/output/limits/\n",
      "INFO:flarestack.shared:Found Directory: /home/sgris/Code/IceCube/scratch/flarestack_scratch/flarestack__data/input/pull_corrections/pulls/\n",
      "INFO:flarestack.shared:Found Directory: /home/sgris/Code/IceCube/scratch/flarestack_scratch/flarestack__data/input/pull_corrections/floors/\n",
      "INFO:flarestack.shared:Found Directory: /home/sgris/Code/IceCube/scratch/flarestack_scratch/flarestack__data/storage/cache/\n",
      "INFO:flarestack.shared:Found Directory: /home/sgris/Code/IceCube/scratch/flarestack_scratch/flarestack__data/storage/cache/catalogue_cache/\n",
      "INFO:flarestack.shared:Found Directory: /home/sgris/Code/IceCube/scratch/flarestack_scratch/flarestack__data/input/public_datasets/\n",
      "INFO:flarestack.shared:Found Directory: /home/sgris/Code/IceCube/scratch/flarestack_scratch/flarestack__data/input/energy_proxy_weighting/\n",
      "INFO:flarestack.shared:Found Directory: /home/sgris/Code/IceCube/scratch/flarestack_scratch/flarestack__data/output/dataset_plots/effective_area_plots/\n",
      "INFO:flarestack.shared:Found Directory: /home/sgris/Code/IceCube/scratch/flarestack_scratch/flarestack__data/input/median_angular_resolution/\n",
      "INFO:flarestack.shared:Found Directory: /home/sgris/Code/IceCube/scratch/flarestack_scratch/flarestack__data/output/dataset_plots/angular_resolution_plots/\n",
      "INFO:flarestack.shared:Found Directory: /home/sgris/Code/IceCube/scratch/flarestack_scratch/flarestack__data/output/dataset_plots/energy_proxy_map/\n",
      "INFO:flarestack.shared:Found Directory: /home/sgris/Code/IceCube/scratch/flarestack_scratch/flarestack__data/input/sim_datasets/\n",
      "INFO:numexpr.utils:NumExpr defaulting to 8 threads.\n",
      "INFO:flarestack.data.icecube.ic_season:Loading datasets from /home/sgris/Code/IceCube/scratch/flarestack_data (local)\n"
     ]
    },
    {
     "name": "stdout",
     "output_type": "stream",
     "text": [
      "Running at None, data directory is /home/sgris/Code/IceCube/scratch/flarestack_data\n"
     ]
    }
   ],
   "source": [
    "from flarestack.shared import host_server\n",
    "from flarestack.data.icecube.ic_season import icecube_dataset_dir\n",
    "print(f'Running at {host_server}, data directory is {icecube_dataset_dir}')"
   ]
  },
  {
   "cell_type": "code",
   "execution_count": 4,
   "metadata": {},
   "outputs": [
    {
     "name": "stdout",
     "output_type": "stream",
     "text": [
      "Scratch directory is /home/sgris/Code/IceCube/scratch/flarestack_scratch/flarestack__data/\n"
     ]
    }
   ],
   "source": [
    "from flarestack.shared import fs_scratch_dir\n",
    "print(f'Scratch directory is {fs_scratch_dir}')"
   ]
  },
  {
   "cell_type": "markdown",
   "metadata": {},
   "source": [
    "## 2. Flarestack Classes\n",
    "\n",
    "Classes used in $\\texttt{flarestack}$'s core functionality (e.g. `flarestack.core.energy_pdf.EnergyPDF`, `flarestack.core.minimisation.MinimisationHandler`, etc) have a class attribute `<class>.subclasses`.  \n",
    "This is a dictionary with the structure `{<subclass name>: <subclass>}`.  "
   ]
  },
  {
   "cell_type": "code",
   "execution_count": 5,
   "metadata": {},
   "outputs": [
    {
     "data": {
      "text/plain": [
       "{'fixed_weights': flarestack.core.minimisation.FixedWeightMinimisationHandler,\n",
       " 'large_catalogue': flarestack.core.minimisation.LargeCatalogueMinimisationHandler,\n",
       " 'fit_weights': flarestack.core.minimisation.FitWeightMinimisationHandler,\n",
       " 'fit_weights_mcmc': flarestack.core.minimisation.FitWeightMCMCMinimisationHandler,\n",
       " 'fit_weights_hmc': flarestack.core.minimisation.FitWeightHMCMinimisationHandler,\n",
       " 'flare': flarestack.core.minimisation.FlareMinimisationHandler}"
      ]
     },
     "execution_count": 5,
     "metadata": {},
     "output_type": "execute_result"
    }
   ],
   "source": [
    "from flarestack.core.minimisation import MinimisationHandler\n",
    "MinimisationHandler.subclasses"
   ]
  },
  {
   "cell_type": "markdown",
   "metadata": {},
   "source": [
    "For analyses we only have to pass a dictionary of the subclass names and corresponding parameters.  \n",
    "To execute use `flarestack.cluster.submitter.Submitter`. This always works locally. For using the cluster, again, if you are running at DESY or WIPAC, you do not have to worry. We got you covered."
   ]
  },
  {
   "cell_type": "code",
   "execution_count": 6,
   "metadata": {},
   "outputs": [
    {
     "data": {
      "text/plain": [
       "{'local': flarestack.cluster.submitter.LocalSubmitter,\n",
       " 'DESY': flarestack.cluster.submitter.DESYSubmitter,\n",
       " 'WIPAC': flarestack.cluster.submitter.WIPACSubmitter}"
      ]
     },
     "execution_count": 6,
     "metadata": {},
     "output_type": "execute_result"
    }
   ],
   "source": [
    "from flarestack.cluster.submitter import Submitter\n",
    "Submitter.submitter_dict"
   ]
  },
  {
   "cell_type": "markdown",
   "metadata": {},
   "source": [
    "## 3. Example: Point Source Sensitivity\n",
    "\n",
    "Let's try to calculate the 10-year point source sensitivity for our test catalogue.  \n",
    "The input directory (with the analysis dictionaries), the output directory (plots, p-values, etc) and the cache directory (saved trials, etc) will be created accordingly.   \n",
    "First we have to specify a name for the analysis."
   ]
  },
  {
   "cell_type": "code",
   "execution_count": 7,
   "metadata": {},
   "outputs": [],
   "source": [
    "from flarestack.shared import plot_output_dir, name_pickle_output_dir\n",
    "from glob import glob"
   ]
  },
  {
   "cell_type": "code",
   "execution_count": 8,
   "metadata": {},
   "outputs": [],
   "source": [
    "min_types = ('fixed',  # fixed_weights\n",
    "             'fit',    # fit_weights\n",
    "             'mcmc',   # fit_weights_mcmc\n",
    "             'hmc')    # NotImplemented\n",
    "\n",
    "def name_func(n_sources, gamma, min_type, scale, etc=None):\n",
    "    \"\"\"Creates name for output analysis files. This is motivated\n",
    "    by the need to inspect run results for debugging purposes, \n",
    "    and is achieved by using unique names to refer to each run.\n",
    "    \n",
    "    :param n_sources: Number of sources in catalog\n",
    "    :type n_sources: int\n",
    "    \n",
    "    :param gamma: Spectral index\n",
    "    :type n_sources: float\n",
    "    \n",
    "    :param min_type: Minimization method (see MinimisationHandler.subclasses)\n",
    "    :type n_sources: str\n",
    "    \n",
    "    :param etc: Additional simulation/run info\n",
    "    :type n_sources: str\n",
    "    \n",
    "    :return path: Path used as name\n",
    "    :rtype path: str\n",
    "    \"\"\"\n",
    "    run_no = 1\n",
    "    \n",
    "    if min_type not in min_types:\n",
    "        raise ValueError(f'Provide valid minimizer: {min_types}')\n",
    "        \n",
    "    path = f'analyses/{n_sources}source_gamma{gamma}_{min_type}_{scale}'\n",
    "    \n",
    "    if etc is not None:\n",
    "        path += f'_{etc:s}'\n",
    "        \n",
    "    path += f'_run{run_no}'\n",
    "    \n",
    "    path_exist = os.path.exists(plot_output_dir(path)) or os.path.exists(name_pickle_output_dir(path))\n",
    "    \n",
    "    if path_exist:\n",
    "        # Automatically covers cases where run_no == (n_sources or gamma)\n",
    "        glob_path = path.split(f'_run{run_no}')[0]\n",
    "        # Get all runs with same path\n",
    "        previous_runs = glob(f'{name_pickle_output_dir(glob_path)}*')\n",
    "        print(path, previous_runs)\n",
    "        print(glob_path)\n",
    "        # Get run numbers for previous runs, convert strings to ints\n",
    "        run_nums = [int(i.split('_run')[1]) for i in previous_runs]\n",
    "        # Sort run numbers\n",
    "        run_nums.sort()\n",
    "        # Get last run number, increase index by 1\n",
    "        run_no = run_nums[-1] + 1\n",
    "        path = f'{glob_path}_run{run_no}'\n",
    "    else:\n",
    "        # Path DNE, unchanged path (run 1)\n",
    "        pass\n",
    "    \n",
    "    return path"
   ]
  },
  {
   "cell_type": "code",
   "execution_count": 9,
   "metadata": {},
   "outputs": [
    {
     "name": "stdout",
     "output_type": "stream",
     "text": [
      "analyses/5source_gamma2.0_fit_sumscale_trials100_2010_run1 ['/home/sgris/Code/IceCube/scratch/flarestack_scratch/flarestack__data/storage/pickles/analyses/5source_gamma2.0_fit_sumscale_trials100_2010_run1']\n",
      "analyses/5source_gamma2.0_fit_sumscale_trials100_2010\n"
     ]
    },
    {
     "data": {
      "text/plain": [
       "'analyses/5source_gamma2.0_fit_sumscale_trials100_2010_run2'"
      ]
     },
     "execution_count": 9,
     "metadata": {},
     "output_type": "execute_result"
    }
   ],
   "source": [
    "name = name_func(n_sources=5, gamma=2.0, min_type='fit', scale='sumscale', etc='trials100_2010')\n",
    "name"
   ]
  },
  {
   "cell_type": "markdown",
   "metadata": {},
   "source": [
    "Our plot output directories will be:"
   ]
  },
  {
   "cell_type": "code",
   "execution_count": 10,
   "metadata": {},
   "outputs": [
    {
     "data": {
      "text/plain": [
       "('/home/sgris/Code/IceCube/scratch/flarestack_scratch/flarestack__data/output/plots/analyses/5source_gamma2.0_fit_sumscale_trials100_2010_run2',\n",
       " '/home/sgris/Code/IceCube/scratch/flarestack_scratch/flarestack__data/storage/pickles/analyses/5source_gamma2.0_fit_sumscale_trials100_2010_run2')"
      ]
     },
     "execution_count": 10,
     "metadata": {},
     "output_type": "execute_result"
    }
   ],
   "source": [
    "from flarestack.shared import plot_output_dir, name_pickle_output_dir\n",
    "plot_output_dir(name), name_pickle_output_dir(name)"
   ]
  },
  {
   "cell_type": "markdown",
   "metadata": {},
   "source": [
    "Public 3-year point source data."
   ]
  },
  {
   "cell_type": "code",
   "execution_count": 11,
   "metadata": {},
   "outputs": [
    {
     "name": "stdout",
     "output_type": "stream",
     "text": [
      "('IC79-2010', <flarestack.data.public.icecube.PublicICSeason object at 0x7fa0913726e0>)\n",
      "('IC86-2011', <flarestack.data.public.icecube.PublicICSeason object at 0x7fa091373580>)\n",
      "('IC86-2012', <flarestack.data.public.icecube.PublicICSeason object at 0x7fa0913722f0>)\n"
     ]
    }
   ],
   "source": [
    "# from flarestack.data.icecube import ps_v003_p02\n",
    "from flarestack.data.public import icecube_ps_3_year\n",
    "\n",
    "for item in icecube_ps_3_year.items():\n",
    "    print(item)"
   ]
  },
  {
   "cell_type": "markdown",
   "metadata": {},
   "source": [
    "We want to inject a steady neutrino signal with a power law spectrum with $\\gamma=2.5$. For other Energy or Time PDFs check `flarestack.core.energy_pdf` and `flarestack.core.time_pdf`.   \\\n",
    "This is as straight forward as:"
   ]
  },
  {
   "cell_type": "code",
   "execution_count": 12,
   "metadata": {},
   "outputs": [],
   "source": [
    "injection_energy = {\n",
    "    \"energy_pdf_name\": \"power_law\",\n",
    "    \"gamma\": 2.0\n",
    "}\n",
    "\n",
    "injection_time = {\n",
    "    \"time_pdf_name\": \"steady\"\n",
    "}\n",
    "\n",
    "inj_kwargs = {\n",
    "    \"injection_energy_pdf\": injection_energy,\n",
    "    \"injection_sig_time_pdf\": injection_time\n",
    "}"
   ]
  },
  {
   "cell_type": "markdown",
   "metadata": {},
   "source": [
    "We are looking for a steady signal with a power law spectrum. \n",
    "We assume the background to be constant in time.  \n",
    "We want to use the \"standard\" point source likelihood. More likelihood implementations in `flarestack.core.llh`"
   ]
  },
  {
   "cell_type": "code",
   "execution_count": 13,
   "metadata": {},
   "outputs": [],
   "source": [
    "llh_time = {\n",
    "    \"time_pdf_name\": \"steady\"\n",
    "}\n",
    "\n",
    "llh_energy = {\n",
    "    \"energy_pdf_name\": \"power_law\",\n",
    "}\n",
    "\n",
    "llh_time_bkg = {\n",
    "    \"time_pdf_name\": \"steady\"\n",
    "}\n",
    "\n",
    "llh_kwargs = {\n",
    "    \"llh_name\": \"standard\",\n",
    "    \"llh_energy_pdf\": llh_energy,\n",
    "    \"llh_sig_time_pdf\": llh_time,\n",
    "    \"llh_bkg_time_pdf\": llh_time_bkg\n",
    "}"
   ]
  },
  {
   "cell_type": "markdown",
   "metadata": {},
   "source": [
    "We need a source catalogue. This catalogue will be a numpy array stored as a `.npy` file and we only pass the filename.   \n",
    "For point sources the is a uitility function to generate dummy sources."
   ]
  },
  {
   "cell_type": "code",
   "execution_count": 14,
   "metadata": {},
   "outputs": [
    {
     "name": "stdout",
     "output_type": "stream",
     "text": [
      "your catalogue is located at mcmc_example_catalog.npy\n"
     ]
    },
    {
     "data": {
      "text/plain": [
       "array([(0.19872028, -0.24886844, 1., 1., nan, nan, nan, 2.04324986e+13, b'ASASSN-14il'),\n",
       "       (3.67889954, -0.67152028, 1., 1., nan, nan, nan, 1.64885347e+13, b'ASASSN-15ab'),\n",
       "       (4.07351703, -1.36351812, 1., 1., nan, nan, nan, 8.37090064e+12, b'ASASSN-15hs'),\n",
       "       (2.88886971,  0.06110155, 1., 1., nan, nan, nan, 3.26425608e+13, b'ASASSN-15ik'),\n",
       "       (1.23868053, -0.16932506, 1., 1., nan, nan, nan, 2.42313661e+13, b'ASASSN-15nx')],\n",
       "      dtype=[('ra_rad', '<f8'), ('dec_rad', '<f8'), ('base_weight', '<f8'), ('injection_weight_modifier', '<f8'), ('ref_time_mjd', '<f8'), ('start_time_mjd', '<f8'), ('end_time_mjd', '<f8'), ('distance_mpc', '<f8'), ('source_name', 'S30')])"
      ]
     },
     "execution_count": 14,
     "metadata": {},
     "output_type": "execute_result"
    }
   ],
   "source": [
    "# from flarestack.utils.prepare_catalogue import ps_catalogue_name\n",
    "import numpy as np\n",
    "\n",
    "sindec = 0.5\n",
    "catalogue_path = \"mcmc_example_catalog.npy\"\n",
    "print(f'your catalogue is located at {catalogue_path}')\n",
    "catalogue = np.load(catalogue_path)\n",
    "catalogue"
   ]
  },
  {
   "cell_type": "markdown",
   "metadata": {},
   "source": [
    "Now we make a guess for our sensitivity.   \n",
    "Note: $\\texttt{flarestack}$ is using its own scale factor $k$."
   ]
  },
  {
   "cell_type": "code",
   "execution_count": 15,
   "metadata": {},
   "outputs": [
    {
     "data": {
      "text/plain": [
       "(999999999.9999999, 1.0)"
      ]
     },
     "execution_count": 15,
     "metadata": {},
     "output_type": "execute_result"
    }
   ],
   "source": [
    "from flarestack.shared import flux_to_k, k_to_flux\n",
    "flux_to_k(1), flux_to_k(1e-9)"
   ]
  },
  {
   "cell_type": "markdown",
   "metadata": {},
   "source": [
    "Here we know where the sensitivity should be. Because the analysis has been done before."
   ]
  },
  {
   "cell_type": "code",
   "execution_count": 16,
   "metadata": {},
   "outputs": [
    {
     "data": {
      "text/plain": [
       "array([ 6.24859081, 24.92108471, 27.77154076,  1.27010269,  4.2832197 ])"
      ]
     },
     "execution_count": 16,
     "metadata": {},
     "output_type": "execute_result"
    }
   ],
   "source": [
    "logging.basicConfig(level='ERROR')\n",
    "from flarestack.icecube_utils.reference_sensitivity import reference_sensitivity\n",
    "scale = flux_to_k(reference_sensitivity(np.sin(catalogue['dec_rad']))) * 3\n",
    "scale"
   ]
  },
  {
   "cell_type": "markdown",
   "metadata": {},
   "source": [
    "Now we just have to put all the info into one dictionary to pass to the `MinimisationHandler`. Note that our scale guess is informed by the sum over the estimated scales from `flarestack.icecube_utils.reference_sensitivity`. "
   ]
  },
  {
   "cell_type": "code",
   "execution_count": 17,
   "metadata": {},
   "outputs": [],
   "source": [
    "mh_dict = {\n",
    "    \"name\": name,                                           # unique name for the analysis\n",
    "    \"mh_name\": \"fit_weights\",                               # name of the MinimisationHandler subclass\n",
    "    \"dataset\": icecube_ps_3_year.get_seasons('IC79-2010'),  # the neutrino dataset\n",
    "    \"catalogue\": catalogue_path,                            # path to the .npy catalogue file\n",
    "    \"inj_dict\": inj_kwargs,                                 # info for the Injector\n",
    "    \"llh_dict\": llh_kwargs,                                 # info for the LLH\n",
    "    \"scale\": np.sum(scale),                                 # a guess for the sensitivity scale\n",
    "    \"n_trials\": 100,                                        # number of trials to run (background trials will be run ten times this number!)\n",
    "    \"n_steps\": 10,                                          # number of steps when injecting signal\n",
    "    \"allow_extrapolated_sensitivity\": True                  # allow extrapolation in the sensitivity calculation (here we do because we only run very few trials)\n",
    "}"
   ]
  },
  {
   "cell_type": "markdown",
   "metadata": {},
   "source": [
    "To execute the analysis we defined above we create a submitter instance"
   ]
  },
  {
   "cell_type": "code",
   "execution_count": 18,
   "metadata": {},
   "outputs": [
    {
     "name": "stderr",
     "output_type": "stream",
     "text": [
      "WARNING:flarestack.cluster.submitter:No submitter implemented for host server None! Using LocalSubmitter but you wont't be able to use cluster operations!\n"
     ]
    },
    {
     "name": "stdout",
     "output_type": "stream",
     "text": [
      "\n",
      "----- Submitter for analyses/5source_gamma2.0_fit_sumscale_trials100_2010_run2 -----\n",
      "not using cluster \n",
      "using 4 CPUs locally\n",
      "job-id: None \n",
      "no scale estimation \n",
      "\n"
     ]
    }
   ],
   "source": [
    "submitter = Submitter.get_submitter(\n",
    "    mh_dict=mh_dict,                         # the analysis info\n",
    "    use_cluster=False,                       # run it on the cluster if True\n",
    "    n_cpu=4,                                # number of LOCAL CPUs to use, NOTE: the number of cluster CPUs has to be specified in the cluster_kwargs!\n",
    "    do_sensitivity_scale_estimation=False,   # make a guess of the sensitivity scale, for options check flarestack.cluster.submitter\n",
    "    remove_old_results=True,                 # if you are running the analysis again and something changed, maybe you want to remove old trials?\n",
    "#   **cluster_kwargs                         # keyword arguments used when running the cluster, This depends on the cluster obviously\n",
    ")\n",
    "\n",
    "print(submitter)"
   ]
  },
  {
   "cell_type": "markdown",
   "metadata": {},
   "source": [
    "Energise ......"
   ]
  },
  {
   "cell_type": "code",
   "execution_count": 19,
   "metadata": {
    "scrolled": false
   },
   "outputs": [
    {
     "name": "stderr",
     "output_type": "stream",
     "text": [
      "WARNING:flarestack.cluster.submitter:Can not remove /home/sgris/Code/IceCube/scratch/flarestack_scratch/flarestack__data/storage/pickles/analyses/5source_gamma2.0_fit_sumscale_trials100_2010_run2! It is not a directory!\n",
      "WARNING:flarestack.cluster.submitter:Can not remove /home/sgris/Code/IceCube/scratch/flarestack_scratch/flarestack__data/storage/pickles/injection_values/analyses/5source_gamma2.0_fit_sumscale_trials100_2010_run2! It is not a directory!\n",
      "INFO:flarestack.core.minimisation:Using 'standard' LLH class\n",
      "INFO:flarestack.core.injector:Initialising Injector for IC79-2010\n",
      "INFO:flarestack.core.minimisation:Using 'standard' LLH class\n",
      "INFO:flarestack.core.minimisation:Using 'standard' LLH class\n",
      "INFO:flarestack.core.minimisation:Using 'standard' LLH class\n",
      "INFO:flarestack.core.minimisation:Using 'standard' LLH class\n",
      "INFO:flarestack.core.multiprocess_wrapper:Added 1900 trials to queue. Now processing.\n",
      "INFO:flarestack.core.multiprocess_wrapper:1900 tasks remaining.\n",
      "/home/sgris/Code/IceCube/flarestack/flarestack/core/llh.py:912: VisibleDeprecationWarning: Creating an ndarray from ragged nested sequences (which is a list-or-tuple of lists-or-tuples-or ndarrays with different lengths or shapes) is deprecated. If you meant to do this, you must specify 'dtype=object' when creating the ndarray.\n",
      "  kwargs[\"SoB_spacetime_cache\"] = np.array(SoB_spacetime)\n",
      "/home/sgris/Code/IceCube/flarestack/flarestack/core/llh.py:912: VisibleDeprecationWarning: Creating an ndarray from ragged nested sequences (which is a list-or-tuple of lists-or-tuples-or ndarrays with different lengths or shapes) is deprecated. If you meant to do this, you must specify 'dtype=object' when creating the ndarray.\n",
      "  kwargs[\"SoB_spacetime_cache\"] = np.array(SoB_spacetime)\n",
      "/home/sgris/Code/IceCube/flarestack/flarestack/core/llh.py:912: VisibleDeprecationWarning: Creating an ndarray from ragged nested sequences (which is a list-or-tuple of lists-or-tuples-or ndarrays with different lengths or shapes) is deprecated. If you meant to do this, you must specify 'dtype=object' when creating the ndarray.\n",
      "  kwargs[\"SoB_spacetime_cache\"] = np.array(SoB_spacetime)\n",
      "/home/sgris/Code/IceCube/flarestack/flarestack/core/llh.py:912: VisibleDeprecationWarning: Creating an ndarray from ragged nested sequences (which is a list-or-tuple of lists-or-tuples-or ndarrays with different lengths or shapes) is deprecated. If you meant to do this, you must specify 'dtype=object' when creating the ndarray.\n",
      "  kwargs[\"SoB_spacetime_cache\"] = np.array(SoB_spacetime)\n",
      "INFO:flarestack.core.multiprocess_wrapper:1098 tasks remaining.\n",
      "INFO:flarestack.core.multiprocess_wrapper:895 tasks remaining.\n",
      "INFO:flarestack.core.multiprocess_wrapper:853 tasks remaining.\n",
      "INFO:flarestack.core.multiprocess_wrapper:413 tasks remaining.\n",
      "INFO:flarestack.core.multiprocess_wrapper:Finished processing 1900 tasks.\n"
     ]
    }
   ],
   "source": [
    "submitter.analyse()"
   ]
  },
  {
   "cell_type": "markdown",
   "metadata": {},
   "source": [
    "To get the results we use the `ResultsHandler()`. This will also create some plots like the sensitivity fit, bias plots, etc. in the plot directory. If `OverfluctuationError`, set `do_sens=False` and `do_disc=False` in `ResultsHandler()` object.\n",
    "\n",
    "```do_sens=False, do_disc=False```"
   ]
  },
  {
   "cell_type": "code",
   "execution_count": 20,
   "metadata": {},
   "outputs": [
    {
     "name": "stderr",
     "output_type": "stream",
     "text": [
      "INFO:flarestack.core.results:Saving bias plot to /home/sgris/Code/IceCube/scratch/flarestack_scratch/flarestack__data/output/plots/analyses/5source_gamma2.0_fit_sumscale_trials100_2010_run2/bias_n_s (b'ASASSN-15hs').pdf\n",
      "INFO:flarestack.core.results:Saving bias plot to /home/sgris/Code/IceCube/scratch/flarestack_scratch/flarestack__data/output/plots/analyses/5source_gamma2.0_fit_sumscale_trials100_2010_run2/bias_n_s (b'ASASSN-15ab').pdf\n",
      "INFO:flarestack.core.results:Saving bias plot to /home/sgris/Code/IceCube/scratch/flarestack_scratch/flarestack__data/output/plots/analyses/5source_gamma2.0_fit_sumscale_trials100_2010_run2/bias_n_s (b'ASASSN-14il').pdf\n",
      "INFO:flarestack.core.results:Saving bias plot to /home/sgris/Code/IceCube/scratch/flarestack_scratch/flarestack__data/output/plots/analyses/5source_gamma2.0_fit_sumscale_trials100_2010_run2/bias_n_s (b'ASASSN-15nx').pdf\n",
      "INFO:flarestack.core.results:Saving bias plot to /home/sgris/Code/IceCube/scratch/flarestack_scratch/flarestack__data/output/plots/analyses/5source_gamma2.0_fit_sumscale_trials100_2010_run2/bias_n_s (b'ASASSN-15ik').pdf\n",
      "INFO:flarestack.core.results:Saving bias plot to /home/sgris/Code/IceCube/scratch/flarestack_scratch/flarestack__data/output/plots/analyses/5source_gamma2.0_fit_sumscale_trials100_2010_run2/bias_gamma.pdf\n",
      "INFO:flarestack.core.results:Fraction of overfluctuations is 0.50 above 0.81 (N_trials=1000) (Scale=0)\n",
      "INFO:flarestack.core.results:Fraction of overfluctuations is 0.78 above 0.81 (N_trials=100) (Scale=7.166)\n",
      "INFO:flarestack.core.results:Fraction of overfluctuations is 0.92 above 0.81 (N_trials=100) (Scale=14.33)\n",
      "INFO:flarestack.core.results:Fraction of overfluctuations is 0.92 above 0.81 (N_trials=100) (Scale=21.5)\n",
      "INFO:flarestack.core.results:Fraction of overfluctuations is 0.97 above 0.81 (N_trials=100) (Scale=28.66)\n",
      "INFO:flarestack.core.results:Fraction of overfluctuations is 1.00 above 0.81 (N_trials=100) (Scale=35.83)\n",
      "INFO:flarestack.core.results:Fraction of overfluctuations is 1.00 above 0.81 (N_trials=100) (Scale=43)\n",
      "INFO:flarestack.core.results:Fraction of overfluctuations is 1.00 above 0.81 (N_trials=100) (Scale=50.16)\n",
      "INFO:flarestack.core.results:Fraction of overfluctuations is 1.00 above 0.81 (N_trials=100) (Scale=57.33)\n",
      "INFO:flarestack.core.results:Fraction of overfluctuations is 1.00 above 0.81 (N_trials=100) (Scale=64.49)\n",
      "INFO:flarestack.core.results:Sensitivity is 1.44e-08\n",
      "INFO:flarestack.core.results:Fraction of overfluctuations is 0.00 above 29.65 (N_trials=1000) (Scale=0)\n",
      "INFO:flarestack.core.results:Fraction of overfluctuations is 0.00 above 25 (N_trials=1000) (Scale=0)\n",
      "INFO:flarestack.core.results:Fraction of overfluctuations is 0.00 above 29.65 (N_trials=100) (Scale=7.166)\n",
      "INFO:flarestack.core.results:Fraction of overfluctuations is 0.00 above 25 (N_trials=100) (Scale=7.166)\n",
      "INFO:flarestack.core.results:Fraction of overfluctuations is 0.00 above 29.65 (N_trials=100) (Scale=14.33)\n",
      "INFO:flarestack.core.results:Fraction of overfluctuations is 0.02 above 25 (N_trials=100) (Scale=14.33)\n",
      "INFO:flarestack.core.results:Fraction of overfluctuations is 0.08 above 29.65 (N_trials=100) (Scale=21.5)\n",
      "INFO:flarestack.core.results:Fraction of overfluctuations is 0.14 above 25 (N_trials=100) (Scale=21.5)\n",
      "INFO:flarestack.core.results:Fraction of overfluctuations is 0.20 above 29.65 (N_trials=100) (Scale=28.66)\n",
      "INFO:flarestack.core.results:Fraction of overfluctuations is 0.32 above 25 (N_trials=100) (Scale=28.66)\n",
      "INFO:flarestack.core.results:Fraction of overfluctuations is 0.40 above 29.65 (N_trials=100) (Scale=35.83)\n",
      "INFO:flarestack.core.results:Fraction of overfluctuations is 0.51 above 25 (N_trials=100) (Scale=35.83)\n",
      "INFO:flarestack.core.results:Fraction of overfluctuations is 0.44 above 29.65 (N_trials=100) (Scale=43)\n",
      "INFO:flarestack.core.results:Fraction of overfluctuations is 0.56 above 25 (N_trials=100) (Scale=43)\n",
      "INFO:flarestack.core.results:Fraction of overfluctuations is 0.58 above 29.65 (N_trials=100) (Scale=50.16)\n",
      "INFO:flarestack.core.results:Fraction of overfluctuations is 0.74 above 25 (N_trials=100) (Scale=50.16)\n",
      "INFO:flarestack.core.results:Fraction of overfluctuations is 0.74 above 29.65 (N_trials=100) (Scale=57.33)\n",
      "INFO:flarestack.core.results:Fraction of overfluctuations is 0.80 above 25 (N_trials=100) (Scale=57.33)\n",
      "INFO:flarestack.core.results:Fraction of overfluctuations is 0.77 above 29.65 (N_trials=100) (Scale=64.49)\n",
      "INFO:flarestack.core.results:Fraction of overfluctuations is 0.82 above 25 (N_trials=100) (Scale=64.49)\n",
      "INFO:flarestack.core.results:Discovery Potential is 4.38e-08\n",
      "INFO:flarestack.core.results:Discovery Potential (TS=25) is 3.69e-08\n"
     ]
    }
   ],
   "source": [
    "from flarestack.core.results import ResultsHandler\n",
    "results_handler = ResultsHandler(submitter.mh_dict)"
   ]
  },
  {
   "cell_type": "code",
   "execution_count": 21,
   "metadata": {},
   "outputs": [
    {
     "name": "stdout",
     "output_type": "stream",
     "text": [
      "sensitivity flux: 1.44e-08   +8.17e-09   -3.82e-09  \n",
      "reference:        5.77e-10\n",
      "sensitivity n_s:  2.61e+00   +1.4869     -0.6956   \n"
     ]
    }
   ],
   "source": [
    "print(fr'sensitivity flux: {results_handler.sensitivity:<10.2e} '\n",
    "      fr'+{results_handler.sensitivity_err[1]:<10.2e} '\n",
    "      fr'-{results_handler.sensitivity_err[0]:<10.2e}')\n",
    "print(f'reference: {reference_sensitivity(sindec)[0]:>15.2e}')\n",
    "print(fr'sensitivity n_s:  {results_handler.sensitivity * results_handler.flux_to_ns:<10.2e} '\n",
    "      fr'+{results_handler.sensitivity_err[1] * results_handler.flux_to_ns:<9.4f}  '\n",
    "      fr'-{results_handler.sensitivity_err[0] * results_handler.flux_to_ns:<9.4f}')"
   ]
  },
  {
   "cell_type": "markdown",
   "metadata": {},
   "source": [
    "# Repeat analysis using MCMC\n",
    "`n_trials` has been reduced in order to run this notebook more easily, `n_trials = 100` has been used for testing purposes."
   ]
  },
  {
   "cell_type": "code",
   "execution_count": 22,
   "metadata": {},
   "outputs": [],
   "source": [
    "name = name_func(n_sources=5, gamma=2.0, min_type='mcmc', scale='sumscale', etc='trials100_2010')\n",
    "name\n",
    "\n",
    "mh_dict = {\n",
    "    \"name\": name,                                           # unique name for the analysis\n",
    "    \"mh_name\": \"fit_weights_mcmc\",                          # name of the MinimisationHandler subclass\n",
    "    \"dataset\": icecube_ps_3_year.get_seasons('IC79-2010'),  # the neutrino dataset\n",
    "    \"catalogue\": catalogue_path,                            # path to the .npy catalogue file\n",
    "    \"inj_dict\": inj_kwargs,                                 # info for the Injector\n",
    "    \"llh_dict\": llh_kwargs,                                 # info for the LLH\n",
    "    \"scale\": np.sum(scale),                                 # a guess for the sensitivity scale\n",
    "    \"n_trials\": 10,                                         # number of trials to run (background trials will be run ten times this number!)\n",
    "    \"n_steps\": 10,                                          # number of steps when injecting signal\n",
    "    \"allow_extrapolated_sensitivity\": True                  # allow extrapolation in the sensitivity calculation (here we do because we only run very few trials)\n",
    "}"
   ]
  },
  {
   "cell_type": "code",
   "execution_count": 33,
   "metadata": {},
   "outputs": [
    {
     "name": "stderr",
     "output_type": "stream",
     "text": [
      "WARNING:flarestack.cluster.submitter:No submitter implemented for host server None! Using LocalSubmitter but you wont't be able to use cluster operations!\n"
     ]
    }
   ],
   "source": [
    "submitter = Submitter.get_submitter(\n",
    "    mh_dict=mh_dict,                         # the analysis info\n",
    "    use_cluster=False,                       # run it on the cluster if True\n",
    "    n_cpu=4,                                # number of LOCAL CPUs to use, NOTE: the number of cluster CPUs has to be specified in the cluster_kwargs!\n",
    "    do_sensitivity_scale_estimation=False,   # make a guess of the sensitivity scale, for options check flarestack.cluster.submitter\n",
    "    remove_old_results=True,                 # if you are running the analysis again and something changed, maybe you want to remove old trials?\n",
    "#   **cluster_kwargs                         # keyword arguments used when running the cluster, This depends on the cluster obviously\n",
    ")"
   ]
  },
  {
   "cell_type": "code",
   "execution_count": 34,
   "metadata": {},
   "outputs": [
    {
     "name": "stderr",
     "output_type": "stream",
     "text": [
      "WARNING:flarestack.cluster.submitter:Can not remove /home/sgris/Code/IceCube/scratch/flarestack_scratch/flarestack__data/storage/pickles/analyses/5source_gamma2.0_mcmc_sumscale_trials100_2010_run1! It is not a directory!\n",
      "WARNING:flarestack.cluster.submitter:Can not remove /home/sgris/Code/IceCube/scratch/flarestack_scratch/flarestack__data/storage/pickles/injection_values/analyses/5source_gamma2.0_mcmc_sumscale_trials100_2010_run1! It is not a directory!\n",
      "INFO:flarestack.core.minimisation:Using 'standard' LLH class\n",
      "INFO:flarestack.core.injector:Initialising Injector for IC79-2010\n",
      "INFO:flarestack.core.multiprocess_wrapper:Added 190 trials to queue. Now processing.\n",
      "INFO:flarestack.core.multiprocess_wrapper:190 tasks remaining.\n",
      "INFO:flarestack.core.minimisation:Using 'standard' LLH class\n",
      "INFO:flarestack.core.minimisation:Using 'standard' LLH class\n",
      "INFO:flarestack.core.minimisation:Using 'standard' LLH class\n",
      "INFO:flarestack.core.minimisation:Using 'standard' LLH class\n",
      "/home/sgris/Code/IceCube/flarestack/flarestack/core/llh.py:912: VisibleDeprecationWarning: Creating an ndarray from ragged nested sequences (which is a list-or-tuple of lists-or-tuples-or ndarrays with different lengths or shapes) is deprecated. If you meant to do this, you must specify 'dtype=object' when creating the ndarray.\n",
      "  kwargs[\"SoB_spacetime_cache\"] = np.array(SoB_spacetime)\n",
      "/home/sgris/Code/venvs/venv-hesnnu/lib/python3.10/site-packages/emcee/moves/red_blue.py:99: RuntimeWarning: invalid value encountered in double_scalars\n",
      "  lnpdiff = f + nlp - state.log_prob[j]\n",
      "/home/sgris/Code/IceCube/flarestack/flarestack/core/llh.py:912: VisibleDeprecationWarning: Creating an ndarray from ragged nested sequences (which is a list-or-tuple of lists-or-tuples-or ndarrays with different lengths or shapes) is deprecated. If you meant to do this, you must specify 'dtype=object' when creating the ndarray.\n",
      "  kwargs[\"SoB_spacetime_cache\"] = np.array(SoB_spacetime)\n",
      "/home/sgris/Code/IceCube/flarestack/flarestack/core/llh.py:912: VisibleDeprecationWarning: Creating an ndarray from ragged nested sequences (which is a list-or-tuple of lists-or-tuples-or ndarrays with different lengths or shapes) is deprecated. If you meant to do this, you must specify 'dtype=object' when creating the ndarray.\n",
      "  kwargs[\"SoB_spacetime_cache\"] = np.array(SoB_spacetime)\n",
      "/home/sgris/Code/IceCube/flarestack/flarestack/core/llh.py:912: VisibleDeprecationWarning: Creating an ndarray from ragged nested sequences (which is a list-or-tuple of lists-or-tuples-or ndarrays with different lengths or shapes) is deprecated. If you meant to do this, you must specify 'dtype=object' when creating the ndarray.\n",
      "  kwargs[\"SoB_spacetime_cache\"] = np.array(SoB_spacetime)\n",
      "/home/sgris/Code/venvs/venv-hesnnu/lib/python3.10/site-packages/emcee/moves/red_blue.py:99: RuntimeWarning: invalid value encountered in double_scalars\n",
      "  lnpdiff = f + nlp - state.log_prob[j]\n",
      "/home/sgris/Code/venvs/venv-hesnnu/lib/python3.10/site-packages/emcee/moves/red_blue.py:99: RuntimeWarning: invalid value encountered in double_scalars\n",
      "  lnpdiff = f + nlp - state.log_prob[j]\n",
      "/home/sgris/Code/venvs/venv-hesnnu/lib/python3.10/site-packages/emcee/moves/red_blue.py:99: RuntimeWarning: invalid value encountered in double_scalars\n",
      "  lnpdiff = f + nlp - state.log_prob[j]\n",
      "INFO:flarestack.core.multiprocess_wrapper:190 tasks remaining.\n",
      "INFO:flarestack.core.multiprocess_wrapper:190 tasks remaining.\n",
      "INFO:flarestack.core.multiprocess_wrapper:190 tasks remaining.\n",
      "INFO:flarestack.core.multiprocess_wrapper:190 tasks remaining.\n",
      "INFO:flarestack.core.multiprocess_wrapper:186 tasks remaining.\n",
      "INFO:flarestack.core.multiprocess_wrapper:186 tasks remaining.\n",
      "INFO:flarestack.core.multiprocess_wrapper:186 tasks remaining.\n",
      "INFO:flarestack.core.multiprocess_wrapper:186 tasks remaining.\n",
      "INFO:flarestack.core.multiprocess_wrapper:185 tasks remaining.\n",
      "INFO:flarestack.core.multiprocess_wrapper:182 tasks remaining.\n",
      "INFO:flarestack.core.multiprocess_wrapper:182 tasks remaining.\n",
      "INFO:flarestack.core.multiprocess_wrapper:182 tasks remaining.\n",
      "INFO:flarestack.core.multiprocess_wrapper:182 tasks remaining.\n",
      "INFO:flarestack.core.multiprocess_wrapper:181 tasks remaining.\n",
      "INFO:flarestack.core.multiprocess_wrapper:178 tasks remaining.\n",
      "INFO:flarestack.core.multiprocess_wrapper:178 tasks remaining.\n",
      "INFO:flarestack.core.multiprocess_wrapper:178 tasks remaining.\n",
      "INFO:flarestack.core.multiprocess_wrapper:178 tasks remaining.\n",
      "INFO:flarestack.core.multiprocess_wrapper:177 tasks remaining.\n",
      "INFO:flarestack.core.multiprocess_wrapper:174 tasks remaining.\n",
      "INFO:flarestack.core.multiprocess_wrapper:174 tasks remaining.\n",
      "INFO:flarestack.core.multiprocess_wrapper:174 tasks remaining.\n",
      "INFO:flarestack.core.multiprocess_wrapper:174 tasks remaining.\n",
      "INFO:flarestack.core.multiprocess_wrapper:172 tasks remaining.\n",
      "INFO:flarestack.core.multiprocess_wrapper:170 tasks remaining.\n",
      "INFO:flarestack.core.multiprocess_wrapper:170 tasks remaining.\n",
      "INFO:flarestack.core.multiprocess_wrapper:170 tasks remaining.\n",
      "INFO:flarestack.core.multiprocess_wrapper:170 tasks remaining.\n",
      "INFO:flarestack.core.multiprocess_wrapper:167 tasks remaining.\n",
      "INFO:flarestack.core.multiprocess_wrapper:166 tasks remaining.\n",
      "INFO:flarestack.core.multiprocess_wrapper:166 tasks remaining.\n",
      "INFO:flarestack.core.multiprocess_wrapper:166 tasks remaining.\n",
      "INFO:flarestack.core.multiprocess_wrapper:166 tasks remaining.\n",
      "INFO:flarestack.core.multiprocess_wrapper:163 tasks remaining.\n",
      "INFO:flarestack.core.multiprocess_wrapper:162 tasks remaining.\n",
      "INFO:flarestack.core.multiprocess_wrapper:162 tasks remaining.\n",
      "INFO:flarestack.core.multiprocess_wrapper:162 tasks remaining.\n",
      "INFO:flarestack.core.multiprocess_wrapper:162 tasks remaining.\n",
      "INFO:flarestack.core.multiprocess_wrapper:159 tasks remaining.\n",
      "INFO:flarestack.core.multiprocess_wrapper:158 tasks remaining.\n",
      "INFO:flarestack.core.multiprocess_wrapper:158 tasks remaining.\n",
      "INFO:flarestack.core.multiprocess_wrapper:158 tasks remaining.\n"
     ]
    },
    {
     "name": "stdout",
     "output_type": "stream",
     "text": [
      "emcee: Exception while calling your likelihood function:emcee: Exception while calling your likelihood function:emcee: Exception while calling your likelihood function:emcee: Exception while calling your likelihood function:\n",
      "\n",
      "\n",
      "  params:  params:\n",
      "  params:     params:[0.34320351 4.48482681 1.29802872 0.40892469 1.10043769 3.80867353][ 0.54531002 16.01760614  0.37061246  1.06915154  0.03659698  3.57893421]\n",
      " \n",
      "  args:  args:  [2.68684327 2.61642222 2.49657943 0.42006397 1.42496952 3.35149451][4.39679087 0.24210399 0.49434826 1.13419055 1.5231762  3.84405837][]\n",
      "\n",
      "  args:  kwargs:[]\n",
      " \n",
      "  args:{}  kwargs: [] \n",
      "\n",
      "  exception:  kwargs: [] {}\n",
      "\n",
      "\n",
      "{}  kwargs:  exception: \n",
      "\n",
      "  exception:{}\n",
      "\n",
      "  exception:"
     ]
    },
    {
     "name": "stderr",
     "output_type": "stream",
     "text": [
      "Traceback (most recent call last):\n",
      "Traceback (most recent call last):\n",
      "  File \"/home/sgris/Code/venvs/venv-hesnnu/lib/python3.10/site-packages/emcee/ensemble.py\", line 624, in __call__\n",
      "    return self.f(x, *self.args, **self.kwargs)\n",
      "Traceback (most recent call last):\n",
      "  File \"/home/sgris/Code/IceCube/flarestack/flarestack/core/minimisation.py\", line 1613, in log_prob\n",
      "    return -l_prior + log_llh(params)\n",
      "  File \"/home/sgris/Code/venvs/venv-hesnnu/lib/python3.10/site-packages/numpy/core/fromnumeric.py\", line 40, in _wrapit\n",
      "    wrap = obj.__array_wrap__\n",
      "  File \"/home/sgris/Code/IceCube/flarestack/flarestack/core/minimisation.py\", line 1571, in log_llh\n",
      "    return np.sum(raw_f(params))\n",
      "  File \"/home/sgris/Code/venvs/venv-hesnnu/lib/python3.10/site-packages/emcee/ensemble.py\", line 624, in __call__\n",
      "    return self.f(x, *self.args, **self.kwargs)\n"
     ]
    },
    {
     "name": "stdout",
     "output_type": "stream",
     "text": [
      "\n"
     ]
    },
    {
     "name": "stderr",
     "output_type": "stream",
     "text": [
      "AttributeError: 'float' object has no attribute '__array_wrap__'\n",
      "  File \"/home/sgris/Code/IceCube/flarestack/flarestack/core/minimisation.py\", line 1613, in log_prob\n",
      "    return -l_prior + log_llh(params)\n",
      "\n",
      "During handling of the above exception, another exception occurred:\n",
      "\n",
      "  File \"/home/sgris/Code/IceCube/flarestack/flarestack/core/minimisation.py\", line 1571, in log_llh\n",
      "    return np.sum(raw_f(params))\n",
      "  File \"/home/sgris/Code/IceCube/flarestack/flarestack/core/minimisation.py\", line 1370, in f_final\n",
      "    weights_matrix = self.make_weight_matrix(params)\n",
      "Traceback (most recent call last):\n",
      "Traceback (most recent call last):\n",
      "  File \"/home/sgris/Code/IceCube/flarestack/flarestack/core/minimisation.py\", line 717, in make_weight_matrix\n",
      "    w = self.make_season_weight(params, season)\n",
      "  File \"/home/sgris/Code/IceCube/flarestack/flarestack/core/minimisation.py\", line 1370, in f_final\n",
      "    weights_matrix = self.make_weight_matrix(params)\n",
      "  File \"/home/sgris/Code/venvs/venv-hesnnu/lib/python3.10/site-packages/emcee/ensemble.py\", line 624, in __call__\n",
      "    return self.f(x, *self.args, **self.kwargs)\n",
      "  File \"/home/sgris/Code/IceCube/flarestack/flarestack/core/minimisation.py\", line 714, in make_weight_matrix\n",
      "    weights_matrix = np.ones([len(self.seasons), len(self.sources)])\n",
      "  File \"/home/sgris/Code/venvs/venv-hesnnu/lib/python3.10/site-packages/emcee/ensemble.py\", line 624, in __call__\n",
      "    return self.f(x, *self.args, **self.kwargs)\n",
      "  File \"/home/sgris/Code/IceCube/flarestack/flarestack/core/minimisation.py\", line 692, in make_season_weight\n",
      "    source_weights.append(calculate_source_weight(source) / weight_scale)\n",
      "  File \"/home/sgris/Code/venvs/venv-hesnnu/lib/python3.10/site-packages/numpy/core/numeric.py\", line 205, in ones\n",
      "    multiarray.copyto(a, 1, casting='unsafe')\n",
      "  File \"/home/sgris/Code/IceCube/flarestack/flarestack/core/minimisation.py\", line 1613, in log_prob\n",
      "    return -l_prior + log_llh(params)\n",
      "  File \"/home/sgris/Code/IceCube/flarestack/flarestack/utils/catalogue_loader.py\", line 9, in calculate_source_weight\n",
      "    return np.sum(sources[\"base_weight\"] * sources[\"distance_mpc\"] ** -2)\n",
      "  File \"<__array_function__ internals>\", line 180, in copyto\n",
      "  File \"<__array_function__ internals>\", line 177, in sum\n",
      "  File \"/home/sgris/Code/IceCube/flarestack/flarestack/core/minimisation.py\", line 1571, in log_llh\n",
      "    return np.sum(raw_f(params))\n",
      "  File \"/home/sgris/Code/IceCube/flarestack/flarestack/core/minimisation.py\", line 1571, in log_llh\n",
      "    return np.sum(raw_f(params))\n",
      "  File \"/home/sgris/Code/IceCube/flarestack/flarestack/core/minimisation.py\", line 1613, in log_prob\n",
      "    return -l_prior + log_llh(params)\n",
      "KeyboardInterrupt\n",
      "  File \"/home/sgris/Code/IceCube/flarestack/flarestack/core/minimisation.py\", line 1382, in f_final\n",
      "    ts_val += llh_functions[name](params, w)\n",
      "Process Process-12:\n",
      "  File \"/home/sgris/Code/IceCube/flarestack/flarestack/core/llh.py\", line 344, in test_statistic\n",
      "    return self.calculate_test_statistic(params, weights, **kwargs)\n",
      "  File \"/home/sgris/Code/IceCube/flarestack/flarestack/core/minimisation.py\", line 1370, in f_final\n",
      "    weights_matrix = self.make_weight_matrix(params)\n",
      "  File \"/home/sgris/Code/IceCube/flarestack/flarestack/core/minimisation.py\", line 717, in make_weight_matrix\n",
      "    w = self.make_season_weight(params, season)\n",
      "  File \"/home/sgris/Code/IceCube/flarestack/flarestack/core/llh.py\", line 959, in calculate_test_statistic\n",
      "    SoB_energy = self.estimate_energy_weights(\n",
      "KeyboardInterrupt\n",
      "Traceback (most recent call last):\n",
      "  File \"/home/sgris/Programs/Python/Python-3.10.3/install/lib/python3.10/multiprocessing/process.py\", line 315, in _bootstrap\n",
      "    self.run()\n",
      "  File \"/home/sgris/Code/IceCube/flarestack/flarestack/core/minimisation.py\", line 691, in make_season_weight\n",
      "    acc.append(llh.acceptance(source, params))\n",
      "  File \"/home/sgris/Programs/Python/Python-3.10.3/install/lib/python3.10/multiprocessing/process.py\", line 108, in run\n",
      "    self._target(*self._args, **self._kwargs)\n",
      "Process Process-9:\n",
      "KeyboardInterrupt\n",
      "  File \"/home/sgris/Code/IceCube/flarestack/flarestack/core/multiprocess_wrapper.py\", line 102, in run_trial\n",
      "    mpmh.run_single(full_dataset, scale, seed)\n",
      "Process Process-11:\n",
      "Traceback (most recent call last):\n",
      "  File \"/home/sgris/Code/IceCube/flarestack/flarestack/core/llh.py\", line 1037, in estimate_energy_weights\n",
      "    g0 = self._around(g1 - dg)\n",
      "Traceback (most recent call last):\n",
      "  File \"/home/sgris/Programs/Python/Python-3.10.3/install/lib/python3.10/multiprocessing/process.py\", line 315, in _bootstrap\n",
      "    self.run()\n",
      "  File \"/home/sgris/Code/IceCube/flarestack/flarestack/core/minimisation.py\", line 555, in run_single\n",
      "    res_dict = self.run_trial(full_dataset)\n",
      "  File \"/home/sgris/Programs/Python/Python-3.10.3/install/lib/python3.10/multiprocessing/process.py\", line 108, in run\n",
      "    self._target(*self._args, **self._kwargs)\n",
      "  File \"/home/sgris/Code/IceCube/flarestack/flarestack/core/minimisation.py\", line 1627, in run_trial\n",
      "    sampler.run_mcmc(state, n_minimum_steps)\n",
      "  File \"/home/sgris/Programs/Python/Python-3.10.3/install/lib/python3.10/multiprocessing/process.py\", line 315, in _bootstrap\n",
      "    self.run()\n",
      "  File \"/home/sgris/Code/IceCube/flarestack/flarestack/core/multiprocess_wrapper.py\", line 102, in run_trial\n",
      "    mpmh.run_single(full_dataset, scale, seed)\n",
      "  File \"/home/sgris/Code/venvs/venv-hesnnu/lib/python3.10/site-packages/emcee/ensemble.py\", line 443, in run_mcmc\n",
      "    for results in self.sample(initial_state, iterations=nsteps, **kwargs):\n",
      "  File \"/home/sgris/Programs/Python/Python-3.10.3/install/lib/python3.10/multiprocessing/process.py\", line 108, in run\n",
      "    self._target(*self._args, **self._kwargs)\n",
      "  File \"/home/sgris/Code/venvs/venv-hesnnu/lib/python3.10/site-packages/emcee/ensemble.py\", line 402, in sample\n",
      "    state, accepted = move.propose(model, state)\n",
      "  File \"/home/sgris/Code/venvs/venv-hesnnu/lib/python3.10/site-packages/emcee/moves/red_blue.py\", line 93, in propose\n",
      "    new_log_probs, new_blobs = model.compute_log_prob_fn(q)\n",
      "  File \"/home/sgris/Code/IceCube/flarestack/flarestack/core/minimisation.py\", line 555, in run_single\n",
      "    res_dict = self.run_trial(full_dataset)\n",
      "  File \"/home/sgris/Code/IceCube/flarestack/flarestack/core/multiprocess_wrapper.py\", line 102, in run_trial\n",
      "    mpmh.run_single(full_dataset, scale, seed)\n",
      "  File \"/home/sgris/Code/venvs/venv-hesnnu/lib/python3.10/site-packages/emcee/ensemble.py\", line 489, in compute_log_prob\n",
      "    results = list(map_func(self.log_prob_fn, p))\n",
      "  File \"/home/sgris/Code/IceCube/flarestack/flarestack/core/minimisation.py\", line 555, in run_single\n",
      "    res_dict = self.run_trial(full_dataset)\n",
      "  File \"/home/sgris/Code/IceCube/flarestack/flarestack/core/minimisation.py\", line 1627, in run_trial\n",
      "    sampler.run_mcmc(state, n_minimum_steps)\n",
      "  File \"/home/sgris/Code/IceCube/flarestack/flarestack/core/llh.py\", line 754, in _around\n",
      "    return np.around(float(value) / self.precision) * self.precision\n",
      "  File \"/home/sgris/Code/venvs/venv-hesnnu/lib/python3.10/site-packages/emcee/ensemble.py\", line 443, in run_mcmc\n",
      "    for results in self.sample(initial_state, iterations=nsteps, **kwargs):\n",
      "  File \"/home/sgris/Code/venvs/venv-hesnnu/lib/python3.10/site-packages/emcee/ensemble.py\", line 624, in __call__\n",
      "    return self.f(x, *self.args, **self.kwargs)\n",
      "  File \"<__array_function__ internals>\", line 180, in around\n",
      "  File \"/home/sgris/Code/IceCube/flarestack/flarestack/core/minimisation.py\", line 1627, in run_trial\n",
      "    sampler.run_mcmc(state, n_minimum_steps)\n",
      "  File \"/home/sgris/Code/venvs/venv-hesnnu/lib/python3.10/site-packages/numpy/core/fromnumeric.py\", line 3348, in around\n",
      "    return _wrapfunc(a, 'round', decimals=decimals, out=out)\n",
      "  File \"/home/sgris/Code/venvs/venv-hesnnu/lib/python3.10/site-packages/numpy/core/fromnumeric.py\", line 54, in _wrapfunc\n",
      "    return _wrapit(obj, method, *args, **kwds)\n",
      "  File \"/home/sgris/Code/venvs/venv-hesnnu/lib/python3.10/site-packages/emcee/ensemble.py\", line 402, in sample\n",
      "    state, accepted = move.propose(model, state)\n",
      "  File \"/home/sgris/Code/venvs/venv-hesnnu/lib/python3.10/site-packages/emcee/ensemble.py\", line 443, in run_mcmc\n",
      "    for results in self.sample(initial_state, iterations=nsteps, **kwargs):\n",
      "  File \"/home/sgris/Code/venvs/venv-hesnnu/lib/python3.10/site-packages/numpy/core/fromnumeric.py\", line 40, in _wrapit\n",
      "    wrap = obj.__array_wrap__\n"
     ]
    },
    {
     "name": "stderr",
     "output_type": "stream",
     "text": [
      "  File \"/home/sgris/Code/venvs/venv-hesnnu/lib/python3.10/site-packages/emcee/moves/red_blue.py\", line 93, in propose\n",
      "    new_log_probs, new_blobs = model.compute_log_prob_fn(q)\n",
      "  File \"/home/sgris/Code/IceCube/flarestack/flarestack/core/minimisation.py\", line 1613, in log_prob\n",
      "    return -l_prior + log_llh(params)\n",
      "KeyboardInterrupt\n",
      "  File \"/home/sgris/Code/IceCube/flarestack/flarestack/core/minimisation.py\", line 1571, in log_llh\n",
      "    return np.sum(raw_f(params))\n",
      "  File \"/home/sgris/Code/venvs/venv-hesnnu/lib/python3.10/site-packages/emcee/ensemble.py\", line 489, in compute_log_prob\n",
      "    results = list(map_func(self.log_prob_fn, p))\n",
      "Process Process-10:\n",
      "  File \"/home/sgris/Code/venvs/venv-hesnnu/lib/python3.10/site-packages/emcee/ensemble.py\", line 402, in sample\n",
      "    state, accepted = move.propose(model, state)\n",
      "Traceback (most recent call last):\n",
      "  File \"/home/sgris/Code/IceCube/flarestack/flarestack/core/minimisation.py\", line 1370, in f_final\n",
      "    weights_matrix = self.make_weight_matrix(params)\n",
      "  File \"/home/sgris/Code/venvs/venv-hesnnu/lib/python3.10/site-packages/numpy/core/fromnumeric.py\", line 40, in _wrapit\n",
      "    wrap = obj.__array_wrap__\n",
      "  File \"/home/sgris/Code/venvs/venv-hesnnu/lib/python3.10/site-packages/emcee/moves/red_blue.py\", line 93, in propose\n",
      "    new_log_probs, new_blobs = model.compute_log_prob_fn(q)\n",
      "  File \"/home/sgris/Code/IceCube/flarestack/flarestack/core/minimisation.py\", line 717, in make_weight_matrix\n",
      "    w = self.make_season_weight(params, season)\n",
      "  File \"/home/sgris/Code/venvs/venv-hesnnu/lib/python3.10/site-packages/emcee/ensemble.py\", line 624, in __call__\n",
      "    return self.f(x, *self.args, **self.kwargs)\n",
      "AttributeError: 'float' object has no attribute '__array_wrap__'\n",
      "  File \"/home/sgris/Code/IceCube/flarestack/flarestack/core/minimisation.py\", line 692, in make_season_weight\n",
      "    source_weights.append(calculate_source_weight(source) / weight_scale)\n",
      "  File \"/home/sgris/Code/IceCube/flarestack/flarestack/core/minimisation.py\", line 1613, in log_prob\n",
      "    return -l_prior + log_llh(params)\n",
      "  File \"/home/sgris/Code/IceCube/flarestack/flarestack/utils/catalogue_loader.py\", line 9, in calculate_source_weight\n",
      "    return np.sum(sources[\"base_weight\"] * sources[\"distance_mpc\"] ** -2)\n",
      "  File \"/home/sgris/Code/IceCube/flarestack/flarestack/core/minimisation.py\", line 1571, in log_llh\n",
      "    return np.sum(raw_f(params))\n",
      "\n",
      "During handling of the above exception, another exception occurred:\n",
      "\n",
      "  File \"/home/sgris/Code/IceCube/flarestack/flarestack/core/minimisation.py\", line 1370, in f_final\n",
      "    weights_matrix = self.make_weight_matrix(params)\n",
      "  File \"<__array_function__ internals>\", line 177, in sum\n",
      "  File \"/home/sgris/Code/IceCube/flarestack/flarestack/core/minimisation.py\", line 714, in make_weight_matrix\n",
      "    weights_matrix = np.ones([len(self.seasons), len(self.sources)])\n",
      "  File \"/home/sgris/Code/venvs/venv-hesnnu/lib/python3.10/site-packages/emcee/ensemble.py\", line 489, in compute_log_prob\n",
      "    results = list(map_func(self.log_prob_fn, p))\n",
      "Traceback (most recent call last):\n",
      "  File \"/home/sgris/Code/venvs/venv-hesnnu/lib/python3.10/site-packages/numpy/core/numeric.py\", line 205, in ones\n",
      "    multiarray.copyto(a, 1, casting='unsafe')\n",
      "  File \"/home/sgris/Code/venvs/venv-hesnnu/lib/python3.10/site-packages/emcee/ensemble.py\", line 624, in __call__\n",
      "    return self.f(x, *self.args, **self.kwargs)\n",
      "  File \"<__array_function__ internals>\", line 180, in copyto\n",
      "  File \"/home/sgris/Programs/Python/Python-3.10.3/install/lib/python3.10/multiprocessing/process.py\", line 315, in _bootstrap\n",
      "    self.run()\n",
      "  File \"/home/sgris/Code/IceCube/flarestack/flarestack/core/minimisation.py\", line 1613, in log_prob\n",
      "    return -l_prior + log_llh(params)\n",
      "  File \"/home/sgris/Programs/Python/Python-3.10.3/install/lib/python3.10/multiprocessing/process.py\", line 108, in run\n",
      "    self._target(*self._args, **self._kwargs)\n",
      "  File \"/home/sgris/Code/IceCube/flarestack/flarestack/core/multiprocess_wrapper.py\", line 102, in run_trial\n",
      "    mpmh.run_single(full_dataset, scale, seed)\n",
      "KeyboardInterrupt\n",
      "  File \"/home/sgris/Code/IceCube/flarestack/flarestack/core/minimisation.py\", line 555, in run_single\n",
      "    res_dict = self.run_trial(full_dataset)\n",
      "  File \"/home/sgris/Code/IceCube/flarestack/flarestack/core/minimisation.py\", line 1571, in log_llh\n",
      "    return np.sum(raw_f(params))\n",
      "KeyboardInterrupt\n",
      "  File \"/home/sgris/Code/IceCube/flarestack/flarestack/core/minimisation.py\", line 1370, in f_final\n",
      "    weights_matrix = self.make_weight_matrix(params)\n",
      "  File \"/home/sgris/Code/IceCube/flarestack/flarestack/core/minimisation.py\", line 1627, in run_trial\n",
      "    sampler.run_mcmc(state, n_minimum_steps)\n",
      "  File \"/home/sgris/Code/venvs/venv-hesnnu/lib/python3.10/site-packages/emcee/ensemble.py\", line 443, in run_mcmc\n",
      "    for results in self.sample(initial_state, iterations=nsteps, **kwargs):\n",
      "  File \"/home/sgris/Code/venvs/venv-hesnnu/lib/python3.10/site-packages/emcee/ensemble.py\", line 402, in sample\n",
      "    state, accepted = move.propose(model, state)\n",
      "  File \"/home/sgris/Code/venvs/venv-hesnnu/lib/python3.10/site-packages/emcee/moves/red_blue.py\", line 93, in propose\n",
      "    new_log_probs, new_blobs = model.compute_log_prob_fn(q)\n",
      "  File \"/home/sgris/Code/IceCube/flarestack/flarestack/core/minimisation.py\", line 717, in make_weight_matrix\n",
      "    w = self.make_season_weight(params, season)\n",
      "  File \"/home/sgris/Code/venvs/venv-hesnnu/lib/python3.10/site-packages/emcee/ensemble.py\", line 489, in compute_log_prob\n",
      "    results = list(map_func(self.log_prob_fn, p))\n",
      "  File \"/home/sgris/Code/venvs/venv-hesnnu/lib/python3.10/site-packages/emcee/ensemble.py\", line 624, in __call__\n",
      "    return self.f(x, *self.args, **self.kwargs)\n",
      "  File \"/home/sgris/Code/IceCube/flarestack/flarestack/core/minimisation.py\", line 1613, in log_prob\n",
      "    return -l_prior + log_llh(params)\n",
      "  File \"/home/sgris/Code/IceCube/flarestack/flarestack/core/minimisation.py\", line 691, in make_season_weight\n",
      "    acc.append(llh.acceptance(source, params))\n",
      "  File \"/home/sgris/Code/IceCube/flarestack/flarestack/core/minimisation.py\", line 1571, in log_llh\n",
      "    return np.sum(raw_f(params))\n",
      "  File \"/home/sgris/Code/IceCube/flarestack/flarestack/core/minimisation.py\", line 1382, in f_final\n",
      "    ts_val += llh_functions[name](params, w)\n",
      "  File \"/home/sgris/Code/IceCube/flarestack/flarestack/core/llh.py\", line 344, in test_statistic\n",
      "    return self.calculate_test_statistic(params, weights, **kwargs)\n",
      "KeyboardInterrupt\n",
      "  File \"/home/sgris/Code/IceCube/flarestack/flarestack/core/llh.py\", line 959, in calculate_test_statistic\n",
      "    SoB_energy = self.estimate_energy_weights(\n",
      "  File \"/home/sgris/Code/IceCube/flarestack/flarestack/core/llh.py\", line 1037, in estimate_energy_weights\n",
      "    g0 = self._around(g1 - dg)\n",
      "  File \"/home/sgris/Code/IceCube/flarestack/flarestack/core/llh.py\", line 754, in _around\n",
      "    return np.around(float(value) / self.precision) * self.precision\n",
      "  File \"<__array_function__ internals>\", line 180, in around\n",
      "  File \"/home/sgris/Code/venvs/venv-hesnnu/lib/python3.10/site-packages/numpy/core/fromnumeric.py\", line 3348, in around\n",
      "    return _wrapfunc(a, 'round', decimals=decimals, out=out)\n",
      "  File \"/home/sgris/Code/venvs/venv-hesnnu/lib/python3.10/site-packages/numpy/core/fromnumeric.py\", line 54, in _wrapfunc\n",
      "    return _wrapit(obj, method, *args, **kwds)\n",
      "  File \"/home/sgris/Code/venvs/venv-hesnnu/lib/python3.10/site-packages/numpy/core/fromnumeric.py\", line 40, in _wrapit\n",
      "    wrap = obj.__array_wrap__\n",
      "KeyboardInterrupt\n"
     ]
    },
    {
     "ename": "KeyboardInterrupt",
     "evalue": "",
     "output_type": "error",
     "traceback": [
      "\u001b[0;31m---------------------------------------------------------------------------\u001b[0m",
      "\u001b[0;31mKeyboardInterrupt\u001b[0m                         Traceback (most recent call last)",
      "File \u001b[0;32m~/Code/IceCube/flarestack/flarestack/core/multiprocess_wrapper.py:144\u001b[0m, in \u001b[0;36mrun_multiprocess\u001b[0;34m(n_cpu, mh_dict)\u001b[0m\n\u001b[1;32m    143\u001b[0m \u001b[38;5;28;01mwith\u001b[39;00m MultiProcessor(n_cpu\u001b[38;5;241m=\u001b[39mn_cpu, mh_dict\u001b[38;5;241m=\u001b[39mmh_dict) \u001b[38;5;28;01mas\u001b[39;00m r:\n\u001b[0;32m--> 144\u001b[0m     \u001b[43mr\u001b[49m\u001b[38;5;241;43m.\u001b[39;49m\u001b[43mfill_queue\u001b[49m\u001b[43m(\u001b[49m\u001b[43m)\u001b[49m\n\u001b[1;32m    145\u001b[0m     r\u001b[38;5;241m.\u001b[39mterminate()\n",
      "File \u001b[0;32m~/Code/IceCube/flarestack/flarestack/core/multiprocess_wrapper.py:124\u001b[0m, in \u001b[0;36mMultiProcessor.fill_queue\u001b[0;34m(self)\u001b[0m\n\u001b[1;32m    123\u001b[0m     logger\u001b[38;5;241m.\u001b[39minfo(\u001b[38;5;124m\"\u001b[39m\u001b[38;5;132;01m{0}\u001b[39;00m\u001b[38;5;124m tasks remaining.\u001b[39m\u001b[38;5;124m\"\u001b[39m\u001b[38;5;241m.\u001b[39mformat(\u001b[38;5;28mself\u001b[39m\u001b[38;5;241m.\u001b[39mn_tasks\u001b[38;5;241m.\u001b[39mvalue))\n\u001b[0;32m--> 124\u001b[0m     \u001b[43mtime\u001b[49m\u001b[38;5;241;43m.\u001b[39;49m\u001b[43msleep\u001b[49m\u001b[43m(\u001b[49m\u001b[38;5;241;43m30\u001b[39;49m\u001b[43m)\u001b[49m\n\u001b[1;32m    125\u001b[0m logger\u001b[38;5;241m.\u001b[39minfo(\u001b[38;5;124m\"\u001b[39m\u001b[38;5;124mFinished processing \u001b[39m\u001b[38;5;132;01m{0}\u001b[39;00m\u001b[38;5;124m tasks.\u001b[39m\u001b[38;5;124m\"\u001b[39m\u001b[38;5;241m.\u001b[39mformat(n_tasks))\n",
      "\u001b[0;31mKeyboardInterrupt\u001b[0m: ",
      "\nDuring handling of the above exception, another exception occurred:\n",
      "\u001b[0;31mKeyboardInterrupt\u001b[0m                         Traceback (most recent call last)",
      "Input \u001b[0;32mIn [34]\u001b[0m, in \u001b[0;36m<cell line: 1>\u001b[0;34m()\u001b[0m\n\u001b[0;32m----> 1\u001b[0m \u001b[43msubmitter\u001b[49m\u001b[38;5;241;43m.\u001b[39;49m\u001b[43manalyse\u001b[49m\u001b[43m(\u001b[49m\u001b[43m)\u001b[49m\n",
      "File \u001b[0;32m~/Code/IceCube/flarestack/flarestack/cluster/submitter.py:236\u001b[0m, in \u001b[0;36mSubmitter.analyse\u001b[0;34m(self, do_disc)\u001b[0m\n\u001b[1;32m    233\u001b[0m     \u001b[38;5;28;01melse\u001b[39;00m:\n\u001b[1;32m    234\u001b[0m         \u001b[38;5;28mself\u001b[39m\u001b[38;5;241m.\u001b[39mmh_dict[\u001b[38;5;124m\"\u001b[39m\u001b[38;5;124mscale\u001b[39m\u001b[38;5;124m\"\u001b[39m] \u001b[38;5;241m=\u001b[39m \u001b[38;5;28mself\u001b[39m\u001b[38;5;241m.\u001b[39mdisc_guess \u001b[38;5;241m/\u001b[39m \u001b[38;5;241m0.5\u001b[39m\n\u001b[0;32m--> 236\u001b[0m \u001b[38;5;28;43mself\u001b[39;49m\u001b[38;5;241;43m.\u001b[39;49m\u001b[43msubmit\u001b[49m\u001b[43m(\u001b[49m\u001b[38;5;28;43mself\u001b[39;49m\u001b[38;5;241;43m.\u001b[39;49m\u001b[43mmh_dict\u001b[49m\u001b[43m)\u001b[49m\n",
      "File \u001b[0;32m~/Code/IceCube/flarestack/flarestack/cluster/submitter.py:88\u001b[0m, in \u001b[0;36mSubmitter.submit\u001b[0;34m(self, mh_dict)\u001b[0m\n\u001b[1;32m     86\u001b[0m     \u001b[38;5;28mself\u001b[39m\u001b[38;5;241m.\u001b[39msubmit_cluster(mh_dict)\n\u001b[1;32m     87\u001b[0m \u001b[38;5;28;01melse\u001b[39;00m:\n\u001b[0;32m---> 88\u001b[0m     \u001b[38;5;28;43mself\u001b[39;49m\u001b[38;5;241;43m.\u001b[39;49m\u001b[43msubmit_local\u001b[49m\u001b[43m(\u001b[49m\u001b[43mmh_dict\u001b[49m\u001b[43m)\u001b[49m\n",
      "File \u001b[0;32m~/Code/IceCube/flarestack/flarestack/cluster/submitter.py:80\u001b[0m, in \u001b[0;36mSubmitter.submit_local\u001b[0;34m(self, mh_dict)\u001b[0m\n\u001b[1;32m     78\u001b[0m make_analysis_pickle(mh_dict)\n\u001b[1;32m     79\u001b[0m n_cpu \u001b[38;5;241m=\u001b[39m \u001b[38;5;28mmin\u001b[39m(\u001b[38;5;28mself\u001b[39m\u001b[38;5;241m.\u001b[39mn_cpu, os\u001b[38;5;241m.\u001b[39mcpu_count() \u001b[38;5;241m-\u001b[39m \u001b[38;5;241m1\u001b[39m)\n\u001b[0;32m---> 80\u001b[0m \u001b[43mrun_multiprocess\u001b[49m\u001b[43m(\u001b[49m\u001b[43mn_cpu\u001b[49m\u001b[38;5;241;43m=\u001b[39;49m\u001b[43mn_cpu\u001b[49m\u001b[43m,\u001b[49m\u001b[43m \u001b[49m\u001b[43mmh_dict\u001b[49m\u001b[38;5;241;43m=\u001b[39;49m\u001b[43mmh_dict\u001b[49m\u001b[43m)\u001b[49m\n",
      "File \u001b[0;32m~/Code/IceCube/flarestack/flarestack/core/multiprocess_wrapper.py:143\u001b[0m, in \u001b[0;36mrun_multiprocess\u001b[0;34m(n_cpu, mh_dict)\u001b[0m\n\u001b[1;32m    142\u001b[0m \u001b[38;5;28;01mdef\u001b[39;00m \u001b[38;5;21mrun_multiprocess\u001b[39m(n_cpu, mh_dict):\n\u001b[0;32m--> 143\u001b[0m     \u001b[38;5;28;01mwith\u001b[39;00m MultiProcessor(n_cpu\u001b[38;5;241m=\u001b[39mn_cpu, mh_dict\u001b[38;5;241m=\u001b[39mmh_dict) \u001b[38;5;28;01mas\u001b[39;00m r:\n\u001b[1;32m    144\u001b[0m         r\u001b[38;5;241m.\u001b[39mfill_queue()\n\u001b[1;32m    145\u001b[0m         r\u001b[38;5;241m.\u001b[39mterminate()\n",
      "File \u001b[0;32m~/Code/IceCube/flarestack/flarestack/core/multiprocess_wrapper.py:139\u001b[0m, in \u001b[0;36mMultiProcessor.__exit__\u001b[0;34m(self, exc_type, exc_val, exc_tb)\u001b[0m\n\u001b[1;32m    138\u001b[0m \u001b[38;5;28;01mdef\u001b[39;00m \u001b[38;5;21m__exit__\u001b[39m(\u001b[38;5;28mself\u001b[39m, exc_type, exc_val, exc_tb):\n\u001b[0;32m--> 139\u001b[0m     \u001b[38;5;28;43mself\u001b[39;49m\u001b[38;5;241;43m.\u001b[39;49m\u001b[43mterminate\u001b[49m\u001b[43m(\u001b[49m\u001b[43m)\u001b[49m\n",
      "File \u001b[0;32m~/Code/IceCube/flarestack/flarestack/core/multiprocess_wrapper.py:129\u001b[0m, in \u001b[0;36mMultiProcessor.terminate\u001b[0;34m(self)\u001b[0m\n\u001b[1;32m    127\u001b[0m \u001b[38;5;28;01mdef\u001b[39;00m \u001b[38;5;21mterminate\u001b[39m(\u001b[38;5;28mself\u001b[39m):\n\u001b[1;32m    128\u001b[0m     \u001b[38;5;124;03m\"\"\"wait until queue is empty and terminate processes\"\"\"\u001b[39;00m\n\u001b[0;32m--> 129\u001b[0m     \u001b[38;5;28;43mself\u001b[39;49m\u001b[38;5;241;43m.\u001b[39;49m\u001b[43mqueue\u001b[49m\u001b[38;5;241;43m.\u001b[39;49m\u001b[43mjoin\u001b[49m\u001b[43m(\u001b[49m\u001b[43m)\u001b[49m\n\u001b[1;32m    130\u001b[0m     \u001b[38;5;28;01mfor\u001b[39;00m p \u001b[38;5;129;01min\u001b[39;00m \u001b[38;5;28mself\u001b[39m\u001b[38;5;241m.\u001b[39mprocesses:\n\u001b[1;32m    131\u001b[0m         p\u001b[38;5;241m.\u001b[39mterminate()\n",
      "File \u001b[0;32m~/Programs/Python/Python-3.10.3/install/lib/python3.10/multiprocessing/queues.py:332\u001b[0m, in \u001b[0;36mJoinableQueue.join\u001b[0;34m(self)\u001b[0m\n\u001b[1;32m    330\u001b[0m \u001b[38;5;28;01mwith\u001b[39;00m \u001b[38;5;28mself\u001b[39m\u001b[38;5;241m.\u001b[39m_cond:\n\u001b[1;32m    331\u001b[0m     \u001b[38;5;28;01mif\u001b[39;00m \u001b[38;5;129;01mnot\u001b[39;00m \u001b[38;5;28mself\u001b[39m\u001b[38;5;241m.\u001b[39m_unfinished_tasks\u001b[38;5;241m.\u001b[39m_semlock\u001b[38;5;241m.\u001b[39m_is_zero():\n\u001b[0;32m--> 332\u001b[0m         \u001b[38;5;28;43mself\u001b[39;49m\u001b[38;5;241;43m.\u001b[39;49m\u001b[43m_cond\u001b[49m\u001b[38;5;241;43m.\u001b[39;49m\u001b[43mwait\u001b[49m\u001b[43m(\u001b[49m\u001b[43m)\u001b[49m\n",
      "File \u001b[0;32m~/Programs/Python/Python-3.10.3/install/lib/python3.10/multiprocessing/synchronize.py:261\u001b[0m, in \u001b[0;36mCondition.wait\u001b[0;34m(self, timeout)\u001b[0m\n\u001b[1;32m    257\u001b[0m     \u001b[38;5;28mself\u001b[39m\u001b[38;5;241m.\u001b[39m_lock\u001b[38;5;241m.\u001b[39mrelease()\n\u001b[1;32m    259\u001b[0m \u001b[38;5;28;01mtry\u001b[39;00m:\n\u001b[1;32m    260\u001b[0m     \u001b[38;5;66;03m# wait for notification or timeout\u001b[39;00m\n\u001b[0;32m--> 261\u001b[0m     \u001b[38;5;28;01mreturn\u001b[39;00m \u001b[38;5;28;43mself\u001b[39;49m\u001b[38;5;241;43m.\u001b[39;49m\u001b[43m_wait_semaphore\u001b[49m\u001b[38;5;241;43m.\u001b[39;49m\u001b[43macquire\u001b[49m\u001b[43m(\u001b[49m\u001b[38;5;28;43;01mTrue\u001b[39;49;00m\u001b[43m,\u001b[49m\u001b[43m \u001b[49m\u001b[43mtimeout\u001b[49m\u001b[43m)\u001b[49m\n\u001b[1;32m    262\u001b[0m \u001b[38;5;28;01mfinally\u001b[39;00m:\n\u001b[1;32m    263\u001b[0m     \u001b[38;5;66;03m# indicate that this thread has woken\u001b[39;00m\n\u001b[1;32m    264\u001b[0m     \u001b[38;5;28mself\u001b[39m\u001b[38;5;241m.\u001b[39m_woken_count\u001b[38;5;241m.\u001b[39mrelease()\n",
      "\u001b[0;31mKeyboardInterrupt\u001b[0m: "
     ]
    }
   ],
   "source": [
    "submitter.analyse()"
   ]
  },
  {
   "cell_type": "code",
   "execution_count": 24,
   "metadata": {},
   "outputs": [
    {
     "name": "stderr",
     "output_type": "stream",
     "text": [
      "INFO:flarestack.core.results:Saving bias plot to /home/sgris/Code/IceCube/scratch/flarestack_scratch/flarestack__data/output/plots/analyses/5source_gamma2.0_fit_sumscale_trials100_2010_run2/bias_n_s (b'ASASSN-15hs').pdf\n",
      "INFO:flarestack.core.results:Saving bias plot to /home/sgris/Code/IceCube/scratch/flarestack_scratch/flarestack__data/output/plots/analyses/5source_gamma2.0_fit_sumscale_trials100_2010_run2/bias_n_s (b'ASASSN-15ab').pdf\n",
      "INFO:flarestack.core.results:Saving bias plot to /home/sgris/Code/IceCube/scratch/flarestack_scratch/flarestack__data/output/plots/analyses/5source_gamma2.0_fit_sumscale_trials100_2010_run2/bias_n_s (b'ASASSN-14il').pdf\n",
      "INFO:flarestack.core.results:Saving bias plot to /home/sgris/Code/IceCube/scratch/flarestack_scratch/flarestack__data/output/plots/analyses/5source_gamma2.0_fit_sumscale_trials100_2010_run2/bias_n_s (b'ASASSN-15nx').pdf\n",
      "INFO:flarestack.core.results:Saving bias plot to /home/sgris/Code/IceCube/scratch/flarestack_scratch/flarestack__data/output/plots/analyses/5source_gamma2.0_fit_sumscale_trials100_2010_run2/bias_n_s (b'ASASSN-15ik').pdf\n",
      "INFO:flarestack.core.results:Saving bias plot to /home/sgris/Code/IceCube/scratch/flarestack_scratch/flarestack__data/output/plots/analyses/5source_gamma2.0_fit_sumscale_trials100_2010_run2/bias_gamma.pdf\n",
      "INFO:flarestack.core.results:Fraction of overfluctuations is 0.50 above 0.89 (N_trials=1000) (Scale=0)\n",
      "INFO:flarestack.core.results:Fraction of overfluctuations is 0.75 above 0.89 (N_trials=100) (Scale=7.166)\n",
      "INFO:flarestack.core.results:Fraction of overfluctuations is 0.87 above 0.89 (N_trials=100) (Scale=14.33)\n",
      "INFO:flarestack.core.results:Fraction of overfluctuations is 0.96 above 0.89 (N_trials=100) (Scale=21.5)\n",
      "INFO:flarestack.core.results:Fraction of overfluctuations is 0.99 above 0.89 (N_trials=100) (Scale=28.66)\n",
      "INFO:flarestack.core.results:Fraction of overfluctuations is 1.00 above 0.89 (N_trials=100) (Scale=35.83)\n",
      "INFO:flarestack.core.results:Fraction of overfluctuations is 1.00 above 0.89 (N_trials=100) (Scale=43)\n",
      "INFO:flarestack.core.results:Fraction of overfluctuations is 1.00 above 0.89 (N_trials=100) (Scale=50.16)\n",
      "INFO:flarestack.core.results:Fraction of overfluctuations is 1.00 above 0.89 (N_trials=100) (Scale=57.33)\n",
      "INFO:flarestack.core.results:Fraction of overfluctuations is 1.00 above 0.89 (N_trials=100) (Scale=64.49)\n",
      "INFO:flarestack.core.results:Sensitivity is 1.58e-08\n",
      "INFO:flarestack.core.results:Fraction of overfluctuations is 0.00 above 29.69 (N_trials=1000) (Scale=0)\n",
      "INFO:flarestack.core.results:Fraction of overfluctuations is 0.00 above 25 (N_trials=1000) (Scale=0)\n",
      "INFO:flarestack.core.results:Fraction of overfluctuations is 0.00 above 29.69 (N_trials=100) (Scale=7.166)\n",
      "INFO:flarestack.core.results:Fraction of overfluctuations is 0.00 above 25 (N_trials=100) (Scale=7.166)\n",
      "INFO:flarestack.core.results:Fraction of overfluctuations is 0.04 above 29.69 (N_trials=100) (Scale=14.33)\n",
      "INFO:flarestack.core.results:Fraction of overfluctuations is 0.08 above 25 (N_trials=100) (Scale=14.33)\n",
      "INFO:flarestack.core.results:Fraction of overfluctuations is 0.18 above 29.69 (N_trials=100) (Scale=21.5)\n",
      "INFO:flarestack.core.results:Fraction of overfluctuations is 0.25 above 25 (N_trials=100) (Scale=21.5)\n",
      "INFO:flarestack.core.results:Fraction of overfluctuations is 0.18 above 29.69 (N_trials=100) (Scale=28.66)\n",
      "INFO:flarestack.core.results:Fraction of overfluctuations is 0.27 above 25 (N_trials=100) (Scale=28.66)\n",
      "INFO:flarestack.core.results:Fraction of overfluctuations is 0.32 above 29.69 (N_trials=100) (Scale=35.83)\n",
      "INFO:flarestack.core.results:Fraction of overfluctuations is 0.40 above 25 (N_trials=100) (Scale=35.83)\n",
      "INFO:flarestack.core.results:Fraction of overfluctuations is 0.47 above 29.69 (N_trials=100) (Scale=43)\n",
      "INFO:flarestack.core.results:Fraction of overfluctuations is 0.61 above 25 (N_trials=100) (Scale=43)\n",
      "INFO:flarestack.core.results:Fraction of overfluctuations is 0.57 above 29.69 (N_trials=100) (Scale=50.16)\n",
      "INFO:flarestack.core.results:Fraction of overfluctuations is 0.62 above 25 (N_trials=100) (Scale=50.16)\n",
      "INFO:flarestack.core.results:Fraction of overfluctuations is 0.67 above 29.69 (N_trials=100) (Scale=57.33)\n",
      "INFO:flarestack.core.results:Fraction of overfluctuations is 0.78 above 25 (N_trials=100) (Scale=57.33)\n",
      "INFO:flarestack.core.results:Fraction of overfluctuations is 0.79 above 29.69 (N_trials=100) (Scale=64.49)\n",
      "INFO:flarestack.core.results:Fraction of overfluctuations is 0.85 above 25 (N_trials=100) (Scale=64.49)\n",
      "INFO:flarestack.core.results:Discovery Potential is 4.57e-08\n",
      "INFO:flarestack.core.results:Discovery Potential (TS=25) is 3.96e-08\n"
     ]
    }
   ],
   "source": [
    "results_handler_mcmc = ResultsHandler(submitter.mh_dict)"
   ]
  },
  {
   "cell_type": "code",
   "execution_count": 25,
   "metadata": {},
   "outputs": [
    {
     "name": "stdout",
     "output_type": "stream",
     "text": [
      "sensitivity flux: 1.58e-08   +8.30e-09   -4.04e-09  \n",
      "reference:        5.77e-10\n",
      "sensitivity n_s:  2.87e+00   +1.5108     -0.7358   \n"
     ]
    }
   ],
   "source": [
    "print(fr'sensitivity flux: {results_handler_mcmc.sensitivity:<10.2e} '\n",
    "      fr'+{results_handler_mcmc.sensitivity_err[1]:<10.2e} '\n",
    "      fr'-{results_handler_mcmc.sensitivity_err[0]:<10.2e}')\n",
    "print(f'reference: {reference_sensitivity(sindec)[0]:>15.2e}')\n",
    "print(fr'sensitivity n_s:  {results_handler_mcmc.sensitivity * results_handler_mcmc.flux_to_ns:<10.2e} '\n",
    "      fr'+{results_handler_mcmc.sensitivity_err[1] * results_handler_mcmc.flux_to_ns:<9.4f}  '\n",
    "      fr'-{results_handler_mcmc.sensitivity_err[0] * results_handler_mcmc.flux_to_ns:<9.4f}')"
   ]
  },
  {
   "cell_type": "markdown",
   "metadata": {},
   "source": [
    "### MCMC seed values"
   ]
  },
  {
   "cell_type": "code",
   "execution_count": 26,
   "metadata": {},
   "outputs": [],
   "source": [
    "from glob import glob\n",
    "import pickle"
   ]
  },
  {
   "cell_type": "code",
   "execution_count": 27,
   "metadata": {},
   "outputs": [],
   "source": [
    "def means_and_dev(name):\n",
    "    \"\"\"Calculates mean and standard deviation from `fit_weights` minimizer\n",
    "    to then be input into `fit_weights_mcmc` minimizer.\n",
    "    \n",
    "    :param name: Analysis run name\n",
    "    :type name: str\n",
    "    \n",
    "    :return mu: List of average parameter (n_s, gamma) values\n",
    "    :rtype mu: list\n",
    "    \n",
    "    :return std: List of parameter (n_s, gamma) standard deviations\n",
    "    :rtype std: list\n",
    "    \"\"\"\n",
    "    path_to_pickles = os.path.join(name_pickle_output_dir(name), 'merged')\n",
    "    pickles = glob(os.path.join(path_to_pickles, '*.pkl'))\n",
    "    key_arrays = {}\n",
    "    \n",
    "    for pkl in pickles:\n",
    "        pickle_path = pkl\n",
    "\n",
    "        with open(pickle_path, 'rb') as file:\n",
    "            pickle_data = pickle.load(file)\n",
    "\n",
    "        if not key_arrays:\n",
    "            key_arrays = {key:[] for key in pickle_data['Parameters'].keys()}\n",
    "\n",
    "        for key, data in pickle_data['Parameters'].items():\n",
    "                key_arrays[key].append(data)\n",
    "        \n",
    "    mu = []\n",
    "    std = []\n",
    "\n",
    "    for key, data in key_arrays.items():\n",
    "        key_arrays[key] = np.array(sum(key_arrays[key], []))\n",
    "        mu.append(float(f'{np.mean(key_arrays[key]):0.4f}'))\n",
    "        std.append(float(f'{np.std(key_arrays[key]):0.4f}'))\n",
    "\n",
    "    print(f\"mu = {mu}\")\n",
    "    print(f\"std = {std}\")"
   ]
  },
  {
   "cell_type": "code",
   "execution_count": 28,
   "metadata": {},
   "outputs": [
    {
     "name": "stdout",
     "output_type": "stream",
     "text": [
      "mu = []\n",
      "std = []\n"
     ]
    }
   ],
   "source": [
    "means_and_dev(name)"
   ]
  },
  {
   "cell_type": "markdown",
   "metadata": {},
   "source": [
    "## 4. MCMC Analysis Plots"
   ]
  },
  {
   "cell_type": "code",
   "execution_count": 29,
   "metadata": {},
   "outputs": [],
   "source": [
    "import pickle\n",
    "import corner\n",
    "import matplotlib.pyplot as plt"
   ]
  },
  {
   "cell_type": "code",
   "execution_count": 30,
   "metadata": {
    "tags": []
   },
   "outputs": [
    {
     "ename": "FileNotFoundError",
     "evalue": "[Errno 2] No such file or directory: '/home/sgris/Code/IceCube/scratch/flarestack_scratch/flarestack__data/storage/pickles/analyses/5source_gamma2.0_mcmc_sumscale_trials100_2010_run1/chains.pkl'",
     "output_type": "error",
     "traceback": [
      "\u001b[0;31m---------------------------------------------------------------------------\u001b[0m",
      "\u001b[0;31mFileNotFoundError\u001b[0m                         Traceback (most recent call last)",
      "Input \u001b[0;32mIn [30]\u001b[0m, in \u001b[0;36m<cell line: 4>\u001b[0;34m()\u001b[0m\n\u001b[1;32m      1\u001b[0m \u001b[38;5;66;03m# Path to MCMC pickle directory\u001b[39;00m\n\u001b[1;32m      2\u001b[0m mcmc_pickle_path \u001b[38;5;241m=\u001b[39m os\u001b[38;5;241m.\u001b[39mpath\u001b[38;5;241m.\u001b[39mjoin(name_pickle_output_dir(name), \u001b[38;5;124m'\u001b[39m\u001b[38;5;124mchains.pkl\u001b[39m\u001b[38;5;124m'\u001b[39m)\n\u001b[0;32m----> 4\u001b[0m \u001b[38;5;28;01mwith\u001b[39;00m \u001b[38;5;28;43mopen\u001b[39;49m\u001b[43m(\u001b[49m\u001b[43mmcmc_pickle_path\u001b[49m\u001b[43m,\u001b[49m\u001b[43m \u001b[49m\u001b[38;5;124;43m'\u001b[39;49m\u001b[38;5;124;43mrb\u001b[39;49m\u001b[38;5;124;43m'\u001b[39;49m\u001b[43m)\u001b[49m \u001b[38;5;28;01mas\u001b[39;00m file:\n\u001b[1;32m      5\u001b[0m     mcmc_pickle \u001b[38;5;241m=\u001b[39m pickle\u001b[38;5;241m.\u001b[39mload(file)\n\u001b[1;32m      7\u001b[0m mcmc_pickle\u001b[38;5;241m.\u001b[39mshape\n",
      "\u001b[0;31mFileNotFoundError\u001b[0m: [Errno 2] No such file or directory: '/home/sgris/Code/IceCube/scratch/flarestack_scratch/flarestack__data/storage/pickles/analyses/5source_gamma2.0_mcmc_sumscale_trials100_2010_run1/chains.pkl'"
     ]
    }
   ],
   "source": [
    "# Path to MCMC pickle directory\n",
    "mcmc_pickle_path = os.path.join(name_pickle_output_dir(name), 'chains.pkl')\n",
    "\n",
    "with open(mcmc_pickle_path, 'rb') as file:\n",
    "    mcmc_pickle = pickle.load(file)\n",
    "    \n",
    "mcmc_pickle.shape"
   ]
  },
  {
   "cell_type": "code",
   "execution_count": null,
   "metadata": {},
   "outputs": [],
   "source": [
    "def labels(name):\n",
    "    corner_labels = []\n",
    "    for source in range(len(catalogue)):\n",
    "        corner_label = catalogue[source]['source_name'].decode()\n",
    "        corner_labels.append('n_s: ' + label)\n",
    "    corner_labels.append('gamma')\n",
    "    \n",
    "    return corner_labels"
   ]
  },
  {
   "cell_type": "markdown",
   "metadata": {},
   "source": [
    "### Corner Plot"
   ]
  },
  {
   "cell_type": "code",
   "execution_count": null,
   "metadata": {},
   "outputs": [],
   "source": [
    "def corner_plot(name, burn_in=0, save_fig=False, **kwargs):\n",
    "    mcmc_pickle_path = os.path.join(name_pickle_output_dir(name), 'chains.pkl')\n",
    "\n",
    "    with open(mcmc_pickle_path, 'rb') as file:\n",
    "        mcmc_pickle = pickle.load(file)\n",
    "        \n",
    "    corner_labels = labels(name)\n",
    "\n",
    "    truths = np.append(scale / 3, injection_energy['gamma'])\n",
    "    \n",
    "    reshaped_steps = mcmc_pickle[burn_in:].reshape((-1,ndim))\n",
    "    \n",
    "    fig = corner.corner(reshaped_steps, bins=30,\n",
    "                        labels=corner_labels,\n",
    "                        quantiles=[0.16, 0.5, 0.84],\n",
    "                        truths=truths,\n",
    "                        use_math_text=True,\n",
    "                        show_titles=True, \n",
    "                        title_kwargs={\"fontsize\": 10},\n",
    "                        plot_datapoints=False, \n",
    "                        **kwargs)\n",
    "    \n",
    "    if save_fig:\n",
    "        plt.savefig(os.path.join(plot_output_dir(name), 'corner.png'))"
   ]
  },
  {
   "cell_type": "code",
   "execution_count": null,
   "metadata": {},
   "outputs": [],
   "source": [
    "# Corner plot with burn in\n",
    "corner_plot(name)"
   ]
  },
  {
   "cell_type": "code",
   "execution_count": null,
   "metadata": {},
   "outputs": [],
   "source": [
    "# Corner plot without brun in, save figure\n",
    "# corner_plot(name, burn_in=2000, save_fig=True)"
   ]
  },
  {
   "cell_type": "markdown",
   "metadata": {},
   "source": [
    "### Walker Steps"
   ]
  },
  {
   "cell_type": "code",
   "execution_count": null,
   "metadata": {},
   "outputs": [],
   "source": [
    "def walker_plot(name, n_steps, save_fig=False):\n",
    "    ndim = len(catalogue) + 1\n",
    "    fig, axes = plt.subplots(ndim, figsize=(15, 8), sharex=True)\n",
    "    # samples = sampler.get_chain()\n",
    "    walker_labels = labels(name)\n",
    "    for i in range(ndim):\n",
    "        ax = axes[i]\n",
    "        ax.plot(mcmc_pickle[:, :, i], \"k\", alpha=0.1)\n",
    "        ax.set_xlim(0, len(mcmc_pickle[:n_steps]))\n",
    "        ax.set_ylabel(walker_labels[i], rotation=0, ha='right')\n",
    "        ax.yaxis.set_label_coords(-0.05, 0.5)\n",
    "\n",
    "    axes[-1].set_xlabel(\"step number\")\n",
    "    fig.tight_layout\n",
    "    \n",
    "    if save_fig:\n",
    "        plt.savefig(os.path.join(plot_output_dir(name), 'walkers.png'))"
   ]
  },
  {
   "cell_type": "code",
   "execution_count": null,
   "metadata": {},
   "outputs": [],
   "source": [
    "# Plot walkers, save figure \n",
    "walker_plot(name, n_steps=len(mcmc_pickle), save_fig=True)"
   ]
  },
  {
   "cell_type": "code",
   "execution_count": null,
   "metadata": {},
   "outputs": [],
   "source": [
    "# Plot first 1000 steps\n",
    "walker_plot(name, n_steps=1000)"
   ]
  },
  {
   "cell_type": "markdown",
   "metadata": {},
   "source": [
    "### Autocorrelation Function"
   ]
  },
  {
   "cell_type": "code",
   "execution_count": null,
   "metadata": {},
   "outputs": [],
   "source": [
    "import emcee.autocorr as eac"
   ]
  },
  {
   "cell_type": "code",
   "execution_count": null,
   "metadata": {},
   "outputs": [],
   "source": [
    "eac.function_1d(mcmc_pickle[:,0,2])"
   ]
  },
  {
   "cell_type": "code",
   "execution_count": null,
   "metadata": {
    "scrolled": false
   },
   "outputs": [],
   "source": [
    "fig, axes = plt.subplots(ndim, figsize=(15, 8), sharex=True)\n",
    "# samples = sampler.get_chain()\n",
    "labels = corner_labels\n",
    "for i in range(ndim):\n",
    "    ax = axes[i]\n",
    "    ax.plot(eac.function_1d(mcmc_pickle[:,0,i]), \"k\", alpha=0.1)\n",
    "    ax.axvline(3 * eac.integrated_time(mcmc_pickle[:,0,:], quiet=True)[0], 0, 1)\n",
    "#     ax.set_xlim(0, len(mcmc_pickle[:500]))\n",
    "    ax.set_ylabel(labels[i], rotation=0, ha='right')\n",
    "    ax.yaxis.set_label_coords(-0.05, 0.5)\n",
    "\n",
    "axes[-1].set_xlabel(\"step number\");"
   ]
  },
  {
   "cell_type": "code",
   "execution_count": null,
   "metadata": {},
   "outputs": [],
   "source": [
    "for i in range(ndim):\n",
    "    q_16, q_50, q_84 = corner.quantile(no_burn[:,i], [0.16, 0.5, 0.84]) # your x is q_50\n",
    "    dx_down, dx_up = q_50-q_16, q_84-q_50\n",
    "    print(f'{i:>3d} {corner_labels[i]:>40s} : {q_50:>7.2f} [{dx_down:<4.2f}, {dx_up:<4.2f}]')"
   ]
  },
  {
   "cell_type": "code",
   "execution_count": null,
   "metadata": {},
   "outputs": [],
   "source": [
    "nsteps, nwalkers, nparams = mcmc_pickle.shape\n",
    "acf = np.zeros(shape=(nsteps, nparams))\n",
    "for i in range(nparams):\n",
    "    temp = np.zeros(shape=(nsteps, nwalkers))\n",
    "    for x in range(nwalkers):\n",
    "        temp[:,x] = eac.function_1d(mcmc_pickle[:,x,i])\n",
    "    acf[:,i] = temp.mean(axis=1)\n",
    "    \n",
    "acf"
   ]
  },
  {
   "cell_type": "code",
   "execution_count": null,
   "metadata": {},
   "outputs": [],
   "source": [
    "# First n steps\n",
    "n = 700\n",
    "fig, axes = plt.subplots(ndim, figsize=(15, 8), sharex=True)\n",
    "# samples = sampler.get_chain()\n",
    "labels = corner_labels\n",
    "act = eac.integrated_time(mcmc_pickle[:,:,:], quiet=True)\n",
    "for i in range(ndim):\n",
    "    ax = axes[i]\n",
    "    ax.plot(acf[:,i], \"k\", alpha=0.5)\n",
    "    ax.axvline(act[i], 0, 1)\n",
    "    ax.set_xlim(0, len(mcmc_pickle[:n]))\n",
    "    ax.set_ylabel(labels[i], rotation=0, ha='right')\n",
    "    ax.yaxis.set_label_coords(-0.05, 0.5)\n",
    "\n",
    "axes[-1].set_xlabel(\"step number\");"
   ]
  },
  {
   "cell_type": "code",
   "execution_count": null,
   "metadata": {},
   "outputs": [],
   "source": []
  }
 ],
 "metadata": {
  "kernelspec": {
   "display_name": "Python 3 (ipykernel)",
   "language": "python",
   "name": "python3"
  },
  "language_info": {
   "codemirror_mode": {
    "name": "ipython",
    "version": 3
   },
   "file_extension": ".py",
   "mimetype": "text/x-python",
   "name": "python",
   "nbconvert_exporter": "python",
   "pygments_lexer": "ipython3",
   "version": "3.10.3"
  }
 },
 "nbformat": 4,
 "nbformat_minor": 4
}
