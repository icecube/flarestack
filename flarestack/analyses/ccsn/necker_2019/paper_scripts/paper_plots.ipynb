{
 "cells": [
  {
   "cell_type": "code",
   "execution_count": 1,
   "metadata": {},
   "outputs": [],
   "source": [
    "%load_ext autoreload\n",
    "%autoreload 2"
   ]
  },
  {
   "cell_type": "code",
   "execution_count": 2,
   "metadata": {},
   "outputs": [],
   "source": [
    "import logging, os, pickle, scipy, copy, shutil, subprocess\n",
    "import numpy as np\n",
    "import matplotlib.pyplot as plt\n",
    "import pandas as pd\n",
    "# import seaborn as sns\n",
    "import astropy.units as u\n",
    "import astropy.constants as const\n",
    "from scipy.integrate import quad"
   ]
  },
  {
   "cell_type": "code",
   "execution_count": 3,
   "metadata": {},
   "outputs": [],
   "source": [
    "logging.getLogger().setLevel('DEBUG')\n",
    "logging.getLogger('matplotlib').setLevel('WARNING')\n",
    "logger = logging.getLogger('main')"
   ]
  },
  {
   "cell_type": "code",
   "execution_count": null,
   "outputs": [],
   "source": [
    "from flarestack.shared import name_pickle_output_dir, unblinding_output_path, unbliding_dir, limit_output_path, plot_output_dir\n",
    "from flarestack.cosmo.icecube_diffuse_flux import get_diffuse_flux_at_100TeV, get_diffuse_flux_at_1GeV\n",
    "from flarestack.cosmo import get_diffuse_flux_contour\n",
    "from flarestack.analyses.ccsn import get_sn_color\n",
    "# from flarestack.analyses.ccsn.stasik_2017.pre_trial_pvalues import stasik_pre_trial_pvalues\n",
    "from flarestack.analyses.ccsn.necker_2019.ccsn_helpers import sn_cats, sn_time_pdfs, sn_times, get_population_flux\n",
    "from flarestack.analyses.ccsn.necker_2019.ccsn_rate import get_ccsn_rate_type_function\n",
    "# from flarestack.analyses.ccsn.necker_2019.unblinding_scripts.unblind_updated_ccsn import name_root, bkg_ts_root\n",
    "from flarestack.analyses.ccsn.necker_2019.unblinding_scripts.energy_range.energy_range import energy_range_filename\n",
    "from flarestack.analyses.ccsn.necker_2019.unblinding_scripts.p_value_distribution.generate_background_pvalue_distribution_single import \\\n",
    "    base_raw, gammas, p_value_filename_single, p_value_directory, p_value_filename"
   ],
   "metadata": {
    "collapsed": false,
    "pycharm": {
     "name": "#%%\n"
    }
   }
  },
  {
   "cell_type": "code",
   "execution_count": null,
   "outputs": [],
   "source": [
    "name_root = \"analyses/ccsn/necker_2019/unblind_ccsn\""
   ],
   "metadata": {
    "collapsed": false,
    "pycharm": {
     "name": "#%%\n"
    }
   }
  },
  {
   "cell_type": "code",
   "execution_count": 7,
   "metadata": {},
   "outputs": [],
   "source": [
    "name_root = \"analyses/ccsn/necker_2019/unblind_ccsn\""
   ]
  },
  {
   "cell_type": "code",
   "execution_count": 8,
   "metadata": {},
   "outputs": [
    {
     "data": {
      "text/plain": [
       "'/Users/jannisnecker/flarestack__data/storage/analyses/ccsn/necker_2019/calculate_sensitivity_ps-v002p03/fit_weights/energy_range.pkl'"
      ]
     },
     "execution_count": 8,
     "metadata": {},
     "output_type": "execute_result"
    }
   ],
   "source": [
    "energy_range_filename"
   ]
  },
  {
   "cell_type": "markdown",
   "metadata": {},
   "source": [
    "Set unified plotting style"
   ]
  },
  {
   "cell_type": "code",
   "execution_count": 9,
   "metadata": {},
   "outputs": [],
   "source": [
    "axis_label_fs = 12\n",
    "axis_ticks_fs = 10\n",
    "legend_fs = 12\n",
    "title_fs = 14\n",
    "figsize = (5.85, 3.6154988341868854)\n",
    "preliminary_color = 'red'\n",
    "preliminary_fs = 30\n",
    "preliminary_txt = 'IceCube\\nPreliminary'"
   ]
  },
  {
   "cell_type": "markdown",
   "metadata": {},
   "source": [
    "Directory for paper plots"
   ]
  },
  {
   "cell_type": "code",
   "execution_count": 10,
   "metadata": {},
   "outputs": [
    {
     "name": "stderr",
     "output_type": "stream",
     "text": [
      "INFO:main:Plots can be found in /Users/jannisnecker/flarestack__data/output/plots/analyses/ccsn/necker_2019/paper\n"
     ]
    }
   ],
   "source": [
    "paper_ccsn_plot_dir = plot_output_dir(\"analyses/ccsn/necker_2019/paper\")\n",
    "logger.info(f'Plots can be found in {paper_ccsn_plot_dir}')"
   ]
  },
  {
   "cell_type": "markdown",
   "metadata": {},
   "source": [
    "# Energy Limits"
   ]
  },
  {
   "cell_type": "code",
   "execution_count": 11,
   "metadata": {},
   "outputs": [],
   "source": [
    "def energy_integral(Elow, Ehigh, gamma):\n",
    "    Elow_gev = Elow.to(\"GeV\").value\n",
    "    Ehigh_gev = Ehigh.to(\"GeV\").value\n",
    "    \n",
    "    if gamma == 2:\n",
    "        integral = np.log(Ehigh_gev) - np.log(Elow_gev)\n",
    "        \n",
    "    else:\n",
    "        \n",
    "        def integrand(E):\n",
    "            return E ** (1 - gamma)\n",
    "        \n",
    "        integral, integral_e = quad(integrand, Elow_gev, Ehigh_gev)\n",
    "        \n",
    "    return integral"
   ]
  },
  {
   "cell_type": "markdown",
   "metadata": {},
   "source": [
    "Murase et al. (2011) (https://journals.aps.org/prd/abstract/10.1103/PhysRevD.84.043003)"
   ]
  },
  {
   "cell_type": "code",
   "execution_count": 12,
   "metadata": {},
   "outputs": [
    {
     "data": {
      "text/latex": [
       "$1.3242144 \\times 10^{49} \\; \\mathrm{erg}$"
      ],
      "text/plain": [
       "<Quantity 1.32421436e+49 erg>"
      ]
     },
     "execution_count": 12,
     "metadata": {},
     "output_type": "execute_result"
    }
   ],
   "source": [
    "n_sh = 1e11 * (u.cm ** (-3))\n",
    "R_sh = 10**(15.5) * u.cm\n",
    "Delta_R_sh = R_sh\n",
    "u_ej = 1e4 * u.km / u.s\n",
    "E_ej = 1e51*u.erg\n",
    "\n",
    "epsilon_standard = 0.1 \n",
    "E_ej_standard = 1e51 * u.erg\n",
    "lum_dist_standard = 10 * u.Mpc\n",
    "\n",
    "\n",
    "def murase_lim(epsilon=0.1, f_pp=1, E_ej=E_ej, Elow=1e2*u.GeV, Ehigh=1e7*u.GeV, gamma=2):\n",
    "    fluence = 6e-2 * u.GeV / (u.cm**2) * epsilon / epsilon_standard * min((f_pp, 1)) * E_ej / E_ej_standard * lum_dist_standard ** 2\n",
    "    area = 4 * np.pi\n",
    "    tot_energy = fluence * area * energy_integral(Elow, Ehigh, gamma)\n",
    "    return tot_energy.to('erg')\n",
    "\n",
    "\n",
    "murase_lim(gamma=2.)"
   ]
  },
  {
   "cell_type": "code",
   "execution_count": 13,
   "metadata": {},
   "outputs": [
    {
     "name": "stderr",
     "output_type": "stream",
     "text": [
      "/var/folders/8r/3ym_r27d6hz1tw5wqp1x8dqr0000gn/T/ipykernel_18442/2756727713.py:4: MatplotlibDeprecationWarning: Support for case-insensitive scales is deprecated since 3.5 and support will be removed two minor releases later.\n",
      "  plt.yscale(\"LOG\")\n"
     ]
    },
    {
     "data": {
      "image/png": "[encoded data removed]",
      "text/plain": [
       "<Figure size 640x480 with 1 Axes>"
      ]
     },
     "metadata": {},
     "output_type": "display_data"
    }
   ],
   "source": [
    "gs = np.linspace(2, 3, 5)\n",
    "lims = [murase_lim(gamma=g) for g in gs]\n",
    "plt.plot(gs, u.Quantity(lims).to(\"erg\").value)\n",
    "plt.yscale(\"LOG\")\n",
    "plt.show()"
   ]
  },
  {
   "cell_type": "code",
   "execution_count": 14,
   "metadata": {},
   "outputs": [
    {
     "data": {
      "text/plain": [
       "1.1501984529259554e+48"
      ]
     },
     "execution_count": 14,
     "metadata": {},
     "output_type": "execute_result"
    }
   ],
   "source": [
    "a = 6e-2 * u.GeV / (u.cm**2) * lum_dist_standard ** 2 * 4 * np.pi\n",
    "a.to('GeV').value * 0.0016021773"
   ]
  },
  {
   "cell_type": "code",
   "execution_count": 15,
   "metadata": {},
   "outputs": [
    {
     "data": {
      "text/plain": [
       "11.512925464970229"
      ]
     },
     "execution_count": 15,
     "metadata": {},
     "output_type": "execute_result"
    }
   ],
   "source": [
    "np.log(1e7) - np.log(1e2)"
   ]
  },
  {
   "cell_type": "markdown",
   "metadata": {},
   "source": [
    "ptuskin et al. (2016) (httplum_dist_standard//doi.org/10.1016/j.astropartphys.2016.02.004)"
   ]
  },
  {
   "cell_type": "code",
   "execution_count": 16,
   "metadata": {},
   "outputs": [
    {
     "name": "stdout",
     "output_type": "stream",
     "text": [
      "csm mass [M_sol] 11.142444611026786\n",
      "mass loss rate [M_sol / yr] 1.1119479307146483\n",
      "ejecta mass [M_sol] 1.0058288431740083\n"
     ]
    },
    {
     "data": {
      "text/latex": [
       "$8.2551188 \\times 10^{48} \\; \\mathrm{erg}$"
      ],
      "text/plain": [
       "<Quantity 8.25511875e+48 erg>"
      ]
     },
     "execution_count": 16,
     "metadata": {},
     "output_type": "execute_result"
    }
   ],
   "source": [
    "particle_mass_csm = const.m_p\n",
    "V_CSM = 4/3 * np.pi * ((R_sh )**3 - (R_sh - Delta_R_sh)**3)\n",
    "M_CSM = V_CSM * n_sh * particle_mass_csm\n",
    "print('csm mass [M_sol]', M_CSM / const.M_sun)\n",
    "\n",
    "u_w_standard = 100 * u.km / u.s\n",
    "M_dot = M_CSM / Delta_R_sh * u_w_standard\n",
    "print('mass loss rate [M_sol / yr]', (M_dot / const.M_sun).to('yr-1').value)\n",
    "\n",
    "M_ej = 2 * E_ej / (u_ej ** 2)\n",
    "print('ejecta mass [M_sol]', (M_ej.to('kg') / const.M_sun.to('kg')))\n",
    "\n",
    "M_dot_standard = 1e-2 * const.M_sun / u.yr\n",
    "E_SN_standard = 1e52 * u.erg\n",
    "M_ej_standard = 10 * const.M_sun\n",
    "integration_time = 1e7 * u.s\n",
    "\n",
    "\n",
    "def t_pp(M_dot=M_dot, u_w=u_w_standard, E_SN=E_ej_standard, M_ej=M_ej):\n",
    "    f_Mdot = M_dot / M_dot_standard\n",
    "    f_w = u_w_standard / u_w\n",
    "    f_E = (E_SN / E_SN_standard) ** (3/2)\n",
    "    f_Mej = (M_ej / M_ej_standard) ** (-3/2)\n",
    "    \n",
    "    t_pp = 0.2*u.yr * f_Mdot * f_w * f_E * f_Mej\n",
    "    return t_pp\n",
    "\n",
    "\n",
    "def f_E_nu(\n",
    "    t_pp_v=0.2*u.yr, \n",
    "    M_dot=M_dot, \n",
    "    u_w=u_w_standard, \n",
    "    E_SN=E_ej_standard, \n",
    "    M_ej=M_ej, \n",
    "    epsilon=0.1, \n",
    "    int_time=integration_time,\n",
    "    Elow=1e2*u.GeV,\n",
    "    Ehigh=1e7*u.GeV,\n",
    "    gamma=2\n",
    "):\n",
    "    \n",
    "    if isinstance(t_pp_v, type(None)):\n",
    "        t_pp_v = t_pp(M_dot=M_dot, u_w=u_w_standard, E_SN=E_ej_standard, M_ej=M_ej)\n",
    "    \n",
    "    t_pp_s = t_pp_v.to('s').value\n",
    "    \n",
    "    f = 1e-8 * u.erg / (u.cm**2 * u.s) * u.Mpc**2 * epsilon * (t_pp_v / (0.2*u.yr)) * 4 * np.pi\n",
    "    f_erg_s = f.to('erg s-1').value\n",
    "    \n",
    "    def integrand(t):\n",
    "        return f_erg_s / (1 + t/t_pp_s)\n",
    "    \n",
    "    integral, e = quad(integrand, 0, int_time.to('s').value)\n",
    "    \n",
    "    return integral * u.erg * energy_integral(Elow, Ehigh, gamma)\n",
    "\n",
    "\n",
    "f_E_nu()"
   ]
  },
  {
   "cell_type": "code",
   "execution_count": 17,
   "metadata": {},
   "outputs": [
    {
     "data": {
      "text/latex": [
       "$4.3621333 \\times 10^{49} \\; \\mathrm{erg}$"
      ],
      "text/plain": [
       "<Quantity 4.36213332e+49 erg>"
      ]
     },
     "execution_count": 17,
     "metadata": {},
     "output_type": "execute_result"
    }
   ],
   "source": [
    "td = 0.2*u.yr\n",
    "f_E_nu(t_pp_v=td, int_time=30*u.yr)"
   ]
  },
  {
   "cell_type": "code",
   "execution_count": 18,
   "metadata": {},
   "outputs": [
    {
     "data": {
      "text/plain": [
       "150.0"
      ]
     },
     "execution_count": 18,
     "metadata": {},
     "output_type": "execute_result"
    }
   ],
   "source": [
    "30/0.2"
   ]
  },
  {
   "cell_type": "code",
   "execution_count": 24,
   "metadata": {},
   "outputs": [
    {
     "name": "stderr",
     "output_type": "stream",
     "text": [
      "DEBUG:main:IIn\n"
     ]
    },
    {
     "ename": "ValueError",
     "evalue": "'yerr' (shape: (3, 1)) must be a scalar or a 1D or (2, n) array-like whose shape matches 'y' (shape: (3, 1))",
     "output_type": "error",
     "traceback": [
      "\u001B[0;31m---------------------------------------------------------------------------\u001B[0m",
      "\u001B[0;31mValueError\u001B[0m                                Traceback (most recent call last)",
      "Cell \u001B[0;32mIn [24], line 37\u001B[0m\n\u001B[1;32m     34\u001B[0m     \u001B[38;5;28;01melse\u001B[39;00m:\n\u001B[1;32m     35\u001B[0m         x\u001B[38;5;241m.\u001B[39mappend(time \u001B[38;5;241m/\u001B[39m \u001B[38;5;241m364.25\u001B[39m)\n\u001B[0;32m---> 37\u001B[0m \u001B[43max\u001B[49m\u001B[38;5;241;43m.\u001B[39;49m\u001B[43merrorbar\u001B[49m\u001B[43m(\u001B[49m\u001B[43mx\u001B[49m\u001B[43m,\u001B[49m\u001B[43m \u001B[49m\u001B[43my\u001B[49m\u001B[43m,\u001B[49m\u001B[43m \u001B[49m\u001B[43myerr\u001B[49m\u001B[38;5;241;43m=\u001B[39;49m\u001B[43mnp\u001B[49m\u001B[38;5;241;43m.\u001B[39;49m\u001B[43marray\u001B[49m\u001B[43m(\u001B[49m\u001B[43my\u001B[49m\u001B[43m)\u001B[49m\u001B[38;5;241;43m*\u001B[39;49m\u001B[38;5;241;43m1e-1\u001B[39;49m\u001B[43m,\u001B[49m\u001B[43m \u001B[49m\u001B[43muplims\u001B[49m\u001B[38;5;241;43m=\u001B[39;49m\u001B[38;5;241;43m4\u001B[39;49m\u001B[43m,\u001B[49m\u001B[43m \u001B[49m\n\u001B[1;32m     38\u001B[0m \u001B[43m            \u001B[49m\u001B[43mcolor\u001B[49m\u001B[38;5;241;43m=\u001B[39;49m\u001B[43mget_sn_color\u001B[49m\u001B[43m(\u001B[49m\u001B[43mcat\u001B[49m\u001B[43m)\u001B[49m\u001B[43m,\u001B[49m\u001B[43m \u001B[49m\u001B[43mls\u001B[49m\u001B[38;5;241;43m=\u001B[39;49m\u001B[38;5;124;43m'\u001B[39;49m\u001B[38;5;124;43m'\u001B[39;49m\u001B[43m,\u001B[49m\u001B[43m \u001B[49m\u001B[43mcapsize\u001B[49m\u001B[38;5;241;43m=\u001B[39;49m\u001B[38;5;241;43m4\u001B[39;49m\u001B[43m,\u001B[49m\u001B[43m \u001B[49m\u001B[43mlabel\u001B[49m\u001B[38;5;241;43m=\u001B[39;49m\u001B[43mcat\u001B[49m\u001B[43m,\u001B[49m\u001B[43m \u001B[49m\u001B[43mmarker\u001B[49m\u001B[38;5;241;43m=\u001B[39;49m\u001B[38;5;124;43m'\u001B[39;49m\u001B[38;5;124;43m_\u001B[39;49m\u001B[38;5;124;43m'\u001B[39;49m\u001B[43m,\u001B[49m\u001B[43m \u001B[49m\u001B[43mmarkersize\u001B[49m\u001B[38;5;241;43m=\u001B[39;49m\u001B[38;5;241;43m10\u001B[39;49m\u001B[43m)\u001B[49m\n\u001B[1;32m     41\u001B[0m \u001B[38;5;28mprint\u001B[39m(pdf_type, cat)\n\u001B[1;32m     42\u001B[0m \u001B[38;5;28mprint\u001B[39m(x, y)\n",
      "File \u001B[0;32m~/opt/miniconda3/envs/flarestack/lib/python3.9/site-packages/matplotlib/__init__.py:1412\u001B[0m, in \u001B[0;36m_preprocess_data.<locals>.inner\u001B[0;34m(ax, data, *args, **kwargs)\u001B[0m\n\u001B[1;32m   1409\u001B[0m \u001B[38;5;129m@functools\u001B[39m\u001B[38;5;241m.\u001B[39mwraps(func)\n\u001B[1;32m   1410\u001B[0m \u001B[38;5;28;01mdef\u001B[39;00m \u001B[38;5;21minner\u001B[39m(ax, \u001B[38;5;241m*\u001B[39margs, data\u001B[38;5;241m=\u001B[39m\u001B[38;5;28;01mNone\u001B[39;00m, \u001B[38;5;241m*\u001B[39m\u001B[38;5;241m*\u001B[39mkwargs):\n\u001B[1;32m   1411\u001B[0m     \u001B[38;5;28;01mif\u001B[39;00m data \u001B[38;5;129;01mis\u001B[39;00m \u001B[38;5;28;01mNone\u001B[39;00m:\n\u001B[0;32m-> 1412\u001B[0m         \u001B[38;5;28;01mreturn\u001B[39;00m \u001B[43mfunc\u001B[49m\u001B[43m(\u001B[49m\u001B[43max\u001B[49m\u001B[43m,\u001B[49m\u001B[43m \u001B[49m\u001B[38;5;241;43m*\u001B[39;49m\u001B[38;5;28;43mmap\u001B[39;49m\u001B[43m(\u001B[49m\u001B[43msanitize_sequence\u001B[49m\u001B[43m,\u001B[49m\u001B[43m \u001B[49m\u001B[43margs\u001B[49m\u001B[43m)\u001B[49m\u001B[43m,\u001B[49m\u001B[43m \u001B[49m\u001B[38;5;241;43m*\u001B[39;49m\u001B[38;5;241;43m*\u001B[39;49m\u001B[43mkwargs\u001B[49m\u001B[43m)\u001B[49m\n\u001B[1;32m   1414\u001B[0m     bound \u001B[38;5;241m=\u001B[39m new_sig\u001B[38;5;241m.\u001B[39mbind(ax, \u001B[38;5;241m*\u001B[39margs, \u001B[38;5;241m*\u001B[39m\u001B[38;5;241m*\u001B[39mkwargs)\n\u001B[1;32m   1415\u001B[0m     auto_label \u001B[38;5;241m=\u001B[39m (bound\u001B[38;5;241m.\u001B[39marguments\u001B[38;5;241m.\u001B[39mget(label_namer)\n\u001B[1;32m   1416\u001B[0m                   \u001B[38;5;129;01mor\u001B[39;00m bound\u001B[38;5;241m.\u001B[39mkwargs\u001B[38;5;241m.\u001B[39mget(label_namer))\n",
      "File \u001B[0;32m~/opt/miniconda3/envs/flarestack/lib/python3.9/site-packages/matplotlib/axes/_axes.py:3450\u001B[0m, in \u001B[0;36mAxes.errorbar\u001B[0;34m(self, x, y, yerr, xerr, fmt, ecolor, elinewidth, capsize, barsabove, lolims, uplims, xlolims, xuplims, errorevery, capthick, **kwargs)\u001B[0m\n\u001B[1;32m   3448\u001B[0m     np\u001B[38;5;241m.\u001B[39mbroadcast_to(err, (\u001B[38;5;241m2\u001B[39m, \u001B[38;5;28mlen\u001B[39m(dep)))\n\u001B[1;32m   3449\u001B[0m \u001B[38;5;28;01mexcept\u001B[39;00m \u001B[38;5;167;01mValueError\u001B[39;00m:\n\u001B[0;32m-> 3450\u001B[0m     \u001B[38;5;28;01mraise\u001B[39;00m \u001B[38;5;167;01mValueError\u001B[39;00m(\n\u001B[1;32m   3451\u001B[0m         \u001B[38;5;124mf\u001B[39m\u001B[38;5;124m\"\u001B[39m\u001B[38;5;124m'\u001B[39m\u001B[38;5;132;01m{\u001B[39;00mdep_axis\u001B[38;5;132;01m}\u001B[39;00m\u001B[38;5;124merr\u001B[39m\u001B[38;5;124m'\u001B[39m\u001B[38;5;124m (shape: \u001B[39m\u001B[38;5;132;01m{\u001B[39;00mnp\u001B[38;5;241m.\u001B[39mshape(err)\u001B[38;5;132;01m}\u001B[39;00m\u001B[38;5;124m) must be a \u001B[39m\u001B[38;5;124m\"\u001B[39m\n\u001B[1;32m   3452\u001B[0m         \u001B[38;5;124mf\u001B[39m\u001B[38;5;124m\"\u001B[39m\u001B[38;5;124mscalar or a 1D or (2, n) array-like whose shape matches \u001B[39m\u001B[38;5;124m\"\u001B[39m\n\u001B[1;32m   3453\u001B[0m         \u001B[38;5;124mf\u001B[39m\u001B[38;5;124m\"\u001B[39m\u001B[38;5;124m'\u001B[39m\u001B[38;5;132;01m{\u001B[39;00mdep_axis\u001B[38;5;132;01m}\u001B[39;00m\u001B[38;5;124m'\u001B[39m\u001B[38;5;124m (shape: \u001B[39m\u001B[38;5;132;01m{\u001B[39;00mnp\u001B[38;5;241m.\u001B[39mshape(dep)\u001B[38;5;132;01m}\u001B[39;00m\u001B[38;5;124m)\u001B[39m\u001B[38;5;124m\"\u001B[39m) \u001B[38;5;28;01mfrom\u001B[39;00m \u001B[38;5;28mNone\u001B[39m\n\u001B[1;32m   3454\u001B[0m \u001B[38;5;66;03m# This is like\u001B[39;00m\n\u001B[1;32m   3455\u001B[0m \u001B[38;5;66;03m#     elow, ehigh = np.broadcast_to(...)\u001B[39;00m\n\u001B[1;32m   3456\u001B[0m \u001B[38;5;66;03m#     return dep - elow * ~lolims, dep + ehigh * ~uplims\u001B[39;00m\n\u001B[1;32m   3457\u001B[0m \u001B[38;5;66;03m# except that broadcast_to would strip units.\u001B[39;00m\n\u001B[1;32m   3458\u001B[0m low, high \u001B[38;5;241m=\u001B[39m dep \u001B[38;5;241m+\u001B[39m np\u001B[38;5;241m.\u001B[39mrow_stack([\u001B[38;5;241m-\u001B[39m(\u001B[38;5;241m1\u001B[39m \u001B[38;5;241m-\u001B[39m lolims), \u001B[38;5;241m1\u001B[39m \u001B[38;5;241m-\u001B[39m uplims]) \u001B[38;5;241m*\u001B[39m err\n",
      "\u001B[0;31mValueError\u001B[0m: 'yerr' (shape: (3, 1)) must be a scalar or a 1D or (2, n) array-like whose shape matches 'y' (shape: (3, 1))"
     ]
    },
    {
     "data": {
      "image/png": "[encoded data removed]",
      "text/plain": [
       "<Figure size 585x361.55 with 1 Axes>"
      ]
     },
     "metadata": {},
     "output_type": "display_data"
    }
   ],
   "source": [
    "for gamma in [2, 2.5]:\n",
    "\n",
    "    for pdf_type in ['decay', 'box']:\n",
    "\n",
    "        fig, ax = plt.subplots(figsize=figsize)\n",
    "\n",
    "        for cat in sn_cats:\n",
    "            logger.debug(cat)\n",
    "            \n",
    "            try:\n",
    "                llh_times = sn_time_pdfs(cat, pdf_type=pdf_type)\n",
    "            except KeyError:\n",
    "                continue\n",
    "            \n",
    "            name = f'{name_root}/{pdf_type}/{cat}'\n",
    "\n",
    "            x = list()\n",
    "            y = list()\n",
    "\n",
    "            for llh_time in llh_times:\n",
    "                time = llh_time['decay_time'] if 'decay' in pdf_type else \\\n",
    "                    llh_time['pre_window'] + llh_time['post_window']\n",
    "                full_name = f'{name}/{time}/'\n",
    "\n",
    "                limit_path = limit_output_path(full_name + \"real_unblind/\")\n",
    "                with open(limit_path, 'rb') as f:\n",
    "                    limits = pickle.load(f)\n",
    "\n",
    "                ind = np.array(limits['gamma']) == gamma\n",
    "                y.append(np.array(limits['energy'])[ind])\n",
    "\n",
    "                if pdf_type == 'box':\n",
    "                    x.append(time)\n",
    "                else:\n",
    "                    x.append(time / 364.25)\n",
    "\n",
    "            ax.errorbar(x, y, yerr=np.array(y)*1e-1, uplims=4, \n",
    "                        color=get_sn_color(cat), ls='', capsize=4, label=cat, marker='_', markersize=10)\n",
    "            \n",
    "            \n",
    "            print(pdf_type, cat)\n",
    "            print(x, y)\n",
    "            \n",
    "        if pdf_type == 'box':\n",
    "            ts = [t.to('d').value for t in [1e7*u.s, 10**(7.8)*u.s]]\n",
    "            Es = [murase_lim().to('erg').value for _ in range(len(ts))]\n",
    "            ax.scatter(ts, Es, marker='s', s=40, color=get_sn_color('IIn'), label='Murase et al. (2011)')\n",
    "            \n",
    "        if pdf_type == 'decay':\n",
    "            td = 0.2*u.yr\n",
    "            E = f_E_nu(t_pp_v=td, int_time=30*u.yr).to('erg').value\n",
    "#             E_stand = f_E_nu(M_dot=M_dot_standard, u_w=u_w_standard, E_SN=E_SN_standard, M_ej=M_ej_standard).to('erg').value\n",
    "            ax.scatter(td, E, marker='D', s=40, label='Zirakashvili & Ptuskin (2016)', color=get_sn_color('IIn'))\n",
    "#             ax.scatter(t, E_stand, marker='d', s=40, label=' with standard parameters', color=get_sn_color(\"IIn\"))\n",
    "            \n",
    "        ax.set_xscale('log')\n",
    "        ax.set_yscale('log')\n",
    "        ax.set_xticks(x)\n",
    "        ax.set_xticklabels(x)\n",
    "        ax.tick_params(axis='x', labelsize=axis_ticks_fs)\n",
    "        ax.tick_params(axis='y', labelsize=axis_ticks_fs)\n",
    "#         xlim = ax.get_xlim()\n",
    "#         ax.set_xlim((min(xlim) * 0.1, max(xlim)))\n",
    "        ylim = (1e48, 5e50) if gamma == 2 else (1e48, 5e51)\n",
    "        ax.set_ylim(ylim)\n",
    "        ax.legend(fontsize=legend_fs, loc='upper center', ncol=2)\n",
    "        ax.grid()\n",
    "        \n",
    "        unit = \"y\" if pdf_type == 'decay' else \"d\"\n",
    "        xlabel = \"Box function $\\Delta$T [d]\" if pdf_type == 'box' else \"Decay time $t_{\\mathrm{pp}}$ [y]\"\n",
    "        ax.set_xlabel(xlabel, fontsize=axis_label_fs)\n",
    "        ax.set_ylabel(r\"$E^{\\nu} _{\\mathrm{tot}}$ [erg]\", fontsize=axis_label_fs)\n",
    "        #ax.set_title(f\"$\\gamma$ = {gamma:.2f}\", fontsize=title_fs)\n",
    "        \n",
    "#         ax.annotate(preliminary_txt,\n",
    "#                     color=preliminary_color, \n",
    "#                     fontsize=preliminary_fs,\n",
    "#                     xy=(0.99, 0.03), xycoords='axes fraction',\n",
    "#                     horizontalalignment='right', verticalalignment='bottom')\n",
    "        \n",
    "        filename = os.path.join(paper_ccsn_plot_dir, \"limits\", f\"{gamma:.2f}\", f\"SensModels{pdf_type.capitalize()}Small.pdf\")\n",
    "        d = os.path.dirname(filename)\n",
    "        if not os.path.isdir(d):\n",
    "            os.makedirs(d)\n",
    "            \n",
    "        logger.info(f\"saving under {filename}\")\n",
    "        fig.savefig(filename)\n",
    "        \n",
    "        plt.show()\n",
    "        plt.close()"
   ]
  },
  {
   "cell_type": "markdown",
   "metadata": {},
   "source": [
    "# Contribution to diffuse flux"
   ]
  },
  {
   "cell_type": "code",
   "execution_count": 25,
   "metadata": {},
   "outputs": [],
   "source": [
    "z = 8  # redshift integration"
   ]
  },
  {
   "cell_type": "code",
   "execution_count": 26,
   "metadata": {},
   "outputs": [],
   "source": [
    "def plot_diffuse_flux_measurement(axes, **kwargs):\n",
    "    fit = kwargs.get('fit', 'joint_15')\n",
    "    contour = kwargs.get('contour', '95')\n",
    "    color = kwargs.get('color', 'k')\n",
    "    label = kwargs.get('label', fit)\n",
    "    best_f, upper_f, lower_f, e_range = get_diffuse_flux_contour(fit=fit, contour_name=contour)\n",
    "    logging.debug('plotting diffuse flux measurement')\n",
    "    patch = axes.fill_between(e_range,\n",
    "                              y1=lower_f(e_range) * e_range ** 2,\n",
    "                              y2=upper_f(e_range) * e_range ** 2,\n",
    "                              label=f\"{contour}% contour\" if label else '', color=color, alpha=0.5)\n",
    "    line = axes.plot(e_range, best_f(e_range) * e_range ** 2, label=f'{label} best fit' if label else '', color=color)\n",
    "    return axes, patch, line"
   ]
  },
  {
   "cell_type": "code",
   "execution_count": 27,
   "metadata": {},
   "outputs": [
    {
     "name": "stderr",
     "output_type": "stream",
     "text": [
      "INFO:flarestack.cosmo.icecube_diffuse_flux:Loaded contour 'joint_15' from https://arxiv.org/abs/1507.03991\n",
      "DEBUG:root:plotting diffuse flux measurement\n",
      "DEBUG:main:energy is 1.703621708586203e+48\n",
      "INFO:root:Loaded evolution 'strolger_15' (https://arxiv.org/abs/1509.06574)\n",
      "INFO:root:Loaded rate 'strolger_15' (https://arxiv.org/abs/1509.06574)\n",
      "INFO:root:Loaded kcc 'strolger_15' (https://arxiv.org/abs/1509.06574)\n",
      "INFO:root:No specified sn_subclass_fractions_name. Assuming default.\n",
      "INFO:root:Loaded SN subclass fractions 'li_11' (https://arxiv.org/abs/1006.4612)\n",
      "INFO:root:Subclass 'Ibc' is equal to 24.50% of the CCSN rate.\n",
      "INFO:flarestack.cosmo.icecube_diffuse_flux:Loaded contour 'joint_15' from https://arxiv.org/abs/1507.03991\n",
      "INFO:flarestack.cosmo.icecube_diffuse_flux:Loaded contour 'joint_15' from https://arxiv.org/abs/1507.03991\n",
      "/var/folders/8r/3ym_r27d6hz1tw5wqp1x8dqr0000gn/T/ipykernel_18442/3015290188.py:48: FutureWarning: The frame.append method is deprecated and will be removed from pandas in a future version. Use pandas.concat instead.\n",
      "  contrib = contrib.append(\n",
      "DEBUG:main:energy is 2.6924015753376155e+48\n",
      "INFO:root:Loaded evolution 'strolger_15' (https://arxiv.org/abs/1509.06574)\n",
      "INFO:root:Loaded rate 'strolger_15' (https://arxiv.org/abs/1509.06574)\n",
      "INFO:root:Loaded kcc 'strolger_15' (https://arxiv.org/abs/1509.06574)\n",
      "INFO:root:No specified sn_subclass_fractions_name. Assuming default.\n",
      "INFO:root:Loaded SN subclass fractions 'li_11' (https://arxiv.org/abs/1006.4612)\n",
      "INFO:root:Subclass 'Ibc' is equal to 24.50% of the CCSN rate.\n",
      "INFO:flarestack.cosmo.icecube_diffuse_flux:Loaded contour 'joint_15' from https://arxiv.org/abs/1507.03991\n",
      "INFO:flarestack.cosmo.icecube_diffuse_flux:Loaded contour 'joint_15' from https://arxiv.org/abs/1507.03991\n",
      "/var/folders/8r/3ym_r27d6hz1tw5wqp1x8dqr0000gn/T/ipykernel_18442/3015290188.py:48: FutureWarning: The frame.append method is deprecated and will be removed from pandas in a future version. Use pandas.concat instead.\n",
      "  contrib = contrib.append(\n",
      "DEBUG:main:energy is 1.316938338465606e+49\n",
      "INFO:root:Loaded evolution 'strolger_15' (https://arxiv.org/abs/1509.06574)\n",
      "INFO:root:Loaded rate 'strolger_15' (https://arxiv.org/abs/1509.06574)\n",
      "INFO:root:Loaded kcc 'strolger_15' (https://arxiv.org/abs/1509.06574)\n",
      "INFO:root:No specified sn_subclass_fractions_name. Assuming default.\n",
      "INFO:root:Loaded SN subclass fractions 'li_11' (https://arxiv.org/abs/1006.4612)\n",
      "INFO:root:Subclass 'IIn' is equal to 6.40% of the CCSN rate.\n",
      "INFO:flarestack.cosmo.icecube_diffuse_flux:Loaded contour 'joint_15' from https://arxiv.org/abs/1507.03991\n",
      "INFO:flarestack.cosmo.icecube_diffuse_flux:Loaded contour 'joint_15' from https://arxiv.org/abs/1507.03991\n",
      "/var/folders/8r/3ym_r27d6hz1tw5wqp1x8dqr0000gn/T/ipykernel_18442/3015290188.py:48: FutureWarning: The frame.append method is deprecated and will be removed from pandas in a future version. Use pandas.concat instead.\n",
      "  contrib = contrib.append(\n",
      "DEBUG:main:energy is 2.3579306591952734e+48\n",
      "INFO:root:Loaded evolution 'strolger_15' (https://arxiv.org/abs/1509.06574)\n",
      "INFO:root:Loaded rate 'strolger_15' (https://arxiv.org/abs/1509.06574)\n",
      "INFO:root:Loaded kcc 'strolger_15' (https://arxiv.org/abs/1509.06574)\n",
      "INFO:root:No specified sn_subclass_fractions_name. Assuming default.\n",
      "INFO:root:Loaded SN subclass fractions 'li_11' (https://arxiv.org/abs/1006.4612)\n",
      "INFO:root:Subclass 'IIP' is equal to 52.00% of the CCSN rate.\n",
      "INFO:flarestack.cosmo.icecube_diffuse_flux:Loaded contour 'joint_15' from https://arxiv.org/abs/1507.03991\n",
      "INFO:flarestack.cosmo.icecube_diffuse_flux:Loaded contour 'joint_15' from https://arxiv.org/abs/1507.03991\n",
      "/var/folders/8r/3ym_r27d6hz1tw5wqp1x8dqr0000gn/T/ipykernel_18442/3015290188.py:48: FutureWarning: The frame.append method is deprecated and will be removed from pandas in a future version. Use pandas.concat instead.\n",
      "  contrib = contrib.append(\n",
      "INFO:main:saving under /Users/jannisnecker/flarestack__data/output/plots/analyses/ccsn/necker_2019/paper/limits/2.00/DiffuseFlux.pdf\n"
     ]
    },
    {
     "data": {
      "image/png": "[encoded data removed]",
      "text/plain": [
       "<Figure size 640x480 with 1 Axes>"
      ]
     },
     "metadata": {},
     "output_type": "display_data"
    },
    {
     "name": "stderr",
     "output_type": "stream",
     "text": [
      "INFO:flarestack.cosmo.icecube_diffuse_flux:Loaded contour 'joint_15' from https://arxiv.org/abs/1507.03991\n",
      "DEBUG:root:plotting diffuse flux measurement\n",
      "DEBUG:main:energy is 4.455661408623348e+48\n",
      "INFO:root:Loaded evolution 'strolger_15' (https://arxiv.org/abs/1509.06574)\n",
      "INFO:root:Loaded rate 'strolger_15' (https://arxiv.org/abs/1509.06574)\n",
      "INFO:root:Loaded kcc 'strolger_15' (https://arxiv.org/abs/1509.06574)\n",
      "INFO:root:No specified sn_subclass_fractions_name. Assuming default.\n",
      "INFO:root:Loaded SN subclass fractions 'li_11' (https://arxiv.org/abs/1006.4612)\n",
      "INFO:root:Subclass 'Ibc' is equal to 24.50% of the CCSN rate.\n"
     ]
    },
    {
     "name": "stdout",
     "output_type": "stream",
     "text": [
      "                perc_100TeV  perc_1GeV\n",
      "Ibc choked jet     0.395136   0.001250\n",
      "Ibc                0.624473   0.001975\n",
      "IIn                0.797909   0.002523\n",
      "IIP                1.160759   0.003671\n"
     ]
    },
    {
     "name": "stderr",
     "output_type": "stream",
     "text": [
      "INFO:flarestack.cosmo.icecube_diffuse_flux:Loaded contour 'joint_15' from https://arxiv.org/abs/1507.03991\n",
      "INFO:flarestack.cosmo.icecube_diffuse_flux:Loaded contour 'joint_15' from https://arxiv.org/abs/1507.03991\n",
      "/var/folders/8r/3ym_r27d6hz1tw5wqp1x8dqr0000gn/T/ipykernel_18442/3015290188.py:48: FutureWarning: The frame.append method is deprecated and will be removed from pandas in a future version. Use pandas.concat instead.\n",
      "  contrib = contrib.append(\n",
      "DEBUG:main:energy is 8.116413920129238e+48\n",
      "INFO:root:Loaded evolution 'strolger_15' (https://arxiv.org/abs/1509.06574)\n",
      "INFO:root:Loaded rate 'strolger_15' (https://arxiv.org/abs/1509.06574)\n",
      "INFO:root:Loaded kcc 'strolger_15' (https://arxiv.org/abs/1509.06574)\n",
      "INFO:root:No specified sn_subclass_fractions_name. Assuming default.\n",
      "INFO:root:Loaded SN subclass fractions 'li_11' (https://arxiv.org/abs/1006.4612)\n",
      "INFO:root:Subclass 'Ibc' is equal to 24.50% of the CCSN rate.\n",
      "INFO:flarestack.cosmo.icecube_diffuse_flux:Loaded contour 'joint_15' from https://arxiv.org/abs/1507.03991\n",
      "INFO:flarestack.cosmo.icecube_diffuse_flux:Loaded contour 'joint_15' from https://arxiv.org/abs/1507.03991\n",
      "/var/folders/8r/3ym_r27d6hz1tw5wqp1x8dqr0000gn/T/ipykernel_18442/3015290188.py:48: FutureWarning: The frame.append method is deprecated and will be removed from pandas in a future version. Use pandas.concat instead.\n",
      "  contrib = contrib.append(\n",
      "DEBUG:main:energy is 3.960771824371101e+49\n",
      "INFO:root:Loaded evolution 'strolger_15' (https://arxiv.org/abs/1509.06574)\n",
      "INFO:root:Loaded rate 'strolger_15' (https://arxiv.org/abs/1509.06574)\n",
      "INFO:root:Loaded kcc 'strolger_15' (https://arxiv.org/abs/1509.06574)\n",
      "INFO:root:No specified sn_subclass_fractions_name. Assuming default.\n",
      "INFO:root:Loaded SN subclass fractions 'li_11' (https://arxiv.org/abs/1006.4612)\n",
      "INFO:root:Subclass 'IIn' is equal to 6.40% of the CCSN rate.\n",
      "INFO:flarestack.cosmo.icecube_diffuse_flux:Loaded contour 'joint_15' from https://arxiv.org/abs/1507.03991\n",
      "INFO:flarestack.cosmo.icecube_diffuse_flux:Loaded contour 'joint_15' from https://arxiv.org/abs/1507.03991\n",
      "/var/folders/8r/3ym_r27d6hz1tw5wqp1x8dqr0000gn/T/ipykernel_18442/3015290188.py:48: FutureWarning: The frame.append method is deprecated and will be removed from pandas in a future version. Use pandas.concat instead.\n",
      "  contrib = contrib.append(\n",
      "DEBUG:main:energy is 8.616770275710179e+48\n",
      "INFO:root:Loaded evolution 'strolger_15' (https://arxiv.org/abs/1509.06574)\n",
      "INFO:root:Loaded rate 'strolger_15' (https://arxiv.org/abs/1509.06574)\n",
      "INFO:root:Loaded kcc 'strolger_15' (https://arxiv.org/abs/1509.06574)\n",
      "INFO:root:No specified sn_subclass_fractions_name. Assuming default.\n",
      "INFO:root:Loaded SN subclass fractions 'li_11' (https://arxiv.org/abs/1006.4612)\n",
      "INFO:root:Subclass 'IIP' is equal to 52.00% of the CCSN rate.\n",
      "INFO:flarestack.cosmo.icecube_diffuse_flux:Loaded contour 'joint_15' from https://arxiv.org/abs/1507.03991\n",
      "INFO:flarestack.cosmo.icecube_diffuse_flux:Loaded contour 'joint_15' from https://arxiv.org/abs/1507.03991\n",
      "/var/folders/8r/3ym_r27d6hz1tw5wqp1x8dqr0000gn/T/ipykernel_18442/3015290188.py:48: FutureWarning: The frame.append method is deprecated and will be removed from pandas in a future version. Use pandas.concat instead.\n",
      "  contrib = contrib.append(\n",
      "INFO:main:saving under /Users/jannisnecker/flarestack__data/output/plots/analyses/ccsn/necker_2019/paper/limits/2.50/DiffuseFlux.pdf\n"
     ]
    },
    {
     "data": {
      "image/png": "[encoded data removed]",
      "text/plain": [
       "<Figure size 640x480 with 1 Axes>"
      ]
     },
     "metadata": {},
     "output_type": "display_data"
    },
    {
     "name": "stdout",
     "output_type": "stream",
     "text": [
      "                perc_100TeV  perc_1GeV\n",
      "Ibc choked jet     0.146010   0.146010\n",
      "Ibc                0.265972   0.265972\n",
      "IIn                0.339051   0.339051\n",
      "IIP                0.599312   0.599312\n"
     ]
    }
   ],
   "source": [
    "for gamma in [2, 2.5]:\n",
    "    energy_dict = {\n",
    "        'Ibc choked jet': f'{name_root}/box/Ibc/20',\n",
    "        'Ibc': f'{name_root}/box/Ibc/100',\n",
    "        'IIn': f'{name_root}/box/IIn/1000',\n",
    "        'IIP': f'{name_root}/box/IIP/100'\n",
    "    }\n",
    "\n",
    "    with open(energy_range_filename, \"rb\") as f:\n",
    "        e_range = pickle.load(f)\n",
    "\n",
    "    e_range_dict = {\n",
    "        'Ibc': e_range[gamma]['box']['Ibc'],\n",
    "        'IIn': e_range[gamma]['box']['IIn'],\n",
    "        'IIP': e_range[gamma]['box']['IIP']\n",
    "    }\n",
    "\n",
    "    fig, ax = plt.subplots()\n",
    "\n",
    "    ax, p, l = plot_diffuse_flux_measurement(\n",
    "        ax, \n",
    "        label=\"IceCube diffuse flux \\nApJ 809, 2015\", \n",
    "        fit='joint_15'\n",
    "    )\n",
    "#     ax, p, l = plot_diffuse_flux_measurement(ax, label=\"Northern Tracks '19\", fit='northern_tracks_19', color='grey')\n",
    "    \n",
    "    contrib = pd.DataFrame()\n",
    "    for icat, pat in energy_dict.items():\n",
    "\n",
    "        cat = icat if 'Ibc' not in icat else 'Ibc'\n",
    "        \n",
    "        limit_path = limit_output_path(pat + \"/real_unblind/\")\n",
    "        with open(limit_path, 'rb') as f:\n",
    "            limits = pickle.load(f)\n",
    "\n",
    "        ind = np.array(limits['gamma']) == gamma\n",
    "        energy = float(np.array(limits['energy'])[ind])\n",
    "        \n",
    "        logger.debug(f\"energy is {energy}\")\n",
    "\n",
    "        energy_range_gev = np.logspace(np.log10(e_range_dict[cat][0]), np.log10(e_range_dict[cat][1]), 5)\n",
    "#        energy_kwargs = {'e_min_gev': min(energy_range_gev), 'e_max_gev': max(energy_range_gev)}\n",
    "        pop_flux = get_population_flux(energy * u.erg, get_ccsn_rate_type_function(cat), gamma, z)\n",
    "        flux_time_esquared = pop_flux * energy_range_gev ** (-1 * gamma + 2) # * energy_range_gev ** 2\n",
    "        perc = pop_flux * 1e5 ** (-1 * gamma) / get_diffuse_flux_at_100TeV()[0]\n",
    "        perc_1GeV = pop_flux / get_diffuse_flux_at_1GeV()[0]\n",
    "        \n",
    "        contrib = contrib.append(\n",
    "            pd.DataFrame([[perc.value, perc_1GeV.value]], columns=['perc_100TeV', 'perc_1GeV'], index=[icat])\n",
    "        )\n",
    "\n",
    "        ls = '-' if 'choked jet' not in icat else ':'\n",
    "        ax.errorbar(energy_range_gev, flux_time_esquared.value, yerr=.1* flux_time_esquared.value, \n",
    "                    uplims=True, color=get_sn_color(cat), \n",
    "#                     label=f\"{icat}: {perc*100:.2f}% @100 TeV\", \n",
    "                    label=icat,\n",
    "                    ls=ls)\n",
    "\n",
    "#     ax.legend(fontsize=legend_fs, ncol=3)\n",
    "    plt.legend(bbox_to_anchor=(0., 1.02, 1., .102), loc='lower left', ncol=3, \n",
    "               mode='expand', fontsize=legend_fs, borderaxespad=0.)\n",
    "    ax.set_xscale('log')\n",
    "    ax.set_yscale('log')\n",
    "    ax.set_xlabel('E [GeV]', fontsize=axis_label_fs)\n",
    "    ax.set_ylabel('Flux [GeV s$^{-1}$ cm$^{-2}$ sr$^{-1}$]', fontsize=axis_label_fs)\n",
    "    ax.tick_params(axis='x', labelsize=axis_ticks_fs)\n",
    "    ax.tick_params(axis='y', labelsize=axis_ticks_fs)\n",
    "#     ax.annotate(preliminary_txt, color=preliminary_color, fontsize=preliminary_fs,\n",
    "#                 xy=(0.01, 0.02), xycoords='axes fraction',\n",
    "#                 horizontalalignment='left', verticalalignment='bottom')\n",
    "    fig.tight_layout()\n",
    "#     xlim_high = ax.get_xlim()[-1]\n",
    "#     ax.set_xlim((1e2, xlim_high))\n",
    "\n",
    "    filename = os.path.join(paper_ccsn_plot_dir, \"limits\", f\"{gamma:.2f}\", f\"DiffuseFlux.pdf\")\n",
    "    d = os.path.dirname(filename)\n",
    "    if not os.path.isdir(d):\n",
    "        os.makedirs(d)\n",
    "\n",
    "    logger.info(f\"saving under {filename}\")\n",
    "    fig.savefig(filename)\n",
    "\n",
    "    plt.show()\n",
    "    plt.close()\n",
    "    \n",
    "    print(contrib)"
   ]
  },
  {
   "cell_type": "markdown",
   "metadata": {},
   "source": [
    "# LaTex"
   ]
  },
  {
   "cell_type": "code",
   "execution_count": 53,
   "metadata": {},
   "outputs": [],
   "source": [
    "from flarestack.analyses.ccsn.necker_2019.unblinding_scripts.unblind_updated_ccsn import name_root as ccsn_name_root\n",
    "result_filename = os.path.join(unbliding_dir, ccsn_name_root, 'pre_trial_pvalues.csv')\n",
    "res = pd.read_csv(result_filename, index_col=0)"
   ]
  },
  {
   "cell_type": "code",
   "execution_count": 106,
   "metadata": {},
   "outputs": [
    {
     "name": "stdout",
     "output_type": "stream",
     "text": [
      "IIn &   -  &  8.6 &  6.3 &  $>$50 &  $>$50 &  $>$50 & 30.1 \\\\ \n",
      "IIP &   -  & 48.6 &  $>$50 & 27.6 &  $>$50 &  $>$50 & 21.6 \\\\ \n",
      "Ibc &  $>$50 &  $>$50 &  $>$50 & 34.8 &   -  &   -  &   -  \\\\ \n",
      "\n",
      "saving under /afs/ifh.de/user/n/neckerja/scratch/fs_dev_branch/flarestack__data/output/plots/analyses/ccsn/necker_2019/paper/p-values.tex\n"
     ]
    }
   ],
   "source": [
    "txt = \"\"\n",
    "for i, l in res.iterrows():\n",
    "    txt += l.catalogue + \" & \"\n",
    "    for n in list(l)[1:]:\n",
    "        if np.isnan(n):\n",
    "            txt += \"  -  & \"\n",
    "        elif n <= 0.5:\n",
    "            txt += f\"{n*100:4.1f} & \"\n",
    "        else:\n",
    "            txt += f\" $>$50 & \"\n",
    "    txt = txt[:-2]\n",
    "    txt += \"\\\\\\\\ \\n\"\n",
    "    \n",
    "print(txt)\n",
    "\n",
    "fn = os.path.join(paper_ccsn_plot_dir, \"p-values.tex\")\n",
    "print(f\"saving under {fn}\")\n",
    "with open(fn, \"w\") as f:\n",
    "    f.write(txt)"
   ]
  },
  {
   "cell_type": "markdown",
   "metadata": {},
   "source": [
    "# Differential Sensitivity"
   ]
  },
  {
   "cell_type": "code",
   "execution_count": 163,
   "metadata": {},
   "outputs": [],
   "source": [
    "diferential_sens_fn = \"/afs/ifh.de/user/n/neckerja/scratch/fs_dev_branch/flarestack__data/storage/analyses/ccsn/necker_2019/calculate_sensitivity_ps-v002p03/fit_weights/differential_sens.pkl\"\n",
    "\n",
    "with open(diferential_sens_fn, \"rb\") as f:\n",
    "    differential_sens = pickle.load(f)"
   ]
  },
  {
   "cell_type": "code",
   "execution_count": 169,
   "metadata": {},
   "outputs": [
    {
     "data": {
      "image/png": "[encoded data removed]",
      "text/plain": [
       "<Figure size 842.4x347.088 with 6 Axes>"
      ]
     },
     "metadata": {
      "needs_background": "light"
     },
     "output_type": "display_data"
    },
    {
     "data": {
      "image/png": "[encoded data removed]",
      "text/plain": [
       "<Figure size 842.4x347.088 with 6 Axes>"
      ]
     },
     "metadata": {
      "needs_background": "light"
     },
     "output_type": "display_data"
    }
   ],
   "source": [
    "ls = [\"-\", \"--\", \":\", \"-.\"]\n",
    "\n",
    "\n",
    "for gamma in [2, 2.5]:\n",
    "    fig, axs = plt.subplots(\n",
    "        nrows=2,\n",
    "        ncols=3,\n",
    "        figsize=(5.85 * 3 / 1.5, 3.6154988341868854 * 2 / 1.5),\n",
    "        gridspec_kw={\"hspace\": 0, \"wspace\": 0},\n",
    "        sharex=\"all\",\n",
    "#         sharey=\"all\",\n",
    "    )\n",
    "    for i, (pdf_type, sn_dict) in enumerate(differential_sens.items()):\n",
    "        for j, (sn_type, time_dict) in enumerate(sn_dict.items()):\n",
    "            for k, (time, gamma_dict) in enumerate(time_dict.items()):\n",
    "                \n",
    "                energies = list()\n",
    "                sensitivities = list()\n",
    "                \n",
    "                for erange_name, s in gamma_dict[gamma].items():\n",
    "#                     print(erange_name, s)\n",
    "                    if len(s):\n",
    "                        sens, sens_e = s\n",
    "                    else:\n",
    "                        sens = np.nan\n",
    "                        \n",
    "                    elow_name, ehigh_name = erange_name.split(\"_\")\n",
    "                    elow = float(elow_name.split(\"elow\")[-1])\n",
    "                    ehigh = float(ehigh_name.split(\"ehigh\")[-1])\n",
    "\n",
    "\n",
    "                    if (not len(energies)):\n",
    "                        energies.append(elow)\n",
    "\n",
    "                    energies.append(ehigh)\n",
    "                    sensitivities.append(sens)\n",
    "                    \n",
    "                sensitivities.append(sens)\n",
    "                \n",
    "                ax = axs[i][j]\n",
    "                \n",
    "                ax.step(energies, sensitivities, color=get_sn_color(sn_type), ls=ls[k])\n",
    "                ax.set_yscale('log')\n",
    "                ax.set_xscale('log')\n",
    "                ax.grid('on')\n",
    "                \n",
    "    axs[-1][-1].axis('off')\n",
    "\n",
    "    plt.show()"
   ]
  },
  {
   "cell_type": "markdown",
   "metadata": {},
   "source": [
    "# Copy files from other storage directory"
   ]
  },
  {
   "cell_type": "code",
   "execution_count": 133,
   "metadata": {
    "scrolled": true
   },
   "outputs": [
    {
     "name": "stderr",
     "output_type": "stream",
     "text": [
      "  0%|          | 0/778 [00:00<?, ?it/s]"
     ]
    },
    {
     "name": "stdout",
     "output_type": "stream",
     "text": [
      "copying 778 files\n"
     ]
    },
    {
     "name": "stderr",
     "output_type": "stream",
     "text": [
      "100%|██████████| 778/778 [00:02<00:00, 319.49it/s]\n"
     ]
    }
   ],
   "source": [
    "directories = [\n",
    "    \"storage/pickles/analyses/ccsn/necker_2019/calculate_sensitivity_ps-v002p03/fit_weights\",\n",
    "    \"storage/pickles/injection_values/analyses/ccsn/necker_2019/calculate_sensitivity_ps-v002p03/fit_weights\"\n",
    "]\n",
    "\n",
    "sources = list()\n",
    "destins = list()\n",
    "\n",
    "for d in directories:\n",
    "\n",
    "    src_base = f\"/lustre/fs23/group/icecube/necker/flarestack_11102021/flarestack__data/{d}\"\n",
    "    dst_base = f\"/afs/ifh.de/group/amanda/scratch/neckerja/fs_dev_branch/flarestack__data/{d}\"\n",
    "\n",
    "    for pdf_type in [\"box\", \"decay\"]:\n",
    "        c = sn_cats if pdf_type == \"box\" else [\"IIn\", \"IIP\"]\n",
    "        for cat in c:\n",
    "            time_pdfs = sn_time_pdfs(cat, pdf_type=pdf_type)\n",
    "\n",
    "            # Loop over time PDFs\n",
    "            for llh_time in time_pdfs:\n",
    "\n",
    "                if pdf_type == \"box\":\n",
    "                    time_key = str(llh_time[\"post_window\"] + llh_time[\"pre_window\"])\n",
    "                    pdf_time = (\n",
    "                        float(time_key)\n",
    "                        if llh_time[\"pre_window\"] == 0\n",
    "                        else -float(time_key)\n",
    "                    )\n",
    "\n",
    "                else:\n",
    "                    time_key = str(llh_time[\"decay_time\"])\n",
    "                    pdf_time = llh_time[\"decay_time\"] / 364.25\n",
    "\n",
    "                for g in [\"2\", \"2.5\"]:\n",
    "\n",
    "                    src_dir = f\"{src_base}/{pdf_type}/{cat}/{time_key}/{g}/\"\n",
    "\n",
    "                    if g == \"2\" and not os.path.exists(src_dir):\n",
    "                        g = \"2.0\"\n",
    "                        src_dir = \"/\" + src_dir.strip(\"2/\") + \"/2.0/\"\n",
    "\n",
    "                    dst_dir = f\"{dst_base}/{pdf_type}/{cat}/{time_key}/{g}/\"\n",
    "\n",
    "                    for f in os.listdir(src_dir):\n",
    "\n",
    "                        src = f\"{src_dir}{f}\"\n",
    "                        dst = f\"{dst_dir}{f}\"\n",
    "                        \n",
    "                        sources.append(src)\n",
    "                        destins.append(dst)\n",
    "\n",
    "print(f\"copying {len(sources)} files\")\n",
    "\n",
    "for src, dst in tqdm.tqdm(zip(sources, destins), total=len(sources)):\n",
    "    #print(f\"\\ncopy \\n{src} \\nto \\n{dst}\")\n",
    "\n",
    "    dst_d = os.path.dirname(dst)\n",
    "    if not os.path.isdir(dst_d):\n",
    "        print(f\"making {dst_d}\")\n",
    "        os.makedirs(dst_d)\n",
    "    \n",
    "    if os.path.isfile(src):\n",
    "        shutil.copy(src, dst)\n",
    "    if os.path.isdir(src):\n",
    "        try:\n",
    "            shutil.copytree(src, dst)\n",
    "        except shutil.Error as exc:\n",
    "            errors = exc.args[0]\n",
    "            for error in errors:\n",
    "                src, dst, msg = error\n",
    "                #print(\"\\n\\n====================================\\n\", src, dst, msg, \"\\n\\n\")\n",
    "            continue\n",
    "        except FileExistsError:\n",
    "#             print(f\"{dst}\\n-----> File exists!\")\n",
    "            continue\n",
    "            \n",
    "        print(\"copied!\")"
   ]
  },
  {
   "cell_type": "code",
   "execution_count": 114,
   "metadata": {},
   "outputs": [
    {
     "data": {
      "text/plain": [
       "'storage/pickles/injection_values/analyses/ccsn/necker_2019/calculate_sensitivity_ps-v002p03/fit_weights'"
      ]
     },
     "execution_count": 114,
     "metadata": {},
     "output_type": "execute_result"
    }
   ],
   "source": [
    "d"
   ]
  },
  {
   "cell_type": "code",
   "execution_count": 40,
   "metadata": {},
   "outputs": [
    {
     "data": {
      "text/plain": [
       "False"
      ]
     },
     "execution_count": 40,
     "metadata": {},
     "output_type": "execute_result"
    }
   ],
   "source": [
    "src_dir.strip(\"/2.0/\") == d"
   ]
  },
  {
   "cell_type": "code",
   "execution_count": 38,
   "metadata": {},
   "outputs": [
    {
     "data": {
      "text/plain": [
       "['2.5', '2.0']"
      ]
     },
     "execution_count": 38,
     "metadata": {},
     "output_type": "execute_result"
    }
   ],
   "source": [
    "d = '/afs/ifh.de/user/n/neckerja/lustre/flarestack_11102021/flarestack__data/storage/pickles/analyses/ccsn/necker_2019/calculate_sensitivity_ps-v002p03/fit_weights/box/IIn/100'\n",
    "os.listdir(d)"
   ]
  },
  {
   "cell_type": "code",
   "execution_count": 47,
   "metadata": {},
   "outputs": [
    {
     "data": {
      "text/plain": [
       "['103.7']"
      ]
     },
     "execution_count": 47,
     "metadata": {},
     "output_type": "execute_result"
    }
   ],
   "source": [
    "d = '/afs/ifh.de/user/n/neckerja/scratch/flarestack__data/storage/pickles/analyses/ccsn/necker_2019/calculate_sensitivity_ps-v002p03/fit_weights/box/IIn/100/2.0/'\n",
    "os.listdir(d)"
   ]
  },
  {
   "cell_type": "code",
   "execution_count": 41,
   "metadata": {},
   "outputs": [
    {
     "data": {
      "text/plain": [
       "'/afs/ifh.de/user/n/neckerja/lustre/flarestack_11102021/flarestack__data/storage/pickles/analyses/ccsn/necker_2019/calculate_sensitivity_ps-v002p03/fit_weights/box/IIn/100'"
      ]
     },
     "execution_count": 41,
     "metadata": {},
     "output_type": "execute_result"
    }
   ],
   "source": [
    "d"
   ]
  },
  {
   "cell_type": "code",
   "execution_count": 43,
   "metadata": {},
   "outputs": [
    {
     "data": {
      "text/plain": [
       "'afs/ifh.de/user/n/neckerja/lustre/flarestack_11102021/flarestack__data/storage/pickles/analyses/ccsn/necker_2019/calculate_sensitivity_ps-v002p03/fit_weights/box/IIn/1'"
      ]
     },
     "execution_count": 43,
     "metadata": {},
     "output_type": "execute_result"
    }
   ],
   "source": [
    "src_dir.strip(\"/2.0/\")"
   ]
  },
  {
   "cell_type": "code",
   "execution_count": 44,
   "metadata": {},
   "outputs": [
    {
     "data": {
      "text/plain": [
       "'afs/ifh.de/user/n/neckerja/lustre/flarestack_11102021/flarestack__data/storage/pickles/analyses/ccsn/necker_2019/calculate_sensitivity_ps-v002p03/fit_weights/box/IIn/100/2.0/'"
      ]
     },
     "execution_count": 44,
     "metadata": {},
     "output_type": "execute_result"
    }
   ],
   "source": [
    "src_dir"
   ]
  },
  {
   "cell_type": "code",
   "execution_count": 63,
   "metadata": {},
   "outputs": [
    {
     "data": {
      "text/plain": [
       "'/afs/ifh.de/user/n/neckerja/lustre/flarestack_11102021/flarestack__data/storage/pickles/analyses/ccsn/necker_2019/calculate_sensitivity_ps-v002p03/fit_weights/box/IIP/100/2.0/e_min_gev'"
      ]
     },
     "execution_count": 63,
     "metadata": {},
     "output_type": "execute_result"
    }
   ],
   "source": [
    "src"
   ]
  },
  {
   "cell_type": "code",
   "execution_count": 64,
   "metadata": {},
   "outputs": [
    {
     "data": {
      "text/plain": [
       "'/afs/ifh.de/user/n/neckerja/scratch/fs_dev_branch/flarestack__data/storage/pickles/analyses/ccsn/necker_2019/calculate_sensitivity_ps-v002p03/fit_weights/box/IIP/100/2.0/e_min_gev'"
      ]
     },
     "execution_count": 64,
     "metadata": {},
     "output_type": "execute_result"
    }
   ],
   "source": [
    "dst"
   ]
  },
  {
   "cell_type": "code",
   "execution_count": 65,
   "metadata": {},
   "outputs": [
    {
     "name": "stdout",
     "output_type": "stream",
     "text": [
      "\n"
     ]
    }
   ],
   "source": [
    "cmd = f\"cp -r {src_dir} {dst_dir}\"\n",
    "process = subprocess.Popen(cmd, stdout=subprocess.PIPE, shell=True)\n",
    "tmp = process.stdout.read().decode()\n",
    "print(tmp)"
   ]
  },
  {
   "cell_type": "code",
   "execution_count": 70,
   "metadata": {},
   "outputs": [],
   "source": [
    "os.mkdir(\"hello\")"
   ]
  },
  {
   "cell_type": "code",
   "execution_count": 71,
   "metadata": {},
   "outputs": [],
   "source": [
    "\n",
    "os.mkdir(\"hello/shit\")"
   ]
  },
  {
   "cell_type": "code",
   "execution_count": 72,
   "metadata": {},
   "outputs": [],
   "source": [
    "os.mkdir(\"hello2\")"
   ]
  },
  {
   "cell_type": "code",
   "execution_count": 74,
   "metadata": {},
   "outputs": [
    {
     "data": {
      "text/plain": [
       "'hello2/hello'"
      ]
     },
     "execution_count": 74,
     "metadata": {},
     "output_type": "execute_result"
    }
   ],
   "source": [
    "shutil.copytree(\"hello\", \"hello2/hello\")"
   ]
  },
  {
   "cell_type": "code",
   "execution_count": 76,
   "metadata": {},
   "outputs": [
    {
     "data": {
      "text/plain": [
       "['shit']"
      ]
     },
     "execution_count": 76,
     "metadata": {},
     "output_type": "execute_result"
    }
   ],
   "source": [
    "os.listdir(\"hello2/hello\")"
   ]
  },
  {
   "cell_type": "code",
   "execution_count": 77,
   "metadata": {},
   "outputs": [],
   "source": [
    "with open(\"hello/shit/txt.txt\", \"w\") as f:\n",
    "    f.write(\"fuck\")"
   ]
  },
  {
   "cell_type": "code",
   "execution_count": 78,
   "metadata": {},
   "outputs": [],
   "source": [
    "shutil.rmtree(\"hello2/hello\")"
   ]
  },
  {
   "cell_type": "code",
   "execution_count": 79,
   "metadata": {},
   "outputs": [],
   "source": [
    "os.mkdir(\"hello2/hello\")"
   ]
  },
  {
   "cell_type": "code",
   "execution_count": 80,
   "metadata": {},
   "outputs": [
    {
     "data": {
      "text/plain": [
       "'hello2/hello/shit'"
      ]
     },
     "execution_count": 80,
     "metadata": {},
     "output_type": "execute_result"
    }
   ],
   "source": [
    "shutil.copytree(\"hello/shit\", \"hello2/hello/shit\")"
   ]
  },
  {
   "cell_type": "code",
   "execution_count": 135,
   "metadata": {},
   "outputs": [],
   "source": [
    "f = \"/afs/ifh.de/user/n/neckerja/scratch/fs_dev_branch/flarestack__data/storage/pickles/analyses/ccsn/necker_2019/calculate_sensitivity_ps-v002p03/fit_weights/box/IIn/300/2.0/merged/0.pkl\"\n",
    "#f = \"/lustre/fs23/group/icecube/necker/flarestack_11102021/flarestack__data/storage/pickles/analyses/ccsn/necker_2019/calculate_sensitivity_ps-v002p03/fit_weights/box/IIn/300/2.0/merged/0.pkl\"\n",
    "\n",
    "with open(f, \"rb\") as f:\n",
    "    dat = pickle.load(f)\n",
    "    \n"
   ]
  },
  {
   "cell_type": "code",
   "execution_count": 136,
   "metadata": {},
   "outputs": [
    {
     "data": {
      "text/plain": [
       "dict_keys(['TS', 'Parameters', 'Flags'])"
      ]
     },
     "execution_count": 136,
     "metadata": {},
     "output_type": "execute_result"
    }
   ],
   "source": [
    "dat.keys()"
   ]
  },
  {
   "cell_type": "code",
   "execution_count": 107,
   "metadata": {},
   "outputs": [],
   "source": [
    "from flarestack.utils.custom_dataset import custom_dataset\n",
    "from flarestack.data.icecube import ps_v002_p03\n",
    "from flarestack.core.results import ResultsHandler\n",
    "import tqdm"
   ]
  },
  {
   "cell_type": "code",
   "execution_count": 123,
   "metadata": {},
   "outputs": [],
   "source": [
    "name = \"analyses/ccsn/necker_2019/calculate_sensitivity_ps-v002p03/fit_weights/box/IIn/300/2.0\"\n",
    "cat_path = \"/afs/ifh.de/user/n/neckerja/flarestack/flarestack/analyses/ccsn/necker_2019/catalogues/IIn.npy\"\n",
    "catalogue = np.load(cat_path)\n",
    "\n",
    "\n",
    "mh_dict = {\n",
    "    \"name\": name,\n",
    "    \"mh_name\": \"fit_weights\",\n",
    "    \"dataset\": custom_dataset(\n",
    "        ps_v002_p03, catalogue, {\n",
    "            \"time_pdf_name\": \"box\",\n",
    "            \"pre_window\": 0,\n",
    "            \"post_window\": 300\n",
    "        }\n",
    "    ),\n",
    "    \"catalogue\": cat_path,\n",
    "    \"inj_dict\": {\n",
    "        \"injection_energy_pdf\": {\n",
    "            \"energy_pdf_name\": \"power_law\",\n",
    "            \"gamma\": 2.0,\n",
    "            \"e_min_gev\": 100.0,\n",
    "            \"e_max_gev\": 316.22776601683796\n",
    "        },\n",
    "        \"injection_sig_time_pdf\": {\n",
    "            \"time_pdf_name\": \"box\",\n",
    "            \"pre_window\": 0,\n",
    "            \"post_window\": 300\n",
    "        },\n",
    "        \"poisson_smear_bool\": True\n",
    "    },\n",
    "    \"llh_dict\": {\n",
    "        \"llh_name\": \"standard\",\n",
    "        \"llh_energy_pdf\": {\n",
    "            \"energy_pdf_name\": \"power_law\"\n",
    "        },\n",
    "        \"llh_sig_time_pdf\": {\n",
    "            \"time_pdf_name\": \"box\",\n",
    "            \"pre_window\": 0,\n",
    "            \"post_window\": 300\n",
    "        },\n",
    "        \"llh_bkg_time_pdf\": {\n",
    "            \"time_pdf_name\": \"steady\"\n",
    "        }\n",
    "    },\n",
    "    \"scale\": 16530.0,\n",
    "    \"n_trials\": 10,\n",
    "    \"n_steps\": 10,\n",
    "    \"allow_extrapolated_sensitivity\": False,\n",
    "    \"background_ntrials_factor\": 0\n",
    "}\n",
    "\n",
    "\n"
   ]
  },
  {
   "cell_type": "code",
   "execution_count": 124,
   "metadata": {},
   "outputs": [
    {
     "name": "stderr",
     "output_type": "stream",
     "text": [
      "DEBUG:flarestack.core.results:Did not load /afs/ifh.de/user/n/neckerja/scratch/fs_dev_branch/flarestack__data/storage/pickles/injection_values/analyses/ccsn/necker_2019/calculate_sensitivity_ps-v002p03/fit_weights/box/IIn/300/2.0/differential_sens, not a file!\n",
      "DEBUG:flarestack.core.results:Did not load /afs/ifh.de/user/n/neckerja/scratch/fs_dev_branch/flarestack__data/storage/pickles/injection_values/analyses/ccsn/necker_2019/calculate_sensitivity_ps-v002p03/fit_weights/box/IIn/300/2.0/e_min_gev, not a file!\n",
      "DEBUG:flarestack.core.results:Did not load /afs/ifh.de/user/n/neckerja/scratch/fs_dev_branch/flarestack__data/storage/pickles/injection_values/analyses/ccsn/necker_2019/calculate_sensitivity_ps-v002p03/fit_weights/box/IIn/300/2.0/e_max_gev, not a file!\n",
      "DEBUG:flarestack.core.results:loading merged data from /afs/ifh.de/user/n/neckerja/scratch/fs_dev_branch/flarestack__data/storage/pickles/analyses/ccsn/necker_2019/calculate_sensitivity_ps-v002p03/fit_weights/box/IIn/300/2.0/merged/differential_sens.pkl\n",
      "WARNING:flarestack.core.results:Failed loading: /afs/ifh.de/user/n/neckerja/scratch/fs_dev_branch/flarestack__data/storage/pickles/analyses/ccsn/necker_2019/calculate_sensitivity_ps-v002p03/fit_weights/box/IIn/300/2.0/differential_sens/elow1.0e+02_ehigh3.16e+02: [Errno 21] Is a directory: '/afs/ifh.de/user/n/neckerja/scratch/fs_dev_branch/flarestack__data/storage/pickles/analyses/ccsn/necker_2019/calculate_sensitivity_ps-v002p03/fit_weights/box/IIn/300/2.0/differential_sens/elow1.0e+02_ehigh3.16e+02'\n",
      "WARNING:flarestack.core.results:Failed loading: /afs/ifh.de/user/n/neckerja/scratch/fs_dev_branch/flarestack__data/storage/pickles/analyses/ccsn/necker_2019/calculate_sensitivity_ps-v002p03/fit_weights/box/IIn/300/2.0/differential_sens/elow3.2e+02_ehigh1.00e+03: [Errno 21] Is a directory: '/afs/ifh.de/user/n/neckerja/scratch/fs_dev_branch/flarestack__data/storage/pickles/analyses/ccsn/necker_2019/calculate_sensitivity_ps-v002p03/fit_weights/box/IIn/300/2.0/differential_sens/elow3.2e+02_ehigh1.00e+03'\n",
      "WARNING:flarestack.core.results:Failed loading: /afs/ifh.de/user/n/neckerja/scratch/fs_dev_branch/flarestack__data/storage/pickles/analyses/ccsn/necker_2019/calculate_sensitivity_ps-v002p03/fit_weights/box/IIn/300/2.0/differential_sens/elow1.0e+03_ehigh3.16e+03: [Errno 21] Is a directory: '/afs/ifh.de/user/n/neckerja/scratch/fs_dev_branch/flarestack__data/storage/pickles/analyses/ccsn/necker_2019/calculate_sensitivity_ps-v002p03/fit_weights/box/IIn/300/2.0/differential_sens/elow1.0e+03_ehigh3.16e+03'\n",
      "WARNING:flarestack.core.results:Failed loading: /afs/ifh.de/user/n/neckerja/scratch/fs_dev_branch/flarestack__data/storage/pickles/analyses/ccsn/necker_2019/calculate_sensitivity_ps-v002p03/fit_weights/box/IIn/300/2.0/differential_sens/elow3.2e+03_ehigh1.00e+04: [Errno 21] Is a directory: '/afs/ifh.de/user/n/neckerja/scratch/fs_dev_branch/flarestack__data/storage/pickles/analyses/ccsn/necker_2019/calculate_sensitivity_ps-v002p03/fit_weights/box/IIn/300/2.0/differential_sens/elow3.2e+03_ehigh1.00e+04'\n",
      "WARNING:flarestack.core.results:Failed loading: /afs/ifh.de/user/n/neckerja/scratch/fs_dev_branch/flarestack__data/storage/pickles/analyses/ccsn/necker_2019/calculate_sensitivity_ps-v002p03/fit_weights/box/IIn/300/2.0/differential_sens/elow1.0e+04_ehigh3.16e+04: [Errno 21] Is a directory: '/afs/ifh.de/user/n/neckerja/scratch/fs_dev_branch/flarestack__data/storage/pickles/analyses/ccsn/necker_2019/calculate_sensitivity_ps-v002p03/fit_weights/box/IIn/300/2.0/differential_sens/elow1.0e+04_ehigh3.16e+04'\n",
      "WARNING:flarestack.core.results:Failed loading: /afs/ifh.de/user/n/neckerja/scratch/fs_dev_branch/flarestack__data/storage/pickles/analyses/ccsn/necker_2019/calculate_sensitivity_ps-v002p03/fit_weights/box/IIn/300/2.0/differential_sens/elow3.2e+04_ehigh1.00e+05: [Errno 21] Is a directory: '/afs/ifh.de/user/n/neckerja/scratch/fs_dev_branch/flarestack__data/storage/pickles/analyses/ccsn/necker_2019/calculate_sensitivity_ps-v002p03/fit_weights/box/IIn/300/2.0/differential_sens/elow3.2e+04_ehigh1.00e+05'\n",
      "WARNING:flarestack.core.results:Failed loading: /afs/ifh.de/user/n/neckerja/scratch/fs_dev_branch/flarestack__data/storage/pickles/analyses/ccsn/necker_2019/calculate_sensitivity_ps-v002p03/fit_weights/box/IIn/300/2.0/differential_sens/elow1.0e+05_ehigh3.16e+05: [Errno 21] Is a directory: '/afs/ifh.de/user/n/neckerja/scratch/fs_dev_branch/flarestack__data/storage/pickles/analyses/ccsn/necker_2019/calculate_sensitivity_ps-v002p03/fit_weights/box/IIn/300/2.0/differential_sens/elow1.0e+05_ehigh3.16e+05'\n",
      "WARNING:flarestack.core.results:Failed loading: /afs/ifh.de/user/n/neckerja/scratch/fs_dev_branch/flarestack__data/storage/pickles/analyses/ccsn/necker_2019/calculate_sensitivity_ps-v002p03/fit_weights/box/IIn/300/2.0/differential_sens/elow3.2e+05_ehigh1.00e+06: [Errno 21] Is a directory: '/afs/ifh.de/user/n/neckerja/scratch/fs_dev_branch/flarestack__data/storage/pickles/analyses/ccsn/necker_2019/calculate_sensitivity_ps-v002p03/fit_weights/box/IIn/300/2.0/differential_sens/elow3.2e+05_ehigh1.00e+06'\n",
      "WARNING:flarestack.core.results:Failed loading: /afs/ifh.de/user/n/neckerja/scratch/fs_dev_branch/flarestack__data/storage/pickles/analyses/ccsn/necker_2019/calculate_sensitivity_ps-v002p03/fit_weights/box/IIn/300/2.0/differential_sens/elow1.0e+06_ehigh3.16e+06: [Errno 21] Is a directory: '/afs/ifh.de/user/n/neckerja/scratch/fs_dev_branch/flarestack__data/storage/pickles/analyses/ccsn/necker_2019/calculate_sensitivity_ps-v002p03/fit_weights/box/IIn/300/2.0/differential_sens/elow1.0e+06_ehigh3.16e+06'\n",
      "WARNING:flarestack.core.results:Failed loading: /afs/ifh.de/user/n/neckerja/scratch/fs_dev_branch/flarestack__data/storage/pickles/analyses/ccsn/necker_2019/calculate_sensitivity_ps-v002p03/fit_weights/box/IIn/300/2.0/differential_sens/elow3.2e+06_ehigh1.00e+07: [Errno 21] Is a directory: '/afs/ifh.de/user/n/neckerja/scratch/fs_dev_branch/flarestack__data/storage/pickles/analyses/ccsn/necker_2019/calculate_sensitivity_ps-v002p03/fit_weights/box/IIn/300/2.0/differential_sens/elow3.2e+06_ehigh1.00e+07'\n",
      "DEBUG:flarestack.core.results:loading merged data from /afs/ifh.de/user/n/neckerja/scratch/fs_dev_branch/flarestack__data/storage/pickles/analyses/ccsn/necker_2019/calculate_sensitivity_ps-v002p03/fit_weights/box/IIn/300/2.0/merged/34.57.pkl\n",
      "DEBUG:flarestack.core.results:loading merged data from /afs/ifh.de/user/n/neckerja/scratch/fs_dev_branch/flarestack__data/storage/pickles/analyses/ccsn/necker_2019/calculate_sensitivity_ps-v002p03/fit_weights/box/IIn/300/2.0/merged/28.8.pkl\n",
      "DEBUG:flarestack.core.results:loading merged data from /afs/ifh.de/user/n/neckerja/scratch/fs_dev_branch/flarestack__data/storage/pickles/analyses/ccsn/necker_2019/calculate_sensitivity_ps-v002p03/fit_weights/box/IIn/300/2.0/merged/e_min_gev.pkl\n",
      "WARNING:flarestack.core.results:Failed loading: /afs/ifh.de/user/n/neckerja/scratch/fs_dev_branch/flarestack__data/storage/pickles/analyses/ccsn/necker_2019/calculate_sensitivity_ps-v002p03/fit_weights/box/IIn/300/2.0/e_min_gev/1778.2794: [Errno 21] Is a directory: '/afs/ifh.de/user/n/neckerja/scratch/fs_dev_branch/flarestack__data/storage/pickles/analyses/ccsn/necker_2019/calculate_sensitivity_ps-v002p03/fit_weights/box/IIn/300/2.0/e_min_gev/1778.2794'\n",
      "WARNING:flarestack.core.results:Failed loading: /afs/ifh.de/user/n/neckerja/scratch/fs_dev_branch/flarestack__data/storage/pickles/analyses/ccsn/necker_2019/calculate_sensitivity_ps-v002p03/fit_weights/box/IIn/300/2.0/e_min_gev/100.0000: [Errno 21] Is a directory: '/afs/ifh.de/user/n/neckerja/scratch/fs_dev_branch/flarestack__data/storage/pickles/analyses/ccsn/necker_2019/calculate_sensitivity_ps-v002p03/fit_weights/box/IIn/300/2.0/e_min_gev/100.0000'\n",
      "WARNING:flarestack.core.results:Failed loading: /afs/ifh.de/user/n/neckerja/scratch/fs_dev_branch/flarestack__data/storage/pickles/analyses/ccsn/necker_2019/calculate_sensitivity_ps-v002p03/fit_weights/box/IIn/300/2.0/e_min_gev/31622.7766: [Errno 21] Is a directory: '/afs/ifh.de/user/n/neckerja/scratch/fs_dev_branch/flarestack__data/storage/pickles/analyses/ccsn/necker_2019/calculate_sensitivity_ps-v002p03/fit_weights/box/IIn/300/2.0/e_min_gev/31622.7766'\n",
      "DEBUG:flarestack.core.results:loading merged data from /afs/ifh.de/user/n/neckerja/scratch/fs_dev_branch/flarestack__data/storage/pickles/analyses/ccsn/necker_2019/calculate_sensitivity_ps-v002p03/fit_weights/box/IIn/300/2.0/merged/e_max_gev.pkl\n",
      "WARNING:flarestack.core.results:Failed loading: /afs/ifh.de/user/n/neckerja/scratch/fs_dev_branch/flarestack__data/storage/pickles/analyses/ccsn/necker_2019/calculate_sensitivity_ps-v002p03/fit_weights/box/IIn/300/2.0/e_max_gev/10000000.0000: [Errno 21] Is a directory: '/afs/ifh.de/user/n/neckerja/scratch/fs_dev_branch/flarestack__data/storage/pickles/analyses/ccsn/necker_2019/calculate_sensitivity_ps-v002p03/fit_weights/box/IIn/300/2.0/e_max_gev/10000000.0000'\n",
      "WARNING:flarestack.core.results:Failed loading: /afs/ifh.de/user/n/neckerja/scratch/fs_dev_branch/flarestack__data/storage/pickles/analyses/ccsn/necker_2019/calculate_sensitivity_ps-v002p03/fit_weights/box/IIn/300/2.0/e_max_gev/31622.7766: [Errno 21] Is a directory: '/afs/ifh.de/user/n/neckerja/scratch/fs_dev_branch/flarestack__data/storage/pickles/analyses/ccsn/necker_2019/calculate_sensitivity_ps-v002p03/fit_weights/box/IIn/300/2.0/e_max_gev/31622.7766'\n",
      "WARNING:flarestack.core.results:Failed loading: /afs/ifh.de/user/n/neckerja/scratch/fs_dev_branch/flarestack__data/storage/pickles/analyses/ccsn/necker_2019/calculate_sensitivity_ps-v002p03/fit_weights/box/IIn/300/2.0/e_max_gev/562341.3252: [Errno 21] Is a directory: '/afs/ifh.de/user/n/neckerja/scratch/fs_dev_branch/flarestack__data/storage/pickles/analyses/ccsn/necker_2019/calculate_sensitivity_ps-v002p03/fit_weights/box/IIn/300/2.0/e_max_gev/562341.3252'\n",
      "DEBUG:flarestack.core.results:loading merged data from /afs/ifh.de/user/n/neckerja/scratch/fs_dev_branch/flarestack__data/storage/pickles/analyses/ccsn/necker_2019/calculate_sensitivity_ps-v002p03/fit_weights/box/IIn/300/2.0/merged/51.85.pkl\n",
      "DEBUG:flarestack.core.results:loading merged data from /afs/ifh.de/user/n/neckerja/scratch/fs_dev_branch/flarestack__data/storage/pickles/analyses/ccsn/necker_2019/calculate_sensitivity_ps-v002p03/fit_weights/box/IIn/300/2.0/merged/5.761.pkl\n",
      "DEBUG:flarestack.core.results:loading merged data from /afs/ifh.de/user/n/neckerja/scratch/fs_dev_branch/flarestack__data/storage/pickles/analyses/ccsn/necker_2019/calculate_sensitivity_ps-v002p03/fit_weights/box/IIn/300/2.0/merged/23.04.pkl\n",
      "DEBUG:flarestack.core.results:loading merged data from /afs/ifh.de/user/n/neckerja/scratch/fs_dev_branch/flarestack__data/storage/pickles/analyses/ccsn/necker_2019/calculate_sensitivity_ps-v002p03/fit_weights/box/IIn/300/2.0/merged/0.pkl\n",
      "DEBUG:flarestack.core.results:loading merged data from /afs/ifh.de/user/n/neckerja/scratch/fs_dev_branch/flarestack__data/storage/pickles/analyses/ccsn/necker_2019/calculate_sensitivity_ps-v002p03/fit_weights/box/IIn/300/2.0/merged/46.09.pkl\n",
      "DEBUG:flarestack.core.results:loading merged data from /afs/ifh.de/user/n/neckerja/scratch/fs_dev_branch/flarestack__data/storage/pickles/analyses/ccsn/necker_2019/calculate_sensitivity_ps-v002p03/fit_weights/box/IIn/300/2.0/merged/40.33.pkl\n",
      "DEBUG:flarestack.core.results:loading merged data from /afs/ifh.de/user/n/neckerja/scratch/fs_dev_branch/flarestack__data/storage/pickles/analyses/ccsn/necker_2019/calculate_sensitivity_ps-v002p03/fit_weights/box/IIn/300/2.0/merged/17.28.pkl\n",
      "DEBUG:flarestack.core.results:loading merged data from /afs/ifh.de/user/n/neckerja/scratch/fs_dev_branch/flarestack__data/storage/pickles/analyses/ccsn/necker_2019/calculate_sensitivity_ps-v002p03/fit_weights/box/IIn/300/2.0/merged/11.52.pkl\n",
      "WARNING:flarestack.core.results:No data was found by ResultsHandler object! \n",
      "\n",
      "WARNING:flarestack.core.results:Tried root directory: \n",
      " /afs/ifh.de/user/n/neckerja/scratch/fs_dev_branch/flarestack__data/storage/pickles/analyses/ccsn/necker_2019/calculate_sensitivity_ps-v002p03/fit_weights/box/IIn/300/2.0 \n",
      " \n"
     ]
    },
    {
     "ename": "SystemExit",
     "evalue": "",
     "output_type": "error",
     "traceback": [
      "An exception has occurred, use %tb to see the full traceback.\n",
      "\u001B[0;31mSystemExit\u001B[0m\n"
     ]
    },
    {
     "name": "stderr",
     "output_type": "stream",
     "text": [
      "/afs/ifh.de/user/n/neckerja/scratch/envs/flarestack_env/lib/python3.8/site-packages/IPython/core/interactiveshell.py:3339: UserWarning: To exit: use 'exit', 'quit', or Ctrl-D.\n",
      "  warn(\"To exit: use 'exit', 'quit', or Ctrl-D.\", stacklevel=1)\n"
     ]
    }
   ],
   "source": [
    "rh = ResultsHandler(mh_dict, do_disc=False, do_sens=False)"
   ]
  },
  {
   "cell_type": "code",
   "execution_count": 118,
   "metadata": {},
   "outputs": [
    {
     "data": {
      "text/plain": [
       "['0',\n",
       " '1836',\n",
       " '3673',\n",
       " '5509',\n",
       " '7345',\n",
       " '9182',\n",
       " '1.102E+04',\n",
       " '1.285E+04',\n",
       " '1.469E+04',\n",
       " '1.653E+04']"
      ]
     },
     "execution_count": 118,
     "metadata": {},
     "output_type": "execute_result"
    }
   ],
   "source": [
    "rh.scales"
   ]
  },
  {
   "cell_type": "code",
   "execution_count": 103,
   "metadata": {},
   "outputs": [
    {
     "data": {
      "text/plain": [
       "dict_keys(['TS', 'Parameters', 'Flags'])"
      ]
     },
     "execution_count": 103,
     "metadata": {},
     "output_type": "execute_result"
    }
   ],
   "source": [
    "rh.results['0'].keys()"
   ]
  },
  {
   "cell_type": "code",
   "execution_count": 119,
   "metadata": {},
   "outputs": [
    {
     "data": {
      "text/plain": [
       "dict_keys(['0', '9182', '1.653E+04', '1.102E+04', '1.469E+04', '3673', '1836', '7345', '1.285E+04', '5509'])"
      ]
     },
     "execution_count": 119,
     "metadata": {},
     "output_type": "execute_result"
    }
   ],
   "source": [
    "rh.inj.keys()"
   ]
  },
  {
   "cell_type": "code",
   "execution_count": null,
   "metadata": {},
   "outputs": [],
   "source": []
  }
 ],
 "metadata": {
  "kernelspec": {
   "display_name": "Python 3 (ipykernel)",
   "language": "python",
   "name": "python3"
  },
  "language_info": {
   "codemirror_mode": {
    "name": "ipython",
    "version": 3
   },
   "file_extension": ".py",
   "mimetype": "text/x-python",
   "name": "python",
   "nbconvert_exporter": "python",
   "pygments_lexer": "ipython3",
   "version": "3.9.15"
  }
 },
 "nbformat": 4,
 "nbformat_minor": 4
}